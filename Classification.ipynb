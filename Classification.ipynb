{
  "nbformat": 4,
  "nbformat_minor": 0,
  "metadata": {
    "colab": {
      "name": "Classification.ipynb",
      "provenance": [],
      "collapsed_sections": [
        "bGjYNEjPFiCE",
        "eD9R4p_JGS8j",
        "bwTcVNKCAoJt",
        "awq2lzbxBXgj",
        "AHm9t-_NGYDa",
        "WgzdNcHZGgch",
        "dDw9W32GaThb",
        "XXwxrNdCShlc",
        "l7fUcTZApdLB",
        "22ReLsjTEeCZ",
        "se7bKuAJbulU",
        "pNm8VPigbjay",
        "fYnY8Dp84Utn",
        "oAg57-_ib21t",
        "xwte93dQmMzJ",
        "WrxId6E4AZl-",
        "yJrfI4v50nnV",
        "wTVlUukw3Fcl",
        "y3gLbZhF3UAr",
        "_91uOB4kAOqz",
        "ngqgVtqrIsD-"
      ],
      "include_colab_link": true
    },
    "kernelspec": {
      "name": "python3",
      "display_name": "Python 3"
    },
    "accelerator": "GPU"
  },
  "cells": [
    {
      "cell_type": "markdown",
      "metadata": {
        "id": "view-in-github",
        "colab_type": "text"
      },
      "source": [
        "<a href=\"https://colab.research.google.com/github/Sbarbagnem/AdvancedProject/blob/master/Classification.ipynb\" target=\"_parent\"><img src=\"https://colab.research.google.com/assets/colab-badge.svg\" alt=\"Open In Colab\"/></a>"
      ]
    },
    {
      "cell_type": "markdown",
      "metadata": {
        "id": "bGjYNEjPFiCE",
        "colab_type": "text"
      },
      "source": [
        "# Module"
      ]
    },
    {
      "cell_type": "code",
      "metadata": {
        "id": "V_AUBPWzkgSI",
        "colab_type": "code",
        "colab": {}
      },
      "source": [
        "!pip uninstall scikit-learn -y\n",
        "!pip install scikit-learn==0.21.3\n",
        "!apt-get install swig\n",
        "!pip install smac\n",
        "!pip install smac[all]\n",
        "!pip install smt"
      ],
      "execution_count": 0,
      "outputs": []
    },
    {
      "cell_type": "code",
      "metadata": {
        "id": "vJr3vEODFZE1",
        "colab_type": "code",
        "colab": {}
      },
      "source": [
        "import cv2\n",
        "import os\n",
        "import numpy as np\n",
        "import pandas as pd\n",
        "from math import ceil\n",
        "import xml.etree.ElementTree as ET\n",
        "from google.colab import drive\n",
        "from google.colab.patches import cv2_imshow\n",
        "import matplotlib.pyplot as plt\n",
        "\n",
        "from keras.preprocessing.image import ImageDataGenerator\n",
        "from keras.applications import VGG16, ResNet50, MobileNet\n",
        "from keras.applications.vgg16 import preprocess_input as preprocess_input_vgg16\n",
        "from keras.applications.resnet50 import preprocess_input as preprocess_input_resnet50\n",
        "from keras.applications.mobilenet import preprocess_input as preprocess_input_mobilenet\n",
        "from keras.layers import Dense, Dropout, GlobalAveragePooling2D, Flatten\n",
        "from keras import Model\n",
        "from keras.callbacks import EarlyStopping, ReduceLROnPlateau\n",
        "from keras.optimizers import Adam, SGD\n",
        "import tensorflow as tf\n",
        "\n",
        "\n",
        "from smac.configspace import ConfigurationSpace \n",
        "from smac.configspace import UniformFloatHyperparameter, UniformIntegerHyperparameter, CategoricalHyperparameter, InCondition\n",
        "from smac.configspace import Configuration # serve per costruire le configurazioni iniziali da passare alla funzione di minimizzazione\n",
        "from smac.scenario.scenario import Scenario\n",
        "from smac.facade.smac_bo_facade import SMAC4BO # bayesian optimization with GaussianProcess\n",
        "from smac.facade.smac_hpo_facade import SMAC4HPO # bayesian optimization with RandomForest\n",
        "from smac.optimizer.acquisition import EI, LCB, PI\n",
        "from smac.runhistory.runhistory import RunHistory # util class to collect all data of optimization\n",
        "from smac.initial_design.latin_hypercube_design import LHDesign\n",
        "from smac.stats.stats import Stats # util class to save history on directory\n",
        "from smac.utils.io.traj_logging import TrajLogger\n",
        "#from smac.optimizer.objective import average_cost\n",
        "\n",
        "from sklearn.metrics import classification_report, accuracy_score\n",
        "from sklearn.utils import class_weight\n",
        "from sklearn.model_selection import train_test_split, KFold\n",
        "\n",
        "import warnings\n",
        "warnings.filterwarnings(\"ignore\")"
      ],
      "execution_count": 0,
      "outputs": []
    },
    {
      "cell_type": "markdown",
      "metadata": {
        "id": "eD9R4p_JGS8j",
        "colab_type": "text"
      },
      "source": [
        "# Costant"
      ]
    },
    {
      "cell_type": "code",
      "metadata": {
        "id": "Jui_q9SGGXsi",
        "colab_type": "code",
        "outputId": "f8f357a2-7e8f-4eae-d47b-a5c5df5f4c09",
        "colab": {
          "base_uri": "https://localhost:8080/",
          "height": 120
        }
      },
      "source": [
        "drive.mount('/content/drive')\n",
        "\n",
        "PATH_ANNOTATIONS = '/content/drive/My Drive/Laurea Magistrale/Adavanched Machine Learning/Progetto/Dataset/Train/Annotations/'\n",
        "PATH_MAIN = '/content/drive/My Drive/Laurea Magistrale/Adavanched Machine Learning/Progetto/Dataset/Train/Main/'\n",
        "PATH_IMAGES = '/content/drive/My Drive/Laurea Magistrale/Adavanched Machine Learning/Progetto/Dataset/Train/Images/'\n",
        "PATH_IMAGES_CROPPED_TRAIN = '/content/drive/My Drive/Laurea Magistrale/Adavanched Machine Learning/Progetto/Dataset/Train/Cropped_train/'\n",
        "PATH_IMAGES_CROPPED_VAL_TEST = '/content/drive/My Drive/Laurea Magistrale/Adavanched Machine Learning/Progetto/Dataset/Train/Cropped_val_test/'\n",
        "PATH_OPTIMIZATION = '/content/drive/My Drive/Laurea Magistrale/Adavanched Machine Learning/Progetto/Ottimizzazione/'\n",
        "\n",
        "BATCH_SIZE = 64\n",
        "IM_SIZE = (128, 128)\n",
        "\n",
        "LABELS = ['aeroplane', 'bicycle', 'bird', 'boat', 'bottle', 'bus', \n",
        "          'car', 'cat', 'chair', 'cow', 'diningtable',\n",
        "          'dog', 'horse', 'motorbike', 'person', 'pottedplant', 'sheep', 'sofa',\n",
        "          'train', 'tvmonitor']"
      ],
      "execution_count": 0,
      "outputs": [
        {
          "output_type": "stream",
          "text": [
            "Go to this URL in a browser: https://accounts.google.com/o/oauth2/auth?client_id=947318989803-6bn6qk8qdgf4n4g3pfee6491hc0brc4i.apps.googleusercontent.com&redirect_uri=urn%3aietf%3awg%3aoauth%3a2.0%3aoob&response_type=code&scope=email%20https%3a%2f%2fwww.googleapis.com%2fauth%2fdocs.test%20https%3a%2f%2fwww.googleapis.com%2fauth%2fdrive%20https%3a%2f%2fwww.googleapis.com%2fauth%2fdrive.photos.readonly%20https%3a%2f%2fwww.googleapis.com%2fauth%2fpeopleapi.readonly\n",
            "\n",
            "Enter your authorization code:\n",
            "··········\n",
            "Mounted at /content/drive\n"
          ],
          "name": "stdout"
        }
      ]
    },
    {
      "cell_type": "markdown",
      "metadata": {
        "id": "bwTcVNKCAoJt",
        "colab_type": "text"
      },
      "source": [
        "# Directory for cropped images"
      ]
    },
    {
      "cell_type": "code",
      "metadata": {
        "id": "shqDlbvsAsmi",
        "colab_type": "code",
        "colab": {}
      },
      "source": [
        "# creo 20 directory, una per ogni classe, per fare classificazione (flow_from_datframe) sulle immagini croppate\n",
        "def create_directories(path, labels):\n",
        "  for label in labels:\n",
        "    os.mkdir(os.path.join(path, label))\n",
        "\n",
        "create_folder_classes = False\n",
        "\n",
        "if create_folder_classes == True:\n",
        "  create_directories(PATH_IMAGES_CROPPED_TRAIN, LABELS)\n",
        "  create_directories(PATH_IMAGES_CROPPED_VAL_TEST, LABELS)"
      ],
      "execution_count": 0,
      "outputs": []
    },
    {
      "cell_type": "markdown",
      "metadata": {
        "id": "awq2lzbxBXgj",
        "colab_type": "text"
      },
      "source": [
        "# Util function for mapping from label to #class"
      ]
    },
    {
      "cell_type": "code",
      "metadata": {
        "id": "NN3ewyc_BenA",
        "colab_type": "code",
        "colab": {}
      },
      "source": [
        "def create_dict_mapping(labels):\n",
        "  mapping = {}\n",
        "  for label,i in zip(labels, range(len(labels))):\n",
        "    mapping[label] = i\n",
        "  return mapping\n",
        "\n",
        "def from_label_to_number(mapping, label):\n",
        "  return mapping[label]\n",
        "\n",
        "def from_number_to_label(mapping, number):\n",
        "  for key, val in mapping.items(): \n",
        "    if val == number: \n",
        "      return key \n",
        "  return \"key doesn't exist\"\n",
        "\n",
        "def from_onehot_to_label(mapping, one_hot):\n",
        "  return from_number_to_label(mapping,np.where(one_hot == 1)[0][0])"
      ],
      "execution_count": 0,
      "outputs": []
    },
    {
      "cell_type": "code",
      "metadata": {
        "id": "2EGlorv3K-NG",
        "colab_type": "code",
        "outputId": "ffb50cc9-ec21-4a7e-ad80-f57a7eb40cbb",
        "colab": {
          "base_uri": "https://localhost:8080/",
          "height": 33
        }
      },
      "source": [
        "mapping = create_dict_mapping(LABELS)\n",
        "print(mapping)"
      ],
      "execution_count": 0,
      "outputs": [
        {
          "output_type": "stream",
          "text": [
            "{'aeroplane': 0, 'bicycle': 1, 'bird': 2, 'boat': 3, 'bottle': 4, 'bus': 5, 'car': 6, 'cat': 7, 'chair': 8, 'cow': 9, 'diningtable': 10, 'dog': 11, 'horse': 12, 'motorbike': 13, 'person': 14, 'pottedplant': 15, 'sheep': 16, 'sofa': 17, 'train': 18, 'tvmonitor': 19}\n"
          ],
          "name": "stdout"
        }
      ]
    },
    {
      "cell_type": "markdown",
      "metadata": {
        "id": "AHm9t-_NGYDa",
        "colab_type": "text"
      },
      "source": [
        "# Crop and save image for class"
      ]
    },
    {
      "cell_type": "code",
      "metadata": {
        "id": "5P1zAHxAGdTJ",
        "colab_type": "code",
        "colab": {}
      },
      "source": [
        "def crop_image(img, x_min, y_min, x_max, y_max):\n",
        "  crop_img = img[y_min:y_max, x_min:x_max]\n",
        "  return crop_img"
      ],
      "execution_count": 0,
      "outputs": []
    },
    {
      "cell_type": "code",
      "metadata": {
        "id": "_QkTnM8cPtA_",
        "colab_type": "code",
        "colab": {}
      },
      "source": [
        "def list_images(path_images, path_txt, file_txt):\n",
        "  '''\n",
        "  creo liste immagini presenti in file_txt\n",
        "  '''\n",
        "  temp = []\n",
        "  f = open(os.path.join(path_txt, file_txt), \"r\")\n",
        "  for line in f.readlines():\n",
        "    temp.append(line.split('\\n')[0] + '.jpg')\n",
        "  list_images = [os.path.join(path_images, name) for name in temp]\n",
        "  print('Ho trovato ', len(list_images), 'per il file ', file_txt)\n",
        "  return list_images\n",
        "\n",
        "# creo liste immagini da train.txt e val.txt\n",
        "list_images_train = list_images(PATH_IMAGES, PATH_MAIN, 'train.txt')\n",
        "list_images_val = list_images(PATH_IMAGES, PATH_MAIN, 'val.txt')"
      ],
      "execution_count": 0,
      "outputs": []
    },
    {
      "cell_type": "code",
      "metadata": {
        "id": "rCnf_0tOQ687",
        "colab_type": "code",
        "colab": {}
      },
      "source": [
        "def read_and_crop(list_images, annotation_dir, path_to_save):\n",
        "  '''\n",
        "  leggo annotations dei file presenti nelle due liste di immagini \n",
        "  '''\n",
        "  for path in list_images:\n",
        "    image_name = path.split('/')[-1].split('.')[0] \n",
        "    print(image_name)\n",
        "    with open(os.path.join(annotation_dir, image_name + '.xml')) as f:\n",
        "      read_xml(f.read(), path, path_to_save)\n",
        "  return\n",
        "\n",
        "def read_xml(file_xml, path_image, path_to_save):\n",
        "  '''\n",
        "  leggo xml e per ogni box che trovo croppo e salvo\n",
        "  '''\n",
        "  img = cv2.imread(path_image)  \n",
        "  root = ET.XML(file_xml)\n",
        "  for _, child in enumerate(root):\n",
        "    if child.tag == 'object':\n",
        "      x_min = None\n",
        "      y_min = None\n",
        "      x_max = None\n",
        "      y_max = None\n",
        "      for subchild in child:\n",
        "        if subchild.tag == 'name':\n",
        "          name_object = subchild.text\n",
        "          #print(name_object)\n",
        "        if subchild.tag == 'bndbox':\n",
        "          for bndbox in subchild:\n",
        "            if bndbox.tag == 'xmin':\n",
        "              x_min = int(bndbox.text)\n",
        "              #print('x_min ', x_min)\n",
        "            if bndbox.tag == 'ymin':\n",
        "              y_min = int(bndbox.text)\n",
        "              #print('y_min ', y_min)\n",
        "            if bndbox.tag == 'xmax':\n",
        "              x_max = int(bndbox.text)\n",
        "              #print('x_max ', x_max)\n",
        "            if bndbox.tag == 'ymax':\n",
        "              y_max = int(bndbox.text)\n",
        "              #print('y_max ', y_max)\n",
        "        if(x_min!=None and y_min!=None and x_max!=None and y_max!=None):\n",
        "          image_cropped = crop_image(img, x_min, y_min, x_max, y_max)\n",
        "          x_min = None\n",
        "          y_min = None\n",
        "          x_max = None\n",
        "          y_max = None\n",
        "          #cv2_imshow(image_cropped)\n",
        "          save_image_cropped(name_object, image_cropped, path_to_save)\n",
        "  return \n",
        "\n",
        "def save_image_cropped(obj, img, path_to_save):\n",
        "  '''\n",
        "  salvo immagine croppata con numero progressivo in base \n",
        "  all'ultima presente nella cartella\n",
        "  '''\n",
        "  list_dir_classes = os.listdir(path_to_save)\n",
        "  for dir_class in list_dir_classes:\n",
        "    if dir_class == obj:\n",
        "      dir_temp = os.path.join(path_to_save,dir_class)\n",
        "      list_temp = os.listdir(dir_temp)\n",
        "      if list_temp == []:\n",
        "        cv2.imwrite(os.path.join(dir_temp, obj + '_1.jpg'), img)\n",
        "      else:\n",
        "        number_file = int(list_temp[-1].split('.')[0].split('_')[1]) + 1\n",
        "        cv2.imwrite(os.path.join(dir_temp, obj + '_' + str(number_file) + '.jpg'), img)\n",
        "  return\n",
        "\n",
        "read_and_crop(list_images=list_images_val, annotation_dir=PATH_ANNOTATIONS, path_to_save=PATH_IMAGES_CROPPED_VAL_TEST)"
      ],
      "execution_count": 0,
      "outputs": []
    },
    {
      "cell_type": "markdown",
      "metadata": {
        "id": "WgzdNcHZGgch",
        "colab_type": "text"
      },
      "source": [
        "# Util function to create generator"
      ]
    },
    {
      "cell_type": "code",
      "metadata": {
        "id": "JMtwpZ_kGfsx",
        "colab_type": "code",
        "colab": {}
      },
      "source": [
        "def create_generator( batch_size, im_size, base_net, train_directory, val_directory, labels,\n",
        "                      validation_split, aug, augment_params):\n",
        "  \n",
        "  if base_net == 'vgg16':\n",
        "    preprocess_function = preprocess_input_vgg16\n",
        "  elif base_net == 'mobilenet':\n",
        "    preprocess_function = preprocess_input_mobilenet\n",
        "  elif base_net == 'resnet':\n",
        "    preprocess_function = preprocess_input_resnet50\n",
        "\n",
        "  if not(aug):\n",
        "    img_gen_train = ImageDataGenerator(preprocessing_function=preprocess_function)\n",
        "  elif aug:\n",
        "    img_gen_train = ImageDataGenerator( preprocessing_function=preprocess_function,\n",
        "                                        **augment_params)  \n",
        "\n",
        "\n",
        "  img_gen_val = ImageDataGenerator( preprocessing_function=preprocess_function,\n",
        "                                    validation_split = validation_split\n",
        "                                  )\n",
        "    \n",
        "  train_gen = img_gen_train.flow_from_directory(\n",
        "      directory = train_directory,\n",
        "      shuffle=True,\n",
        "      class_mode='categorical',\n",
        "      target_size=im_size,\n",
        "      batch_size=batch_size,\n",
        "      classes=labels,\n",
        "      seed=42\n",
        "  )\n",
        "\n",
        "  val_gen = img_gen_val.flow_from_directory(\n",
        "      directory = val_directory,\n",
        "      shuffle=False,\n",
        "      class_mode='categorical',\n",
        "      target_size=im_size,\n",
        "      batch_size=batch_size,\n",
        "      subset='training',\n",
        "      classes=labels,\n",
        "      seed=42\n",
        "  )\n",
        "\n",
        "  test_gen = img_gen_val.flow_from_directory(\n",
        "      directory = val_directory,\n",
        "      shuffle=False,\n",
        "      class_mode='categorical',\n",
        "      target_size=im_size,\n",
        "      batch_size=batch_size,\n",
        "      subset='validation',\n",
        "      classes=labels,\n",
        "      seed=42\n",
        "  )\n",
        "\n",
        "  return train_gen, val_gen, test_gen"
      ],
      "execution_count": 0,
      "outputs": []
    },
    {
      "cell_type": "markdown",
      "metadata": {
        "id": "dDw9W32GaThb",
        "colab_type": "text"
      },
      "source": [
        "# Util function for frequency classes"
      ]
    },
    {
      "cell_type": "code",
      "metadata": {
        "id": "teCq1HPhaXTg",
        "colab_type": "code",
        "colab": {}
      },
      "source": [
        "def get_frequency_from_generator(generator):\n",
        "  mapping = generator.class_indices\n",
        "  classes, count = np.unique(generator.labels, return_counts=True)\n",
        "  labels = [from_number_to_label(mapping, label) for label in classes]\n",
        "  freq = count\n",
        "  return labels, freq\n",
        "\n",
        "def normalize_frequency(freq):\n",
        "  min_freq = np.min(freq)\n",
        "  weigh = [min_freq/x for x in freq]\n",
        "  return weigh * freq, weigh\n",
        "\n",
        "def plot_label_frequency(labels, freq):\n",
        "  freq = freq / np.sum(freq)\n",
        "  l = list(range(1, len(labels)+1))\n",
        "  plt.barh(l, width=freq, height=0.5)\n",
        "  plt.yticks(l, labels, rotation='horizontal')\n",
        "  plt.show()\n",
        "\n",
        "def plot_stacked_bar_freq(labels, freq, freq_normalize):\n",
        "  N = len(labels)\n",
        "  ind = np.arange(N)    # the x locations for the groups\n",
        "  width = 0.35       # the width of the bars: can also be len(x) sequence\n",
        "\n",
        "  p1 = plt.bar(ind, freq, width)\n",
        "  p2 = plt.bar(ind, freq_normalize, width)\n",
        "\n",
        "  plt.ylabel('Frequency')\n",
        "  plt.legend((p1[0], p2[0]), ('Freq', 'Freq_normalize'))\n",
        "\n",
        "  plt.show() "
      ],
      "execution_count": 0,
      "outputs": []
    },
    {
      "cell_type": "markdown",
      "metadata": {
        "id": "XXwxrNdCShlc",
        "colab_type": "text"
      },
      "source": [
        "# Util function to create model"
      ]
    },
    {
      "cell_type": "code",
      "metadata": {
        "id": "etwOZM2GSjL_",
        "colab_type": "code",
        "colab": {}
      },
      "source": [
        "def create_model(base_net, freeze_all, freeze_to, dense, dropout, drop_out, im_size):\n",
        "  if base_net == 'vgg16':\n",
        "    base_model = VGG16(weights = 'imagenet', input_shape=im_size + (3,), include_top = False)\n",
        "  elif base_net == 'resnet':\n",
        "    base_model = ResNet50(weights = 'imagenet', input_shape=im_size + (3,), include_top = False)\n",
        "  elif base_net == 'mobilenet':\n",
        "    base_model = MobileNet(weights = 'imagenet', input_shape=im_size + (3,), include_top = False)\n",
        "\n",
        "  #x = base_model.output\n",
        "  x = base_model.layers[-1].output\n",
        "  #x = Flatten()(x)\n",
        "  x = GlobalAveragePooling2D()(x)\n",
        "  for layer in dense:\n",
        "    x = Dense(layer, activation='relu')(x)\n",
        "    if drop_out:\n",
        "      x = Dropout(dropout)(x)\n",
        "  predictions = Dense(20, activation = 'softmax')(x)\n",
        "  model = Model(input = base_model.input, output = predictions)\n",
        "\n",
        "  if freeze_all == True:\n",
        "    for layer in base_model.layers:\n",
        "      layer.trainable=False\n",
        "  else:\n",
        "    for layer in base_model.layers[:freeze_to]:\n",
        "      layer.trainable=False\n",
        "    for layer in model.layers[freeze_to:]:\n",
        "      layer.trainable = True\n",
        "      \n",
        "  return model"
      ],
      "execution_count": 0,
      "outputs": []
    },
    {
      "cell_type": "markdown",
      "metadata": {
        "id": "l7fUcTZApdLB",
        "colab_type": "text"
      },
      "source": [
        "# Util function to plot performance epoch"
      ]
    },
    {
      "cell_type": "code",
      "metadata": {
        "id": "UXAGRUyipg-R",
        "colab_type": "code",
        "colab": {}
      },
      "source": [
        "def plot_performance(history):\n",
        "  plt.plot(history.history['categorical_accuracy'])\n",
        "  plt.plot(history.history['val_categorical_accuracy'])\n",
        "  plt.title('model accuracy')\n",
        "  plt.ylabel('accuracy')\n",
        "  plt.xlabel('epoch')\n",
        "  plt.legend(['train', 'val'], loc='upper left')\n",
        "  plt.show()\n",
        "  # summarize history for loss\n",
        "  plt.plot(history.history['loss'])\n",
        "  plt.plot(history.history['val_loss'])\n",
        "  plt.title('model loss')\n",
        "  plt.ylabel('loss')\n",
        "  plt.xlabel('epoch')\n",
        "  plt.legend(['train', 'val'], loc='upper left')\n",
        "  plt.show()"
      ],
      "execution_count": 0,
      "outputs": []
    },
    {
      "cell_type": "markdown",
      "metadata": {
        "id": "22ReLsjTEeCZ",
        "colab_type": "text"
      },
      "source": [
        "# Experiments"
      ]
    },
    {
      "cell_type": "markdown",
      "metadata": {
        "id": "se7bKuAJbulU",
        "colab_type": "text"
      },
      "source": [
        "## Set up generator and model"
      ]
    },
    {
      "cell_type": "code",
      "metadata": {
        "id": "cDNTdRNpGBpI",
        "colab_type": "code",
        "colab": {}
      },
      "source": [
        "base_net = 'mobilenet'\n",
        "\n",
        "augment_params = dict(  rotation_range=30,\n",
        "                        #width_shift_range=0.2,\n",
        "                        #height_shift_range=0.2,\n",
        "                        horizontal_flip=True,\n",
        "                        #brightness_range=[0.4,1.0],\n",
        "                        zoom_range=0.1\n",
        "                      )\n",
        "\n",
        "train_gen, val_gen, test_gen = create_generator(batch_size=BATCH_SIZE, \n",
        "                                                im_size=IM_SIZE, \n",
        "                                                base_net=base_net, \n",
        "                                                train_directory=PATH_IMAGES_CROPPED_TRAIN, \n",
        "                                                val_directory=PATH_IMAGES_CROPPED_VAL_TEST, \n",
        "                                                labels=LABELS,\n",
        "                                                validation_split=0.7,\n",
        "                                                aug=True,\n",
        "                                                augment_params=augment_params\n",
        "                                                )"
      ],
      "execution_count": 0,
      "outputs": []
    },
    {
      "cell_type": "code",
      "metadata": {
        "id": "oR4bO3SF_-EN",
        "colab_type": "code",
        "colab": {}
      },
      "source": [
        "x,y = train_gen.next()\n",
        "for i in range(0,63):\n",
        "    image = x[i]\n",
        "    plt.figure()\n",
        "    plt.imshow(image)\n",
        "    plt.title(from_onehot_to_label(mapping, y[i]))\n",
        "    plt.show\n",
        "\n",
        "train_gen.reset()"
      ],
      "execution_count": 0,
      "outputs": []
    },
    {
      "cell_type": "markdown",
      "metadata": {
        "id": "pNm8VPigbjay",
        "colab_type": "text"
      },
      "source": [
        "## Analyze frequency label in generator"
      ]
    },
    {
      "cell_type": "code",
      "metadata": {
        "id": "l7QYMSTWbaof",
        "colab_type": "code",
        "colab": {}
      },
      "source": [
        "labels, freq = get_frequency_from_generator(train_gen)\n",
        "plot_label_frequency(labels, freq)\n",
        "freq_normalize, weigh = normalize_frequency(freq)\n",
        "#plot_label_frequency(labels, freq_normalize)\n",
        "plot_stacked_bar_freq(labels, freq, freq_normalize)\n",
        "\n",
        "# dict for weigh model\n",
        "weigh_class = {}\n",
        "for label,i in zip(labels, weigh):\n",
        "  weigh_class[from_label_to_number(mapping, label)] = i\n",
        "\n",
        "weigh_class_sklearn = class_weight.compute_class_weight('balanced',\n",
        "                                                 np.unique(train_gen.classes),\n",
        "                                                 train_gen.classes)\n",
        "\n",
        "pesi = dict()\n",
        "\n",
        "for label,peso in zip(range(len(LABELS)), weigh_class_sklearn):\n",
        "  pesi[label] = peso\n",
        "plot_stacked_bar_freq(labels, freq, freq*weigh_class_sklearn)"
      ],
      "execution_count": 0,
      "outputs": []
    },
    {
      "cell_type": "markdown",
      "metadata": {
        "id": "fYnY8Dp84Utn",
        "colab_type": "text"
      },
      "source": [
        "## Focal loss"
      ]
    },
    {
      "cell_type": "code",
      "metadata": {
        "id": "kf8VcmVF4Xn_",
        "colab_type": "code",
        "colab": {}
      },
      "source": [
        "def focal_loss(gamma=2., alpha=0.25):\n",
        "\n",
        "    gamma = float(gamma)\n",
        "    alpha = float(alpha)\n",
        "\n",
        "    def focal_loss_fixed(y_true, y_pred):\n",
        "        \"\"\"Focal loss for multi-classification\n",
        "        FL(p_t)=-alpha(1-p_t)^{gamma}ln(p_t)\n",
        "        Notice: y_pred is probability after softmax\n",
        "        gradient is d(Fl)/d(p_t) not d(Fl)/d(x) as described in paper\n",
        "        d(Fl)/d(p_t) * [p_t(1-p_t)] = d(Fl)/d(x)\n",
        "        Focal Loss for Dense Object Detection\n",
        "        https://arxiv.org/abs/1708.02002\n",
        "\n",
        "        Arguments:\n",
        "            y_true {tensor} -- ground truth labels, shape of [batch_size, num_cls]\n",
        "            y_pred {tensor} -- model's output, shape of [batch_size, num_cls]\n",
        "\n",
        "        Keyword Arguments:\n",
        "            gamma {float} -- (default: {2.0})\n",
        "            alpha {float} -- (default: {4.0})\n",
        "\n",
        "        Returns:\n",
        "            [tensor] -- loss.\n",
        "        \"\"\"\n",
        "        epsilon = 1.e-9\n",
        "        y_true = tf.convert_to_tensor(y_true, tf.float32)\n",
        "        y_pred = tf.convert_to_tensor(y_pred, tf.float32)\n",
        "\n",
        "        model_out = tf.add(y_pred, epsilon)\n",
        "        ce = tf.multiply(y_true, -tf.log(model_out))\n",
        "        weight = tf.multiply(y_true, tf.pow(tf.subtract(1., model_out), gamma))\n",
        "        fl = tf.multiply(alpha, tf.multiply(weight, ce))\n",
        "        reduced_fl = tf.reduce_max(fl, axis=1)\n",
        "        return tf.reduce_mean(reduced_fl)\n",
        "    return focal_loss_fixed"
      ],
      "execution_count": 0,
      "outputs": []
    },
    {
      "cell_type": "markdown",
      "metadata": {
        "id": "oAg57-_ib21t",
        "colab_type": "text"
      },
      "source": [
        "## Set up iper-parameter for fit"
      ]
    },
    {
      "cell_type": "code",
      "metadata": {
        "id": "1QSFiR2Ab6v1",
        "colab_type": "code",
        "colab": {}
      },
      "source": [
        "loss = 'binary_crossentropy'\n",
        "optimizer = 'adam'\n",
        "reduce_on_plateau = ReduceLROnPlateau(monitor='val_loss', factor=0.1, patience=2, \n",
        "                                      verbose=1, mode='auto', min_delta=0.0001, \n",
        "                                      cooldown=0, min_lr=0.00001)\n",
        "early_stop = EarlyStopping(monitor='val_loss', \n",
        "                           patience=3, \n",
        "                           verbose=1\n",
        "                           )\n",
        "metrics = ['categorical_accuracy']\n",
        "epochs = 30\n",
        "steps_per_epoch = ceil(train_gen.n / train_gen.batch_size)\n",
        "validation_steps = ceil(val_gen.n / val_gen.batch_size)\n",
        "class_weights = pesi\n",
        "dense = [128, 128]"
      ],
      "execution_count": 0,
      "outputs": []
    },
    {
      "cell_type": "code",
      "metadata": {
        "id": "Y9HmoEWOUkkU",
        "colab_type": "code",
        "outputId": "08efe211-c152-4a32-9379-93a3a6f870aa",
        "colab": {
          "base_uri": "https://localhost:8080/",
          "height": 890
        }
      },
      "source": [
        "model = create_model( base_net='mobilenet', \n",
        "                      freeze_all=False, \n",
        "                      freeze_to=74, \n",
        "                      dense=dense,\n",
        "                      dropout=0.2,\n",
        "                      drop_out=True,\n",
        "                      im_size=IM_SIZE\n",
        "                     )\n",
        "\n",
        "#model.summary()\n",
        "\n",
        "#for i,layer in zip(range(len(model.layers)), model.layers):\n",
        "#  print(i, ' ', layer, layer.trainable)\n",
        "\n",
        "model.compile(loss=loss, \n",
        "              optimizer=optimizer, \n",
        "              metrics=metrics\n",
        "              )\n",
        "\n",
        "net_history = model.fit_generator(train_gen, epochs=epochs, verbose=1,\n",
        "                                  validation_data = val_gen,\n",
        "                                  steps_per_epoch = steps_per_epoch,\n",
        "                                  validation_steps = validation_steps,\n",
        "                                  callbacks = [early_stop, reduce_on_plateau],\n",
        "                                  workers = 4,\n",
        "                                  use_multiprocessing=True,\n",
        "                                  #class_weight = class_weights\n",
        "                                  )\n",
        "\n",
        "train_gen.reset()\n",
        "val_gen.reset()"
      ],
      "execution_count": 0,
      "outputs": [
        {
          "output_type": "stream",
          "text": [
            "WARNING:tensorflow:From /usr/local/lib/python3.6/dist-packages/keras/backend/tensorflow_backend.py:66: The name tf.get_default_graph is deprecated. Please use tf.compat.v1.get_default_graph instead.\n",
            "\n"
          ],
          "name": "stdout"
        },
        {
          "output_type": "stream",
          "text": [
            "WARNING:tensorflow:From /usr/local/lib/python3.6/dist-packages/keras/backend/tensorflow_backend.py:66: The name tf.get_default_graph is deprecated. Please use tf.compat.v1.get_default_graph instead.\n",
            "\n"
          ],
          "name": "stderr"
        },
        {
          "output_type": "stream",
          "text": [
            "WARNING:tensorflow:From /usr/local/lib/python3.6/dist-packages/keras/backend/tensorflow_backend.py:541: The name tf.placeholder is deprecated. Please use tf.compat.v1.placeholder instead.\n",
            "\n"
          ],
          "name": "stdout"
        },
        {
          "output_type": "stream",
          "text": [
            "WARNING:tensorflow:From /usr/local/lib/python3.6/dist-packages/keras/backend/tensorflow_backend.py:541: The name tf.placeholder is deprecated. Please use tf.compat.v1.placeholder instead.\n",
            "\n"
          ],
          "name": "stderr"
        },
        {
          "output_type": "stream",
          "text": [
            "WARNING:tensorflow:From /usr/local/lib/python3.6/dist-packages/keras/backend/tensorflow_backend.py:4432: The name tf.random_uniform is deprecated. Please use tf.random.uniform instead.\n",
            "\n"
          ],
          "name": "stdout"
        },
        {
          "output_type": "stream",
          "text": [
            "WARNING:tensorflow:From /usr/local/lib/python3.6/dist-packages/keras/backend/tensorflow_backend.py:4432: The name tf.random_uniform is deprecated. Please use tf.random.uniform instead.\n",
            "\n"
          ],
          "name": "stderr"
        },
        {
          "output_type": "stream",
          "text": [
            "WARNING:tensorflow:From /usr/local/lib/python3.6/dist-packages/keras/backend/tensorflow_backend.py:190: The name tf.get_default_session is deprecated. Please use tf.compat.v1.get_default_session instead.\n",
            "\n"
          ],
          "name": "stdout"
        },
        {
          "output_type": "stream",
          "text": [
            "WARNING:tensorflow:From /usr/local/lib/python3.6/dist-packages/keras/backend/tensorflow_backend.py:190: The name tf.get_default_session is deprecated. Please use tf.compat.v1.get_default_session instead.\n",
            "\n"
          ],
          "name": "stderr"
        },
        {
          "output_type": "stream",
          "text": [
            "WARNING:tensorflow:From /usr/local/lib/python3.6/dist-packages/keras/backend/tensorflow_backend.py:197: The name tf.ConfigProto is deprecated. Please use tf.compat.v1.ConfigProto instead.\n",
            "\n"
          ],
          "name": "stdout"
        },
        {
          "output_type": "stream",
          "text": [
            "WARNING:tensorflow:From /usr/local/lib/python3.6/dist-packages/keras/backend/tensorflow_backend.py:197: The name tf.ConfigProto is deprecated. Please use tf.compat.v1.ConfigProto instead.\n",
            "\n"
          ],
          "name": "stderr"
        },
        {
          "output_type": "stream",
          "text": [
            "WARNING:tensorflow:From /usr/local/lib/python3.6/dist-packages/keras/backend/tensorflow_backend.py:203: The name tf.Session is deprecated. Please use tf.compat.v1.Session instead.\n",
            "\n"
          ],
          "name": "stdout"
        },
        {
          "output_type": "stream",
          "text": [
            "WARNING:tensorflow:From /usr/local/lib/python3.6/dist-packages/keras/backend/tensorflow_backend.py:203: The name tf.Session is deprecated. Please use tf.compat.v1.Session instead.\n",
            "\n"
          ],
          "name": "stderr"
        },
        {
          "output_type": "stream",
          "text": [
            "WARNING:tensorflow:From /usr/local/lib/python3.6/dist-packages/keras/backend/tensorflow_backend.py:207: The name tf.global_variables is deprecated. Please use tf.compat.v1.global_variables instead.\n",
            "\n"
          ],
          "name": "stdout"
        },
        {
          "output_type": "stream",
          "text": [
            "WARNING:tensorflow:From /usr/local/lib/python3.6/dist-packages/keras/backend/tensorflow_backend.py:207: The name tf.global_variables is deprecated. Please use tf.compat.v1.global_variables instead.\n",
            "\n"
          ],
          "name": "stderr"
        },
        {
          "output_type": "stream",
          "text": [
            "WARNING:tensorflow:From /usr/local/lib/python3.6/dist-packages/keras/backend/tensorflow_backend.py:216: The name tf.is_variable_initialized is deprecated. Please use tf.compat.v1.is_variable_initialized instead.\n",
            "\n"
          ],
          "name": "stdout"
        },
        {
          "output_type": "stream",
          "text": [
            "WARNING:tensorflow:From /usr/local/lib/python3.6/dist-packages/keras/backend/tensorflow_backend.py:216: The name tf.is_variable_initialized is deprecated. Please use tf.compat.v1.is_variable_initialized instead.\n",
            "\n"
          ],
          "name": "stderr"
        },
        {
          "output_type": "stream",
          "text": [
            "WARNING:tensorflow:From /usr/local/lib/python3.6/dist-packages/keras/backend/tensorflow_backend.py:223: The name tf.variables_initializer is deprecated. Please use tf.compat.v1.variables_initializer instead.\n",
            "\n"
          ],
          "name": "stdout"
        },
        {
          "output_type": "stream",
          "text": [
            "WARNING:tensorflow:From /usr/local/lib/python3.6/dist-packages/keras/backend/tensorflow_backend.py:223: The name tf.variables_initializer is deprecated. Please use tf.compat.v1.variables_initializer instead.\n",
            "\n"
          ],
          "name": "stderr"
        },
        {
          "output_type": "stream",
          "text": [
            "WARNING:tensorflow:From /usr/local/lib/python3.6/dist-packages/keras/backend/tensorflow_backend.py:2041: The name tf.nn.fused_batch_norm is deprecated. Please use tf.compat.v1.nn.fused_batch_norm instead.\n",
            "\n"
          ],
          "name": "stdout"
        },
        {
          "output_type": "stream",
          "text": [
            "WARNING:tensorflow:From /usr/local/lib/python3.6/dist-packages/keras/backend/tensorflow_backend.py:2041: The name tf.nn.fused_batch_norm is deprecated. Please use tf.compat.v1.nn.fused_batch_norm instead.\n",
            "\n"
          ],
          "name": "stderr"
        },
        {
          "output_type": "stream",
          "text": [
            "WARNING:tensorflow:From /usr/local/lib/python3.6/dist-packages/keras/backend/tensorflow_backend.py:148: The name tf.placeholder_with_default is deprecated. Please use tf.compat.v1.placeholder_with_default instead.\n",
            "\n"
          ],
          "name": "stdout"
        },
        {
          "output_type": "stream",
          "text": [
            "WARNING:tensorflow:From /usr/local/lib/python3.6/dist-packages/keras/backend/tensorflow_backend.py:148: The name tf.placeholder_with_default is deprecated. Please use tf.compat.v1.placeholder_with_default instead.\n",
            "\n"
          ],
          "name": "stderr"
        },
        {
          "output_type": "stream",
          "text": [
            "Downloading data from https://github.com/fchollet/deep-learning-models/releases/download/v0.6/mobilenet_1_0_128_tf_no_top.h5\n",
            "17227776/17225924 [==============================] - 1s 0us/step\n",
            "WARNING:tensorflow:From /usr/local/lib/python3.6/dist-packages/keras/backend/tensorflow_backend.py:3733: calling dropout (from tensorflow.python.ops.nn_ops) with keep_prob is deprecated and will be removed in a future version.\n",
            "Instructions for updating:\n",
            "Please use `rate` instead of `keep_prob`. Rate should be set to `rate = 1 - keep_prob`.\n"
          ],
          "name": "stdout"
        },
        {
          "output_type": "stream",
          "text": [
            "WARNING:tensorflow:From /usr/local/lib/python3.6/dist-packages/keras/backend/tensorflow_backend.py:3733: calling dropout (from tensorflow.python.ops.nn_ops) with keep_prob is deprecated and will be removed in a future version.\n",
            "Instructions for updating:\n",
            "Please use `rate` instead of `keep_prob`. Rate should be set to `rate = 1 - keep_prob`.\n"
          ],
          "name": "stderr"
        }
      ]
    },
    {
      "cell_type": "code",
      "metadata": {
        "id": "VqNkpcddZLB0",
        "colab_type": "code",
        "outputId": "239b2031-c4bd-4a47-cfe4-b92990bd0e85",
        "colab": {
          "base_uri": "https://localhost:8080/",
          "height": 572
        }
      },
      "source": [
        "plot_performance(net_history)"
      ],
      "execution_count": 0,
      "outputs": [
        {
          "output_type": "display_data",
          "data": {
            "image/png": "[encoded data removed]",
            "text/plain": [
              "<Figure size 432x288 with 1 Axes>"
            ]
          },
          "metadata": {
            "tags": []
          }
        },
        {
          "output_type": "display_data",
          "data": {
            "image/png": "[encoded data removed]",
            "text/plain": [
              "<Figure size 432x288 with 1 Axes>"
            ]
          },
          "metadata": {
            "tags": []
          }
        }
      ]
    },
    {
      "cell_type": "markdown",
      "metadata": {
        "id": "xwte93dQmMzJ",
        "colab_type": "text"
      },
      "source": [
        "# Ottimizzazione"
      ]
    },
    {
      "cell_type": "markdown",
      "metadata": {
        "id": "WrxId6E4AZl-",
        "colab_type": "text"
      },
      "source": [
        "## CNN_for_optimization"
      ]
    },
    {
      "cell_type": "code",
      "metadata": {
        "id": "9T3GwCMTMVtZ",
        "colab_type": "code",
        "colab": {}
      },
      "source": [
        "def dataframe_path_class(path_images):\n",
        "  df = pd.DataFrame(columns=['absolute_path', 'class'])\n",
        "  list_dir = os.listdir(path_images)\n",
        "  for sub_dir in list_dir:\n",
        "    list_images = os.listdir(os.path.join(path_images, sub_dir))  \n",
        "    for image in list_images:\n",
        "      df = df.append({'absolute_path': os.path.join(path_images, sub_dir, image),\n",
        "                      'class' : str(sub_dir)} , \n",
        "                     ignore_index=True)\n",
        "  return df\n",
        "\n",
        "#pd.set_option('max_colwidth', -1)\n",
        "df_train = dataframe_path_class(PATH_IMAGES_CROPPED_TRAIN)\n",
        "df_val_test = dataframe_path_class(PATH_IMAGES_CROPPED_VAL_TEST)\n",
        "\n",
        "# creo df_test che uso solo dopo ottimizzazione iperparametri\n",
        "df_test, df_val = train_test_split(df_val_test, test_size=0.5)\n",
        "\n",
        "# unisco df_val a df_train per avere un train generale su cui eseguire k-cross-fold validation\n",
        "df_train = df_train.append(df_val, ignore_index=True)\n",
        "\n",
        "# salvo i due dataframe\n",
        "df_train.to_csv(PATH_OPTIMIZATION + 'train.csv')\n",
        "df_test.to_csv(PATH_OPTIMIZATION + 'test.csv')\n",
        "\n",
        "# da df_train tiro fuori degli esempi che userò come test nell k-cross-fold-validation\n",
        "#df_train, df_test = train_test_split(df_train, test_size=0.2)\n",
        "\n",
        "#df_train.to_csv(PATH_OPTIMIZATION + 'train_for_k_cross.csv')\n",
        "#df_test.tocsv(PATH_OPTIMIZATION + 'test_for_k_cross.csv')\n",
        "\n",
        "df_train = pd.read_csv(PATH_OPTIMIZATION + 'train.csv')\n",
        "df_test = pd.read_csv(PATH_OPTIMIZATION + 'test.csv')"
      ],
      "execution_count": 0,
      "outputs": []
    },
    {
      "cell_type": "code",
      "metadata": {
        "id": "8YRPDR-AKNLB",
        "colab_type": "code",
        "colab": {}
      },
      "source": [
        "'''\n",
        "def k_cross_fold_validation(model, \n",
        "                        df_train,\n",
        "                        early_stop,\n",
        "                        reduce_on_plateau):\n",
        "'''\n",
        "\n",
        "## Training with K-fold cross validation\n",
        "kf = KFold(n_splits=3, random_state=None, shuffle=True)\n",
        "\n",
        "accuracy_on_fold = []\n",
        "\n",
        "trainGenerator = ImageDataGenerator(preprocessing_function=preprocess_input_mobilenet,\n",
        "                                  rotation_range=0.2,\n",
        "                                  horizontal_flip=True,\n",
        "                                  zoom_range=0.1)\n",
        "valGenerator = ImageDataGenerator(preprocessing_function=preprocess_input_mobilenet)\n",
        "\n",
        "i = 1\n",
        "for train_index, val_index in kf.split(df_train):\n",
        "  trainData = df_train.iloc[train_index,:]\n",
        "\n",
        "  # divido ulteriormente il train per avere un validation con cui poter usare \n",
        "  # early stopping e reduce_learning_rate_on_plateau durante fit\n",
        "  trainData, valData = train_test_split(trainData, test_size=0.2)\n",
        "\n",
        "  testData = df_train.iloc[val_index,:]\n",
        "\n",
        "  print(\"=========================================\")\n",
        "  print(\"====== K Fold Validation step => %d =======\" % (i))\n",
        "  print(\"=========================================\")\n",
        "\n",
        "  print(\"Flow from train dataframe\")\n",
        "  train_gen = trainGenerator.flow_from_dataframe(\n",
        "    dataframe = trainData,\n",
        "    x_col='absolute_path',\n",
        "    y_col='class',\n",
        "    shuffle=True,\n",
        "    class_mode='categorical',\n",
        "    target_size=IM_SIZE,\n",
        "    batch_size=BATCH_SIZE,\n",
        "    classes=LABELS,\n",
        "    #seed=42\n",
        "  )\n",
        "\n",
        "  print(\"Flow from val dataframe\")\n",
        "  val_gen = valGenerator.flow_from_dataframe(\n",
        "    dataframe = valData,\n",
        "    x_col='absolute_path',\n",
        "    y_col='class',\n",
        "    shuffle=False,\n",
        "    class_mode='categorical',\n",
        "    target_size=IM_SIZE,\n",
        "    batch_size=BATCH_SIZE,\n",
        "    classes=LABELS,\n",
        "    #seed=42\n",
        "  )\n",
        "\n",
        "  print(\"Flow from test dataframe\")\n",
        "  test_gen = valGenerator.flow_from_dataframe(\n",
        "    dataframe = testData,\n",
        "    x_col='absolute_path',\n",
        "    y_col='class',\n",
        "    shuffle=False,\n",
        "    class_mode='categorical',\n",
        "    target_size=IM_SIZE,\n",
        "    batch_size=BATCH_SIZE,\n",
        "    classes=LABELS,\n",
        "    #seed=42\n",
        "  ) \n",
        "\n",
        "  step_train = ceil(train_gen.n/train_gen.batch_size)\n",
        "  step_val = ceil(val_gen.n/val_gen.batch_size)\n",
        "  step_test = ceil(test_gen.n/test_gen.batch_size)\n",
        "\n",
        "  model.compile(loss='binary_crossentropy', \n",
        "            optimizer='adam', \n",
        "            metrics=['categorical_accuracy']\n",
        "            )\n",
        "\n",
        "  print(\"Inizio fit\")\n",
        "  model.fit_generator(train_gen, \n",
        "                      epochs=40, \n",
        "                      verbose=1,\n",
        "                      validation_data = val_gen,\n",
        "                      steps_per_epoch = step_train,\n",
        "                      validation_steps = step_val,\n",
        "                      callbacks = [early_stop, reduce_on_plateau],\n",
        "                      #workers = 4,\n",
        "                      #use_multiprocessing=True\n",
        "                  )\n",
        "\n",
        "  # test on testData\n",
        "  print(\"Predict on test\")\n",
        "  predictions = model.predict_generator(test_gen, \n",
        "                                        steps=step_test,\n",
        "                                        #workers=4, \n",
        "                                        #use_multiprocessing=True\n",
        "                                        )\n",
        "\n",
        "  model.reset_states()\n",
        "\n",
        "  predict_classes = np.argmax(predictions, axis=1)\n",
        "\n",
        "  accuracy_on_fold.append(accuracy_score(y_true=test_gen.classes, \n",
        "                                         y_pred=predict_classes))\n",
        "\n",
        "  i+=1"
      ],
      "execution_count": 0,
      "outputs": []
    },
    {
      "cell_type": "code",
      "metadata": {
        "id": "obHvuHlsxrCg",
        "colab_type": "code",
        "colab": {}
      },
      "source": [
        "temp_accuracy = accuracy_on_fold\n",
        "\n",
        "print(np.mean(temp_accuracy))"
      ],
      "execution_count": 0,
      "outputs": []
    },
    {
      "cell_type": "code",
      "metadata": {
        "id": "xxZWnDcoAY_e",
        "colab_type": "code",
        "colab": {}
      },
      "source": [
        "def cnn_for_optimization(cfg):\n",
        "\n",
        "  # creo modello sulla base delle configurazioni in cfg\n",
        "  if cfg['number_layer'] == 2:\n",
        "    dense = [cfg['number_first_layer'], cfg['number_second_layer']]\n",
        "  elif cfg['number_layer'] == 1:\n",
        "    dense = [cfg['number_first_layer']]\n",
        "\n",
        "  model = create_model( base_net='mobilenet', \n",
        "                        freeze_all=False, \n",
        "                        freeze_to=74, \n",
        "                        dense=dense,\n",
        "                        dropout=cfg['dropout'],\n",
        "                        drop_out=True,\n",
        "                        im_size=IM_SIZE\n",
        "                      )\n",
        "  \n",
        "  # compilo\n",
        "  if cfg['optimizer'] == 'SGD':\n",
        "    optimizer = SGD(lr=cgf['learning_rate'], momentum=cfg['momentum'])\n",
        "    if cfg['nestorov'] == True:\n",
        "      optimizer.nestorov = True\n",
        "  elif cfg['optimizer'] == 'adam':\n",
        "    optimizer = Adam(lr=cfg['learning_rate'])\n",
        "\n",
        "  model.compile(loss='binary_crossentropy', \n",
        "              optimizer=optimizer, \n",
        "              metrics=['categorical_accuracy']\n",
        "              )\n",
        "  \n",
        "  # fitto su generator (posso passarlo come parametro o globale??)\n",
        "  reduce_on_plateau = ReduceLROnPlateau(monitor='val_loss', factor=0.1, patience=2, \n",
        "                                        verbose=1, mode='auto', min_delta=0.0001, \n",
        "                                        cooldown=0, min_lr=0.00001)\n",
        "  early_stop = EarlyStopping(monitor='val_loss', \n",
        "                            patience=3, \n",
        "                            verbose=1\n",
        "                            )\n",
        "  net_history = model.fit_generator(train_gen, epochs=50, verbose=0,\n",
        "                                  steps_per_epoch = steps_per_epoch,\n",
        "                                  callbacks = [early_stop, reduce_on_plateau],\n",
        "                                  workers = 4,\n",
        "                                  use_multiprocessing=True\n",
        "                                  )\n",
        "  \n",
        "  # calcolo accuratezza su validation \n",
        "  # return 1 - accuratezza"
      ],
      "execution_count": 0,
      "outputs": []
    },
    {
      "cell_type": "markdown",
      "metadata": {
        "id": "yJrfI4v50nnV",
        "colab_type": "text"
      },
      "source": [
        "## Configuration space"
      ]
    },
    {
      "cell_type": "code",
      "metadata": {
        "id": "ZgQ0AAgxmP7i",
        "colab_type": "code",
        "outputId": "a91aac21-c1a3-42ab-ac91-c0d1f5b32fd0",
        "colab": {
          "base_uri": "https://localhost:8080/",
          "height": 67
        }
      },
      "source": [
        "cs = ConfigurationSpace()\n",
        "\n",
        "# iper-parametri da ottimizzare\n",
        "'''\n",
        "  Optimizier: categorical ('adam', 'SGD')\n",
        "  Learning_rate: uniform_float [0.01, 0.00001]\n",
        "  Momentum: categorical and condition (True,False) if 'SGD'\n",
        "  Nestorov: uniform_float and condition [0.9, 0.8] if 'SGD'\n",
        "  Dropout: uniform_float [0.2,0.4]\n",
        "  Number_fully_connected: categorical (1,2)\n",
        "  Number_neurons_first_layer: uniform_integer [256, 1024]\n",
        "  Numebr_neurons_second_layer: uniform_integer and condition [256,1024] if number_fully_connected==2\n",
        "'''\n",
        "optimizier_param = CategoricalHyperparameter(name='optimizier',\n",
        "                                             choices=['adam', 'SGD'],\n",
        "                                             default_value='SGD')\n",
        "\n",
        "lr_param = UniformFloatHyperparameter(name=\"learning_rate\", \n",
        "                                      lower=0.00001, \n",
        "                                      upper=0.01, \n",
        "                                      default_value=0.001)\n",
        "\n",
        "momentum_param = UniformFloatHyperparameter(name='momentum',\n",
        "                                            lower=0.1,\n",
        "                                            upper=0.9,\n",
        "                                            default_value=0.5\n",
        "                                            )\n",
        "cond_momentum = InCondition(child=momentum_param, \n",
        "                            parent=optimizier_param, \n",
        "                            values=['SGD'])\n",
        "\n",
        "nestorov_param = CategoricalHyperparameter(name=\"nestorov\", \n",
        "                                           choices=[True, False], \n",
        "                                           default_value=False)\n",
        "cond_nestorov = InCondition(child=nestorov_param, \n",
        "                            parent=optimizier_param, \n",
        "                            values=['SGD'])\n",
        "\n",
        "dropout_param = UniformFloatHyperparameter(name='dropout',\n",
        "                                           lower=0.2,\n",
        "                                           upper=0.4,\n",
        "                                           default_value=0.3)\n",
        "\n",
        "number_layer_param = CategoricalHyperparameter(name='number_layer',\n",
        "                                         choices=[1,2],\n",
        "                                         default_value=2)\n",
        "\n",
        "neurons_first_layer_param = UniformIntegerHyperparameter(name='number_first_layer',\n",
        "                                                   lower=256,\n",
        "                                                   upper=1024,\n",
        "                                                   default_value=512)\n",
        "\n",
        "neurons_second_layer_param = UniformIntegerHyperparameter(name='number_second_layer',\n",
        "                                                   lower=256,\n",
        "                                                   upper=1024,\n",
        "                                                   default_value=512)\n",
        "cond_second_layer = InCondition(child=neurons_second_layer,\n",
        "                                parent=number_layer,\n",
        "                                values=[2])\n",
        "\n",
        "cs.add_hyperparameters([optimizier_param, \n",
        "                        lr_param,\n",
        "                        momentum_param,\n",
        "                        nestorov_param,\n",
        "                        dropout_param,\n",
        "                        number_layer_param,\n",
        "                        neurons_first_layer_param,\n",
        "                        neurons_second_layer_param\n",
        "                        ])\n",
        "cs.add_conditions([cond_momentum,\n",
        "                   cond_nestorov,\n",
        "                   cond_second_layer])"
      ],
      "execution_count": 0,
      "outputs": [
        {
          "output_type": "execute_result",
          "data": {
            "text/plain": [
              "[momentum | optimizier in {'SGD'},\n",
              " nestorov | optimizier in {'SGD'},\n",
              " number_second_layer | number_layer in {2}]"
            ]
          },
          "metadata": {
            "tags": []
          },
          "execution_count": 24
        }
      ]
    },
    {
      "cell_type": "markdown",
      "metadata": {
        "id": "wTVlUukw3Fcl",
        "colab_type": "text"
      },
      "source": [
        "## Scenario"
      ]
    },
    {
      "cell_type": "code",
      "metadata": {
        "id": "P-YMAPtn3HM0",
        "colab_type": "code",
        "outputId": "90bd2e4c-f8ad-4dfd-9805-47eedf375df7",
        "colab": {
          "base_uri": "https://localhost:8080/",
          "height": 33
        }
      },
      "source": [
        "scenario = Scenario({\"run_obj\": \"quality\",  \n",
        "                     \"runcount-limit\": 20, # 15 + 5 configurazioni iniziali   \n",
        "                     \"cs\": cs,               \n",
        "                     \"deterministic\": \"true\"\n",
        "                     })"
      ],
      "execution_count": 0,
      "outputs": [
        {
          "output_type": "stream",
          "text": [
            "INFO:smac.utils.io.cmd_reader.CMDReader:Output to smac3-output_2020-03-09_10:35:52_946839\n"
          ],
          "name": "stderr"
        }
      ]
    },
    {
      "cell_type": "markdown",
      "metadata": {
        "id": "y3gLbZhF3UAr",
        "colab_type": "text"
      },
      "source": [
        "## Initial configuratino (LHS) and util class"
      ]
    },
    {
      "cell_type": "code",
      "metadata": {
        "id": "fohHZ34m3X4a",
        "colab_type": "code",
        "outputId": "cafe1f06-9921-4c47-9b34-4bad871a25b1",
        "colab": {
          "base_uri": "https://localhost:8080/",
          "height": 33
        }
      },
      "source": [
        "# All statistics collected during configuration run. Written to output-directory to be restored\n",
        "stat = Stats(scenario=scenario)\n",
        "\n",
        "\n",
        "traj_logger  = TrajLogger(output_dir=PATH_OPTIMIZATION + 'traj_logger/',\n",
        "                          stats=stat)\n",
        "\n",
        "run_history = RunHistory()\n",
        "\n",
        "initial_config = LHDesign(cs=cs,\n",
        "                          rng=42,\n",
        "                          traj_logger=traj_logger,\n",
        "                          ta_run_limit=5,\n",
        "                          init_budget=5)"
      ],
      "execution_count": 0,
      "outputs": [
        {
          "output_type": "stream",
          "text": [
            "INFO:smac.initial_design.latin_hypercube_design.LHDesign:Running initial design for 5 configurations\n"
          ],
          "name": "stderr"
        }
      ]
    },
    {
      "cell_type": "markdown",
      "metadata": {
        "id": "_91uOB4kAOqz",
        "colab_type": "text"
      },
      "source": [
        "## Optimization"
      ]
    },
    {
      "cell_type": "code",
      "metadata": {
        "id": "WfqB26ESAQP5",
        "colab_type": "code",
        "colab": {}
      },
      "source": [
        "smac = SMAC4HPO(scenario=scenario,\n",
        "                tae_runnner=cnn_for_optimization,\n",
        "                runhistory=run_history,\n",
        "                acquisition_function=PI,\n",
        "                initial_design=initial_config,\n",
        "                stats=stat,\n",
        "                )\n",
        "\n",
        "incumbent = smac.optimize()\n",
        "\n",
        "inc_value = cnn_for_optimization(incumbent)"
      ],
      "execution_count": 0,
      "outputs": []
    },
    {
      "cell_type": "markdown",
      "metadata": {
        "id": "ngqgVtqrIsD-",
        "colab_type": "text"
      },
      "source": [
        "# Performance on test"
      ]
    },
    {
      "cell_type": "code",
      "metadata": {
        "id": "m2GI2JyjIvBU",
        "colab_type": "code",
        "outputId": "c7c27d9c-3bf9-4b16-d79a-aa2c60f49cda",
        "colab": {
          "base_uri": "https://localhost:8080/",
          "height": 470
        }
      },
      "source": [
        "def performance_on_test(model, test_generator):\n",
        "  predictions = model.predict_generator(test_generator, \n",
        "                          steps=ceil(test_generator.n / test_generator.batch_size), \n",
        "                          workers=4, \n",
        "                          use_multiprocessing=True)\n",
        "  predict_classes = np.argmax(predictions, axis=1)\n",
        "\n",
        "  performance = classification_report(  y_true = test_generator.classes, \n",
        "                                        y_pred = predict_classes,\n",
        "                                        target_names=LABELS\n",
        "  )\n",
        "\n",
        "  return performance\n",
        "\n",
        "result = performance_on_test(model, test_gen)\n",
        "print(result)"
      ],
      "execution_count": 0,
      "outputs": [
        {
          "output_type": "stream",
          "text": [
            "              precision    recall  f1-score   support\n",
            "\n",
            "   aeroplane       0.89      0.79      0.83       338\n",
            "     bicycle       0.81      0.80      0.80       266\n",
            "        bird       0.87      0.66      0.75       440\n",
            "        boat       0.83      0.74      0.78       343\n",
            "      bottle       0.78      0.73      0.75       513\n",
            "         bus       0.90      0.82      0.86       224\n",
            "         car       0.79      0.87      0.82       821\n",
            "         cat       0.90      0.82      0.86       432\n",
            "       chair       0.67      0.82      0.73      1014\n",
            "         cow       0.57      0.67      0.62       242\n",
            " diningtable       0.83      0.63      0.71       261\n",
            "         dog       0.82      0.77      0.79       541\n",
            "       horse       0.74      0.79      0.76       261\n",
            "   motorbike       0.84      0.70      0.77       263\n",
            "      person       0.86      0.93      0.89      3577\n",
            " pottedplant       0.90      0.74      0.81       379\n",
            "       sheep       0.86      0.71      0.78       339\n",
            "        sofa       0.70      0.45      0.55       270\n",
            "       train       0.93      0.80      0.86       230\n",
            "   tvmonitor       0.86      0.86      0.86       289\n",
            "\n",
            "    accuracy                           0.82     11043\n",
            "   macro avg       0.82      0.75      0.78     11043\n",
            "weighted avg       0.82      0.82      0.81     11043\n",
            "\n"
          ],
          "name": "stdout"
        }
      ]
    },
    {
      "cell_type": "markdown",
      "metadata": {
        "id": "eYQLGSJSQEBG",
        "colab_type": "text"
      },
      "source": [
        "# TODO"
      ]
    },
    {
      "cell_type": "code",
      "metadata": {
        "id": "ZxbSwxZDQFYC",
        "colab_type": "code",
        "colab": {}
      },
      "source": [
        "# funzione che prende in input flow from dataframe e ritorna pickle con tutte le immagini"
      ],
      "execution_count": 0,
      "outputs": []
    }
  ]
}