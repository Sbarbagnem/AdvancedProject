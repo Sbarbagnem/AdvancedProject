{
  "nbformat": 4,
  "nbformat_minor": 0,
  "metadata": {
    "colab": {
      "name": "Classification.ipynb",
      "provenance": [],
      "collapsed_sections": [
        "eD9R4p_JGS8j",
        "bwTcVNKCAoJt",
        "awq2lzbxBXgj",
        "AHm9t-_NGYDa",
        "WgzdNcHZGgch",
        "ISzDSogyQ12u",
        "dDw9W32GaThb",
        "XXwxrNdCShlc",
        "oXNhkv10FLgG",
        "l7fUcTZApdLB",
        "1gpMHcy2SpB7",
        "22ReLsjTEeCZ",
        "se7bKuAJbulU",
        "pNm8VPigbjay",
        "oAg57-_ib21t",
        "Pz6Y1ic80Rz2",
        "8U2BptkC0JcN",
        "mrlxqfdszCbf",
        "-KaAO8omzV73",
        "yJrfI4v50nnV",
        "wTVlUukw3Fcl",
        "rUM7BP6b6U_K",
        "A-ZHDD5C4Ksp",
        "ngqgVtqrIsD-"
      ],
      "machine_shape": "hm",
      "include_colab_link": true
    },
    "kernelspec": {
      "name": "python3",
      "display_name": "Python 3"
    },
    "accelerator": "GPU"
  },
  "cells": [
    {
      "cell_type": "markdown",
      "metadata": {
        "id": "view-in-github",
        "colab_type": "text"
      },
      "source": [
        "<a href=\"https://colab.research.google.com/github/Sbarbagnem/AdvancedProject/blob/master/Classification.ipynb\" target=\"_parent\"><img src=\"https://colab.research.google.com/assets/colab-badge.svg\" alt=\"Open In Colab\"/></a>"
      ]
    },
    {
      "cell_type": "markdown",
      "metadata": {
        "id": "bGjYNEjPFiCE",
        "colab_type": "text"
      },
      "source": [
        "# Module\n",
        "**caricare prima librerie di smac e poi il resto**"
      ]
    },
    {
      "cell_type": "code",
      "metadata": {
        "id": "V_AUBPWzkgSI",
        "colab_type": "code",
        "cellView": "both",
        "outputId": "317bd448-72bb-4cb3-e6e6-a254f7e16aa4",
        "colab": {
          "base_uri": "https://localhost:8080/",
          "height": 1000
        }
      },
      "source": [
        "#!pip uninstall scikit-learn -y\n",
        "#!pip install scikit-learn==0.21.3\n",
        "!apt-get install swig\n",
        "!pip install smac\n",
        "!pip install smac[all]\n",
        "!pip install smt"
      ],
      "execution_count": 1,
      "outputs": [
        {
          "output_type": "stream",
          "text": [
            "Reading package lists... Done\n",
            "Building dependency tree       \n",
            "Reading state information... Done\n",
            "swig is already the newest version (3.0.12-1).\n",
            "The following package was automatically installed and is no longer required:\n",
            "  libnvidia-common-440\n",
            "Use 'apt autoremove' to remove it.\n",
            "0 upgraded, 0 newly installed, 0 to remove and 43 not upgraded.\n",
            "Requirement already satisfied: smac in /usr/local/lib/python3.6/dist-packages (0.12.2)\n",
            "Requirement already satisfied: numpy>=1.7.1 in /usr/local/lib/python3.6/dist-packages (from smac) (1.18.5)\n",
            "Requirement already satisfied: sobol-seq in /usr/local/lib/python3.6/dist-packages (from smac) (0.2.0)\n",
            "Requirement already satisfied: pyrfr>=0.8.0 in /usr/local/lib/python3.6/dist-packages (from smac) (0.8.0)\n",
            "Requirement already satisfied: psutil in /usr/local/lib/python3.6/dist-packages (from smac) (5.4.8)\n",
            "Requirement already satisfied: scipy>=0.18.1 in /usr/local/lib/python3.6/dist-packages (from smac) (1.4.1)\n",
            "Requirement already satisfied: joblib in /usr/local/lib/python3.6/dist-packages (from smac) (0.15.1)\n",
            "Requirement already satisfied: lazy-import in /usr/local/lib/python3.6/dist-packages (from smac) (0.2.2)\n",
            "Requirement already satisfied: ConfigSpace<0.5,>=0.4.9 in /usr/local/lib/python3.6/dist-packages (from smac) (0.4.13)\n",
            "Requirement already satisfied: scikit-learn>=0.22.0 in /usr/local/lib/python3.6/dist-packages (from smac) (0.22.2.post1)\n",
            "Requirement already satisfied: pynisher>=0.4.1 in /usr/local/lib/python3.6/dist-packages (from smac) (0.5.0)\n",
            "Requirement already satisfied: six in /usr/local/lib/python3.6/dist-packages (from lazy-import->smac) (1.12.0)\n",
            "Requirement already satisfied: cython in /usr/local/lib/python3.6/dist-packages (from ConfigSpace<0.5,>=0.4.9->smac) (0.29.19)\n",
            "Requirement already satisfied: pyparsing in /usr/local/lib/python3.6/dist-packages (from ConfigSpace<0.5,>=0.4.9->smac) (2.4.7)\n",
            "Requirement already satisfied: setuptools in /usr/local/lib/python3.6/dist-packages (from pynisher>=0.4.1->smac) (47.1.1)\n",
            "Requirement already satisfied: docutils>=0.3 in /usr/local/lib/python3.6/dist-packages (from pynisher>=0.4.1->smac) (0.15.2)\n",
            "Requirement already satisfied: smac[all] in /usr/local/lib/python3.6/dist-packages (0.12.2)\n",
            "Requirement already satisfied: pynisher>=0.4.1 in /usr/local/lib/python3.6/dist-packages (from smac[all]) (0.5.0)\n",
            "Requirement already satisfied: psutil in /usr/local/lib/python3.6/dist-packages (from smac[all]) (5.4.8)\n",
            "Requirement already satisfied: ConfigSpace<0.5,>=0.4.9 in /usr/local/lib/python3.6/dist-packages (from smac[all]) (0.4.13)\n",
            "Requirement already satisfied: scikit-learn>=0.22.0 in /usr/local/lib/python3.6/dist-packages (from smac[all]) (0.22.2.post1)\n",
            "Requirement already satisfied: pyrfr>=0.8.0 in /usr/local/lib/python3.6/dist-packages (from smac[all]) (0.8.0)\n",
            "Requirement already satisfied: sobol-seq in /usr/local/lib/python3.6/dist-packages (from smac[all]) (0.2.0)\n",
            "Requirement already satisfied: joblib in /usr/local/lib/python3.6/dist-packages (from smac[all]) (0.15.1)\n",
            "Requirement already satisfied: numpy>=1.7.1 in /usr/local/lib/python3.6/dist-packages (from smac[all]) (1.18.5)\n",
            "Requirement already satisfied: scipy>=0.18.1 in /usr/local/lib/python3.6/dist-packages (from smac[all]) (1.4.1)\n",
            "Requirement already satisfied: lazy-import in /usr/local/lib/python3.6/dist-packages (from smac[all]) (0.2.2)\n",
            "Requirement already satisfied: sphinx; extra == \"all\" in /usr/local/lib/python3.6/dist-packages (from smac[all]) (1.8.5)\n",
            "Requirement already satisfied: emcee>=2.1.0; extra == \"all\" in /usr/local/lib/python3.6/dist-packages (from smac[all]) (3.0.2)\n",
            "Requirement already satisfied: sphinx-gallery==0.5.0; extra == \"all\" in /usr/local/lib/python3.6/dist-packages (from smac[all]) (0.5.0)\n",
            "Requirement already satisfied: scikit-optimize; extra == \"all\" in /usr/local/lib/python3.6/dist-packages (from smac[all]) (0.7.4)\n",
            "Requirement already satisfied: sphinx-rtd-theme; extra == \"all\" in /usr/local/lib/python3.6/dist-packages (from smac[all]) (0.4.3)\n",
            "Requirement already satisfied: pyDOE; extra == \"all\" in /usr/local/lib/python3.6/dist-packages (from smac[all]) (0.3.8)\n",
            "Requirement already satisfied: setuptools in /usr/local/lib/python3.6/dist-packages (from pynisher>=0.4.1->smac[all]) (47.1.1)\n",
            "Requirement already satisfied: docutils>=0.3 in /usr/local/lib/python3.6/dist-packages (from pynisher>=0.4.1->smac[all]) (0.15.2)\n",
            "Requirement already satisfied: cython in /usr/local/lib/python3.6/dist-packages (from ConfigSpace<0.5,>=0.4.9->smac[all]) (0.29.19)\n",
            "Requirement already satisfied: pyparsing in /usr/local/lib/python3.6/dist-packages (from ConfigSpace<0.5,>=0.4.9->smac[all]) (2.4.7)\n",
            "Requirement already satisfied: six in /usr/local/lib/python3.6/dist-packages (from lazy-import->smac[all]) (1.12.0)\n",
            "Requirement already satisfied: imagesize in /usr/local/lib/python3.6/dist-packages (from sphinx; extra == \"all\"->smac[all]) (1.2.0)\n",
            "Requirement already satisfied: Pygments>=2.0 in /usr/local/lib/python3.6/dist-packages (from sphinx; extra == \"all\"->smac[all]) (2.1.3)\n",
            "Requirement already satisfied: requests>=2.0.0 in /usr/local/lib/python3.6/dist-packages (from sphinx; extra == \"all\"->smac[all]) (2.23.0)\n",
            "Requirement already satisfied: alabaster<0.8,>=0.7 in /usr/local/lib/python3.6/dist-packages (from sphinx; extra == \"all\"->smac[all]) (0.7.12)\n",
            "Requirement already satisfied: Jinja2>=2.3 in /usr/local/lib/python3.6/dist-packages (from sphinx; extra == \"all\"->smac[all]) (2.11.2)\n",
            "Requirement already satisfied: babel!=2.0,>=1.3 in /usr/local/lib/python3.6/dist-packages (from sphinx; extra == \"all\"->smac[all]) (2.8.0)\n",
            "Requirement already satisfied: sphinxcontrib-websupport in /usr/local/lib/python3.6/dist-packages (from sphinx; extra == \"all\"->smac[all]) (1.2.2)\n",
            "Requirement already satisfied: snowballstemmer>=1.1 in /usr/local/lib/python3.6/dist-packages (from sphinx; extra == \"all\"->smac[all]) (2.0.0)\n",
            "Requirement already satisfied: packaging in /usr/local/lib/python3.6/dist-packages (from sphinx; extra == \"all\"->smac[all]) (20.4)\n",
            "Requirement already satisfied: matplotlib in /usr/local/lib/python3.6/dist-packages (from sphinx-gallery==0.5.0; extra == \"all\"->smac[all]) (3.2.1)\n",
            "Requirement already satisfied: pillow in /usr/local/lib/python3.6/dist-packages (from sphinx-gallery==0.5.0; extra == \"all\"->smac[all]) (7.0.0)\n",
            "Requirement already satisfied: pyaml>=16.9 in /usr/local/lib/python3.6/dist-packages (from scikit-optimize; extra == \"all\"->smac[all]) (20.4.0)\n",
            "Requirement already satisfied: certifi>=2017.4.17 in /usr/local/lib/python3.6/dist-packages (from requests>=2.0.0->sphinx; extra == \"all\"->smac[all]) (2020.4.5.1)\n",
            "Requirement already satisfied: chardet<4,>=3.0.2 in /usr/local/lib/python3.6/dist-packages (from requests>=2.0.0->sphinx; extra == \"all\"->smac[all]) (3.0.4)\n",
            "Requirement already satisfied: idna<3,>=2.5 in /usr/local/lib/python3.6/dist-packages (from requests>=2.0.0->sphinx; extra == \"all\"->smac[all]) (2.9)\n",
            "Requirement already satisfied: urllib3!=1.25.0,!=1.25.1,<1.26,>=1.21.1 in /usr/local/lib/python3.6/dist-packages (from requests>=2.0.0->sphinx; extra == \"all\"->smac[all]) (1.24.3)\n",
            "Requirement already satisfied: MarkupSafe>=0.23 in /usr/local/lib/python3.6/dist-packages (from Jinja2>=2.3->sphinx; extra == \"all\"->smac[all]) (1.1.1)\n",
            "Requirement already satisfied: pytz>=2015.7 in /usr/local/lib/python3.6/dist-packages (from babel!=2.0,>=1.3->sphinx; extra == \"all\"->smac[all]) (2018.9)\n",
            "Requirement already satisfied: kiwisolver>=1.0.1 in /usr/local/lib/python3.6/dist-packages (from matplotlib->sphinx-gallery==0.5.0; extra == \"all\"->smac[all]) (1.2.0)\n",
            "Requirement already satisfied: python-dateutil>=2.1 in /usr/local/lib/python3.6/dist-packages (from matplotlib->sphinx-gallery==0.5.0; extra == \"all\"->smac[all]) (2.8.1)\n",
            "Requirement already satisfied: cycler>=0.10 in /usr/local/lib/python3.6/dist-packages (from matplotlib->sphinx-gallery==0.5.0; extra == \"all\"->smac[all]) (0.10.0)\n",
            "Requirement already satisfied: PyYAML in /usr/local/lib/python3.6/dist-packages (from pyaml>=16.9->scikit-optimize; extra == \"all\"->smac[all]) (3.13)\n",
            "Requirement already satisfied: smt in /usr/local/lib/python3.6/dist-packages (0.5.3)\n",
            "Requirement already satisfied: scikit-learn in /usr/local/lib/python3.6/dist-packages (from smt) (0.22.2.post1)\n",
            "Requirement already satisfied: matplotlib in /usr/local/lib/python3.6/dist-packages (from smt) (3.2.1)\n",
            "Requirement already satisfied: six>=1.10 in /usr/local/lib/python3.6/dist-packages (from smt) (1.12.0)\n",
            "Requirement already satisfied: scipy in /usr/local/lib/python3.6/dist-packages (from smt) (1.4.1)\n",
            "Requirement already satisfied: packaging in /usr/local/lib/python3.6/dist-packages (from smt) (20.4)\n",
            "Requirement already satisfied: pyDOE2 in /usr/local/lib/python3.6/dist-packages (from smt) (1.3.0)\n",
            "Requirement already satisfied: numpydoc in /usr/local/lib/python3.6/dist-packages (from smt) (1.0.0)\n",
            "Requirement already satisfied: numpy>=1.11.0 in /usr/local/lib/python3.6/dist-packages (from scikit-learn->smt) (1.18.5)\n",
            "Requirement already satisfied: joblib>=0.11 in /usr/local/lib/python3.6/dist-packages (from scikit-learn->smt) (0.15.1)\n",
            "Requirement already satisfied: python-dateutil>=2.1 in /usr/local/lib/python3.6/dist-packages (from matplotlib->smt) (2.8.1)\n",
            "Requirement already satisfied: pyparsing!=2.0.4,!=2.1.2,!=2.1.6,>=2.0.1 in /usr/local/lib/python3.6/dist-packages (from matplotlib->smt) (2.4.7)\n",
            "Requirement already satisfied: cycler>=0.10 in /usr/local/lib/python3.6/dist-packages (from matplotlib->smt) (0.10.0)\n",
            "Requirement already satisfied: kiwisolver>=1.0.1 in /usr/local/lib/python3.6/dist-packages (from matplotlib->smt) (1.2.0)\n",
            "Requirement already satisfied: Jinja2>=2.3 in /usr/local/lib/python3.6/dist-packages (from numpydoc->smt) (2.11.2)\n",
            "Requirement already satisfied: sphinx>=1.6.5 in /usr/local/lib/python3.6/dist-packages (from numpydoc->smt) (1.8.5)\n",
            "Requirement already satisfied: MarkupSafe>=0.23 in /usr/local/lib/python3.6/dist-packages (from Jinja2>=2.3->numpydoc->smt) (1.1.1)\n",
            "Requirement already satisfied: sphinxcontrib-websupport in /usr/local/lib/python3.6/dist-packages (from sphinx>=1.6.5->numpydoc->smt) (1.2.2)\n",
            "Requirement already satisfied: requests>=2.0.0 in /usr/local/lib/python3.6/dist-packages (from sphinx>=1.6.5->numpydoc->smt) (2.23.0)\n",
            "Requirement already satisfied: babel!=2.0,>=1.3 in /usr/local/lib/python3.6/dist-packages (from sphinx>=1.6.5->numpydoc->smt) (2.8.0)\n",
            "Requirement already satisfied: docutils>=0.11 in /usr/local/lib/python3.6/dist-packages (from sphinx>=1.6.5->numpydoc->smt) (0.15.2)\n",
            "Requirement already satisfied: alabaster<0.8,>=0.7 in /usr/local/lib/python3.6/dist-packages (from sphinx>=1.6.5->numpydoc->smt) (0.7.12)\n",
            "Requirement already satisfied: imagesize in /usr/local/lib/python3.6/dist-packages (from sphinx>=1.6.5->numpydoc->smt) (1.2.0)\n",
            "Requirement already satisfied: setuptools in /usr/local/lib/python3.6/dist-packages (from sphinx>=1.6.5->numpydoc->smt) (47.1.1)\n",
            "Requirement already satisfied: Pygments>=2.0 in /usr/local/lib/python3.6/dist-packages (from sphinx>=1.6.5->numpydoc->smt) (2.1.3)\n",
            "Requirement already satisfied: snowballstemmer>=1.1 in /usr/local/lib/python3.6/dist-packages (from sphinx>=1.6.5->numpydoc->smt) (2.0.0)\n",
            "Requirement already satisfied: idna<3,>=2.5 in /usr/local/lib/python3.6/dist-packages (from requests>=2.0.0->sphinx>=1.6.5->numpydoc->smt) (2.9)\n",
            "Requirement already satisfied: urllib3!=1.25.0,!=1.25.1,<1.26,>=1.21.1 in /usr/local/lib/python3.6/dist-packages (from requests>=2.0.0->sphinx>=1.6.5->numpydoc->smt) (1.24.3)\n",
            "Requirement already satisfied: certifi>=2017.4.17 in /usr/local/lib/python3.6/dist-packages (from requests>=2.0.0->sphinx>=1.6.5->numpydoc->smt) (2020.4.5.1)\n",
            "Requirement already satisfied: chardet<4,>=3.0.2 in /usr/local/lib/python3.6/dist-packages (from requests>=2.0.0->sphinx>=1.6.5->numpydoc->smt) (3.0.4)\n",
            "Requirement already satisfied: pytz>=2015.7 in /usr/local/lib/python3.6/dist-packages (from babel!=2.0,>=1.3->sphinx>=1.6.5->numpydoc->smt) (2018.9)\n"
          ],
          "name": "stdout"
        }
      ]
    },
    {
      "cell_type": "code",
      "metadata": {
        "id": "vJr3vEODFZE1",
        "colab_type": "code",
        "cellView": "both",
        "outputId": "f32c7b03-bb4f-40c7-fc2b-b6a1b5fe5c28",
        "colab": {
          "base_uri": "https://localhost:8080/",
          "height": 34
        }
      },
      "source": [
        "import cv2\n",
        "import os\n",
        "import numpy as np\n",
        "import pandas as pd\n",
        "from math import ceil\n",
        "import xml.etree.ElementTree as ET\n",
        "from google.colab import drive\n",
        "from google.colab.patches import cv2_imshow\n",
        "import matplotlib.pyplot as plt\n",
        "import pickle\n",
        "import warnings\n",
        "warnings.filterwarnings(\"ignore\")\n",
        "import gc\n",
        "\n",
        "from keras.models import Model\n",
        "from keras.preprocessing.image import ImageDataGenerator\n",
        "from keras.applications import VGG16, ResNet50, MobileNet\n",
        "from keras.applications.vgg16 import preprocess_input as preprocess_input_vgg16\n",
        "from keras.applications.resnet50 import preprocess_input as preprocess_input_resnet50\n",
        "from keras.applications.mobilenet import preprocess_input as preprocess_input_mobilenet\n",
        "from keras.layers import Dense, Dropout, GlobalAveragePooling2D, Flatten, BatchNormalization, Activation\n",
        "from keras import Model\n",
        "from keras.callbacks import EarlyStopping, ReduceLROnPlateau, ModelCheckpoint\n",
        "from keras.optimizers import Adam, SGD\n",
        "from keras import backend as K\n",
        "\n",
        "from sklearn.metrics import classification_report, accuracy_score\n",
        "from sklearn.utils import class_weight\n",
        "from sklearn.model_selection import train_test_split, KFold\n",
        "from sklearn.preprocessing import OneHotEncoder"
      ],
      "execution_count": 3,
      "outputs": [
        {
          "output_type": "stream",
          "text": [
            "Using TensorFlow backend.\n"
          ],
          "name": "stderr"
        }
      ]
    },
    {
      "cell_type": "code",
      "metadata": {
        "id": "Z8YYvM7UbCMd",
        "colab_type": "code",
        "colab": {}
      },
      "source": [
        "from smac.configspace import ConfigurationSpace \n",
        "from smac.configspace import UniformFloatHyperparameter, UniformIntegerHyperparameter, CategoricalHyperparameter, InCondition\n",
        "from smac.configspace import Configuration # serve per costruire le configurazioni iniziali da passare alla funzione di minimizzazione\n",
        "from smac.scenario.scenario import Scenario\n",
        "from smac.facade.smac_bo_facade import SMAC4BO # bayesian optimization with GaussianProcess\n",
        "from smac.facade.smac_hpo_facade import SMAC4HPO # bayesian optimization with RandomForest\n",
        "from smac.optimizer.acquisition import EI, LCB, PI\n",
        "from smac.runhistory.runhistory import RunHistory # util class to collect all data of optimization\n",
        "from smac.initial_design.latin_hypercube_design import LHDesign\n",
        "from smac.initial_design.random_configuration_design import RandomConfigurations\n",
        "from smac.stats.stats import Stats # util class to save history on directory\n",
        "from smac.utils.io.traj_logging import TrajLogger\n",
        "#from smac.optimizer.objective import average_cost"
      ],
      "execution_count": 0,
      "outputs": []
    },
    {
      "cell_type": "markdown",
      "metadata": {
        "id": "eD9R4p_JGS8j",
        "colab_type": "text"
      },
      "source": [
        "# Costant"
      ]
    },
    {
      "cell_type": "code",
      "metadata": {
        "id": "Jui_q9SGGXsi",
        "colab_type": "code",
        "outputId": "6c0c89a5-1a67-4ce8-e04d-506fab0c1734",
        "cellView": "both",
        "colab": {
          "base_uri": "https://localhost:8080/",
          "height": 34
        }
      },
      "source": [
        "drive.mount('/content/drive')\n",
        "\n",
        "PATH_ANNOTATIONS = '/content/drive/My Drive/Laurea Magistrale/Adavanched Machine Learning/Progetto/Dataset/Train/Annotations/'\n",
        "PATH_MAIN = '/content/drive/My Drive/Laurea Magistrale/Adavanched Machine Learning/Progetto/Dataset/Train/Main/'\n",
        "PATH_IMAGES = '/content/drive/My Drive/Laurea Magistrale/Adavanched Machine Learning/Progetto/Dataset/Train/Images/'\n",
        "PATH_IMAGES_CROPPED_TRAIN = '/content/drive/My Drive/Laurea Magistrale/Adavanched Machine Learning/Progetto/Dataset/Train/Cropped_train/'\n",
        "PATH_IMAGES_CROPPED_VAL_TEST = '/content/drive/My Drive/Laurea Magistrale/Adavanched Machine Learning/Progetto/Dataset/Train/Cropped_val_test/'\n",
        "PATH_IMAGES_CROPPED_TRAIN_BALANCED = '/content/drive/My Drive/Laurea Magistrale/Adavanched Machine Learning/Progetto/Dataset/Train/Cropped_train_balanced/'\n",
        "PATH_IMAGES_CROPPED_VAL_TEST_BALANCED = '/content/drive/My Drive/Laurea Magistrale/Adavanched Machine Learning/Progetto/Dataset/Train/Cropped_val_test_balanced/'\n",
        "PATH_OPTIMIZATION = '/content/drive/My Drive/Laurea Magistrale/Adavanched Machine Learning/Progetto/Ottimizzazione/'\n",
        "PATH_PICKLE = '/content/drive/My Drive/Laurea Magistrale/Adavanched Machine Learning/Progetto/Pickles/'\n",
        "\n",
        "BATCH_SIZE = 64\n",
        "IM_SIZE = (128, 128)\n",
        "\n",
        "LABELS = ['aeroplane', 'bicycle', 'bird', 'boat', 'bottle', 'bus', \n",
        "          'car', 'cat', 'chair', 'cow', 'diningtable',\n",
        "          'dog', 'horse', 'motorbike', 'person', 'pottedplant', 'sheep', 'sofa',\n",
        "          'train', 'tvmonitor']"
      ],
      "execution_count": 4,
      "outputs": [
        {
          "output_type": "stream",
          "text": [
            "Drive already mounted at /content/drive; to attempt to forcibly remount, call drive.mount(\"/content/drive\", force_remount=True).\n"
          ],
          "name": "stdout"
        }
      ]
    },
    {
      "cell_type": "markdown",
      "metadata": {
        "id": "bwTcVNKCAoJt",
        "colab_type": "text"
      },
      "source": [
        "# Directory for cropped images"
      ]
    },
    {
      "cell_type": "code",
      "metadata": {
        "id": "shqDlbvsAsmi",
        "colab_type": "code",
        "colab": {}
      },
      "source": [
        "# creo 20 directory, una per ogni classe, per fare classificazione (flow_from_datframe) sulle immagini croppate\n",
        "def create_directories(path, labels):\n",
        "  for label in labels:\n",
        "    os.mkdir(os.path.join(path, label))\n",
        "\n",
        "create_folder_classes = True\n",
        "'''\n",
        "if create_folder_classes == True:\n",
        "  create_directories(PATH_IMAGES_CROPPED_TRAIN, LABELS)\n",
        "  create_directories(PATH_IMAGES_CROPPED_VAL_TEST, LABELS)\n",
        "'''\n",
        "if create_folder_classes == True:\n",
        "  #create_directories(PATH_IMAGES_CROPPED_TRAIN_BALANCED, LABELS)\n",
        "  create_directories(PATH_IMAGES_CROPPED_VAL_TEST_BALANCED, LABELS)"
      ],
      "execution_count": 0,
      "outputs": []
    },
    {
      "cell_type": "markdown",
      "metadata": {
        "id": "awq2lzbxBXgj",
        "colab_type": "text"
      },
      "source": [
        "# Util function for mapping from label to #class"
      ]
    },
    {
      "cell_type": "code",
      "metadata": {
        "id": "NN3ewyc_BenA",
        "colab_type": "code",
        "colab": {}
      },
      "source": [
        "def create_dict_mapping(labels):\n",
        "  mapping = {}\n",
        "  for label,i in zip(labels, range(len(labels))):\n",
        "    mapping[label] = i\n",
        "  return mapping\n",
        "\n",
        "def from_label_to_number(mapping, label):\n",
        "  return mapping[label]\n",
        "\n",
        "def from_number_to_label(mapping, number):\n",
        "  for key, val in mapping.items(): \n",
        "    if val == number: \n",
        "      return key \n",
        "  return \"key doesn't exist\"\n",
        "\n",
        "def from_onehot_to_label(mapping, one_hot):\n",
        "  return from_number_to_label(mapping,np.where(one_hot == 1)[0][0])"
      ],
      "execution_count": 0,
      "outputs": []
    },
    {
      "cell_type": "code",
      "metadata": {
        "id": "2EGlorv3K-NG",
        "colab_type": "code",
        "outputId": "441d02f2-a8c2-4ae3-f046-828529710ded",
        "colab": {
          "base_uri": "https://localhost:8080/",
          "height": 54
        }
      },
      "source": [
        "mapping = create_dict_mapping(LABELS)\n",
        "print(mapping)"
      ],
      "execution_count": 0,
      "outputs": [
        {
          "output_type": "stream",
          "text": [
            "{'aeroplane': 0, 'bicycle': 1, 'bird': 2, 'boat': 3, 'bottle': 4, 'bus': 5, 'car': 6, 'cat': 7, 'chair': 8, 'cow': 9, 'diningtable': 10, 'dog': 11, 'horse': 12, 'motorbike': 13, 'person': 14, 'pottedplant': 15, 'sheep': 16, 'sofa': 17, 'train': 18, 'tvmonitor': 19}\n"
          ],
          "name": "stdout"
        }
      ]
    },
    {
      "cell_type": "markdown",
      "metadata": {
        "id": "AHm9t-_NGYDa",
        "colab_type": "text"
      },
      "source": [
        "# Crop and save image for class"
      ]
    },
    {
      "cell_type": "code",
      "metadata": {
        "id": "5P1zAHxAGdTJ",
        "colab_type": "code",
        "colab": {}
      },
      "source": [
        "def crop_image(img, x_min, y_min, x_max, y_max):\n",
        "  crop_img = img[y_min:y_max, x_min:x_max]\n",
        "  if (y_max-y_min) >= 100 and (x_max-x_min) >= 100:\n",
        "    crop_img = cv2.resize(crop_img, IM_SIZE)\n",
        "    return crop_img\n",
        "  else:\n",
        "    return None"
      ],
      "execution_count": 0,
      "outputs": []
    },
    {
      "cell_type": "code",
      "metadata": {
        "id": "_QkTnM8cPtA_",
        "colab_type": "code",
        "colab": {}
      },
      "source": [
        "def list_images(path_images, path_txt, file_txt):\n",
        "  # creo liste immagini presenti in file_txt\n",
        "  temp = []\n",
        "  f = open(os.path.join(path_txt, file_txt), \"r\")\n",
        "  for line in f.readlines():\n",
        "    temp.append(line.split('\\n')[0] + '.jpg')\n",
        "  list_images = [os.path.join(path_images, name) for name in temp]\n",
        "  print('Ho trovato ', len(list_images), 'per il file ', file_txt)\n",
        "  return list_images\n",
        "\n",
        "# creo liste immagini da train.txt e val.txt\n",
        "list_images_train = list_images(PATH_IMAGES, PATH_MAIN, 'train.txt')\n",
        "list_images_val = list_images(PATH_IMAGES, PATH_MAIN, 'val.txt')"
      ],
      "execution_count": 0,
      "outputs": []
    },
    {
      "cell_type": "code",
      "metadata": {
        "id": "gt_3vjWp7sUu",
        "colab_type": "code",
        "colab": {}
      },
      "source": [
        "train_count = {}\n",
        "\n",
        "# dict to count number of image for every class\n",
        "for label in LABELS:\n",
        "  train_count[label] = 0"
      ],
      "execution_count": 0,
      "outputs": []
    },
    {
      "cell_type": "code",
      "metadata": {
        "id": "rCnf_0tOQ687",
        "colab_type": "code",
        "colab": {}
      },
      "source": [
        "def read_and_crop(list_images, annotation_dir, path_to_save, train=False):\n",
        "  '''\n",
        "  leggo annotations dei file presenti nelle due liste di immagini \n",
        "  '''\n",
        "  for path in list_images:\n",
        "    image_name = path.split('/')[-1].split('.')[0] \n",
        "    print(image_name)\n",
        "    with open(os.path.join(annotation_dir, image_name + '.xml')) as f:\n",
        "      read_xml(f.read(), path, path_to_save, train)\n",
        "  return\n",
        "\n",
        "def read_xml(file_xml, path_image, path_to_save, train=False):\n",
        "  '''\n",
        "  leggo xml e per ogni box che trovo croppo e salvo\n",
        "  '''\n",
        "  #print(path_image)\n",
        "  img = cv2.imread(path_image)  \n",
        "  root = ET.XML(file_xml)\n",
        "  for _, child in enumerate(root):\n",
        "    if child.tag == 'object':\n",
        "      x_min = None\n",
        "      y_min = None\n",
        "      x_max = None\n",
        "      y_max = None\n",
        "      for subchild in child:\n",
        "        if subchild.tag == 'name':\n",
        "          name_object = subchild.text\n",
        "          #print(name_object)\n",
        "        if subchild.tag == 'bndbox':\n",
        "          for bndbox in subchild:\n",
        "            if bndbox.tag == 'xmin':\n",
        "              x_min = int(bndbox.text)\n",
        "              #print('x_min ', x_min)\n",
        "            if bndbox.tag == 'ymin':\n",
        "              y_min = int(bndbox.text)\n",
        "              #print('y_min ', y_min)\n",
        "            if bndbox.tag == 'xmax':\n",
        "              x_max = int(bndbox.text)\n",
        "              #print('x_max ', x_max)\n",
        "            if bndbox.tag == 'ymax':\n",
        "              y_max = int(bndbox.text)\n",
        "              #print('y_max ', y_max)\n",
        "        if(x_min!=None and y_min!=None and x_max!=None and y_max!=None):\n",
        "          if(train_count[name_object] < 500 and train) or (not train):\n",
        "            image_cropped = crop_image(img, x_min, y_min, x_max, y_max)\n",
        "            x_min = None\n",
        "            y_min = None\n",
        "            x_max = None\n",
        "            y_max = None\n",
        "            #cv2_imshow(image_cropped)\n",
        "            if image_cropped is not None:\n",
        "              save_image_cropped(name_object, image_cropped, path_to_save, train)\n",
        "  return \n",
        "\n",
        "def save_image_cropped(obj, img, path_to_save, train=False):\n",
        "  '''\n",
        "  salvo immagine croppata con numero progressivo in base \n",
        "  all'ultima presente nella cartella\n",
        "  '''\n",
        "  list_dir_classes = os.listdir(path_to_save)\n",
        "  for dir_class in list_dir_classes:\n",
        "    if dir_class == obj:\n",
        "      dir_temp = os.path.join(path_to_save,dir_class)\n",
        "      list_temp = os.listdir(dir_temp)\n",
        "      if list_temp == []:\n",
        "        cv2.imwrite(os.path.join(dir_temp, obj + '_1.jpg'), img)\n",
        "        if train:\n",
        "          train_count[obj] += 1\n",
        "      else:\n",
        "        number_file = int(list_temp[-1].split('.')[0].split('_')[1]) + 1\n",
        "        cv2.imwrite(os.path.join(dir_temp, obj + '_' + str(number_file) + '.jpg'), img)\n",
        "        if train:\n",
        "          train_count[obj] += 1\n",
        "  return\n",
        "\n",
        "#read_and_crop(list_images=list_images_train, annotation_dir=PATH_ANNOTATIONS, path_to_save=PATH_IMAGES_CROPPED_TRAIN_BALANCED, train=True)\n",
        "read_and_crop(list_images=list_images_val, annotation_dir=PATH_ANNOTATIONS, path_to_save=PATH_IMAGES_CROPPED_VAL_TEST_BALANCED, train=False)"
      ],
      "execution_count": 0,
      "outputs": []
    },
    {
      "cell_type": "code",
      "metadata": {
        "id": "aJ8TWz7E5pKU",
        "colab_type": "code",
        "colab": {}
      },
      "source": [
        "train_count\n"
      ],
      "execution_count": 0,
      "outputs": []
    },
    {
      "cell_type": "markdown",
      "metadata": {
        "id": "WgzdNcHZGgch",
        "colab_type": "text"
      },
      "source": [
        "# Generator from directory"
      ]
    },
    {
      "cell_type": "code",
      "metadata": {
        "id": "JMtwpZ_kGfsx",
        "colab_type": "code",
        "colab": {}
      },
      "source": [
        "def create_generator( batch_size, im_size, train_directory, val_directory, labels,\n",
        "                      validation_split, aug, augment_params):\n",
        "    \n",
        "  preprocess_function = preprocess_input_vgg16\n",
        "\n",
        "  if not(aug):\n",
        "    img_gen_train = ImageDataGenerator(#rescale=1./255, \n",
        "                                       preprocessing_function=preprocess_function)\n",
        "  elif aug:\n",
        "    img_gen_train = ImageDataGenerator( preprocessing_function=preprocess_function,\n",
        "                                        #rescale=1./255,\n",
        "                                        **augment_params)  \n",
        "\n",
        "\n",
        "  img_gen_val = ImageDataGenerator( preprocessing_function=preprocess_function,\n",
        "                                    validation_split = validation_split\n",
        "                                  )\n",
        "    \n",
        "  train_gen = img_gen_train.flow_from_directory(\n",
        "      directory = train_directory,\n",
        "      shuffle=True,\n",
        "      class_mode='categorical',\n",
        "      target_size=im_size,\n",
        "      batch_size=batch_size,\n",
        "      classes=labels,\n",
        "      seed=42\n",
        "  )\n",
        "\n",
        "  val_gen = img_gen_val.flow_from_directory(\n",
        "      directory = val_directory,\n",
        "      shuffle=False,\n",
        "      class_mode='categorical',\n",
        "      target_size=im_size,\n",
        "      batch_size=batch_size,\n",
        "      subset='training',\n",
        "      classes=labels,\n",
        "      seed=42\n",
        "  )\n",
        "\n",
        "  test_gen = img_gen_val.flow_from_directory(\n",
        "      directory = val_directory,\n",
        "      shuffle=False,\n",
        "      class_mode='categorical',\n",
        "      target_size=im_size,\n",
        "      batch_size=batch_size,\n",
        "      subset='validation',\n",
        "      classes=labels,\n",
        "      seed=42\n",
        "  )\n",
        "\n",
        "  return train_gen, val_gen, test_gen"
      ],
      "execution_count": 0,
      "outputs": []
    },
    {
      "cell_type": "markdown",
      "metadata": {
        "id": "ISzDSogyQ12u",
        "colab_type": "text"
      },
      "source": [
        "# Generator from image in memory"
      ]
    },
    {
      "cell_type": "code",
      "metadata": {
        "id": "Z27ENn5qQ9AR",
        "colab_type": "code",
        "colab": {}
      },
      "source": [
        "def create_generator_for_pickle( images_train, labels_train, images_val, labels_val, batch_size, base_net,\n",
        "                      validation_split, aug, augment_params):\n",
        "  \n",
        "  if base_net == 'vgg16':\n",
        "    preprocess_function = preprocess_input_vgg16\n",
        "  elif base_net == 'mobilenet':\n",
        "    preprocess_function = preprocess_input_mobilenet\n",
        "  elif base_net == 'resnet':\n",
        "    preprocess_function = preprocess_input_resnet50\n",
        "\n",
        "  if not(aug):\n",
        "    img_gen_train = ImageDataGenerator(preprocessing_function=preprocess_function)\n",
        "  elif aug:\n",
        "    img_gen_train = ImageDataGenerator( preprocessing_function=preprocess_function,\n",
        "                                        **augment_params)  \n",
        "\n",
        "\n",
        "  img_gen_val = ImageDataGenerator( preprocessing_function=preprocess_function,\n",
        "                                    validation_split = validation_split\n",
        "                                  )\n",
        "    \n",
        "  train_gen = img_gen_train.flow(\n",
        "      x = images_train,\n",
        "      y = labels_train,\n",
        "      shuffle=True,\n",
        "      batch_size=batch_size,\n",
        "      seed=42\n",
        "  )\n",
        "\n",
        "  val_gen = img_gen_val.flow(\n",
        "      x = images_val,\n",
        "      y = labels_val,\n",
        "      shuffle=False,\n",
        "      batch_size=batch_size,\n",
        "      subset='training',\n",
        "      seed=42\n",
        "  )\n",
        "\n",
        "  test_gen = img_gen_val.flow(\n",
        "      x = images_val,\n",
        "      y = labels_val,\n",
        "      shuffle=False,\n",
        "      batch_size=batch_size,\n",
        "      subset='validation',\n",
        "      seed=42\n",
        "  )\n",
        "\n",
        "  return train_gen, val_gen, test_gen"
      ],
      "execution_count": 0,
      "outputs": []
    },
    {
      "cell_type": "markdown",
      "metadata": {
        "id": "dDw9W32GaThb",
        "colab_type": "text"
      },
      "source": [
        "# Frequency classes"
      ]
    },
    {
      "cell_type": "code",
      "metadata": {
        "id": "teCq1HPhaXTg",
        "colab_type": "code",
        "colab": {}
      },
      "source": [
        "def get_frequency_from_generator(generator):\n",
        "  mapping = generator.class_indices\n",
        "  classes, count = np.unique(generator.labels, return_counts=True)\n",
        "  labels = [from_number_to_label(mapping, label) for label in classes]\n",
        "  freq = count\n",
        "  return labels, freq\n",
        "\n",
        "def normalize_frequency(freq):\n",
        "  min_freq = np.min(freq)\n",
        "  weigh = [min_freq/x for x in freq]\n",
        "  return weigh * freq, weigh\n",
        "\n",
        "def plot_label_frequency(labels, freq):\n",
        "  freq = freq / np.sum(freq)\n",
        "  l = list(range(1, len(labels)+1))\n",
        "  plt.barh(l, width=freq, height=0.5)\n",
        "  plt.yticks(l, labels, rotation='horizontal')\n",
        "  plt.show()\n",
        "\n",
        "def plot_stacked_bar_freq(labels, freq, freq_normalize):\n",
        "  N = len(labels)\n",
        "  ind = np.arange(N)    # the x locations for the groups\n",
        "  width = 0.35       # the width of the bars: can also be len(x) sequence\n",
        "\n",
        "  p1 = plt.bar(ind, freq, width)\n",
        "  p2 = plt.bar(ind, freq_normalize, width)\n",
        "\n",
        "  plt.ylabel('Frequency')\n",
        "  plt.legend((p1[0], p2[0]), ('Freq', 'Freq_normalize'))\n",
        "\n",
        "  plt.show() "
      ],
      "execution_count": 0,
      "outputs": []
    },
    {
      "cell_type": "code",
      "metadata": {
        "id": "BR99sl1tKkgt",
        "colab_type": "code",
        "colab": {}
      },
      "source": [
        "labels, freq = get_frequency_from_generator(train_gen)\n"
      ],
      "execution_count": 0,
      "outputs": []
    },
    {
      "cell_type": "code",
      "metadata": {
        "id": "Hg48KrlvhswU",
        "colab_type": "code",
        "colab": {}
      },
      "source": [
        "print(labels)\n",
        "print(freq)"
      ],
      "execution_count": 0,
      "outputs": []
    },
    {
      "cell_type": "code",
      "metadata": {
        "id": "NWJR49amiauf",
        "colab_type": "code",
        "outputId": "4da348a9-4b5b-4033-bd2c-dc49b45741ae",
        "colab": {
          "base_uri": "https://localhost:8080/",
          "height": 265
        }
      },
      "source": [
        "plot_label_frequency(labels, freq)"
      ],
      "execution_count": 0,
      "outputs": [
        {
          "output_type": "display_data",
          "data": {
            "image/png": "[encoded data removed]",
            "text/plain": [
              "<Figure size 432x288 with 1 Axes>"
            ]
          },
          "metadata": {
            "tags": [],
            "needs_background": "light"
          }
        }
      ]
    },
    {
      "cell_type": "code",
      "metadata": {
        "id": "jo-t0MmYjmXY",
        "colab_type": "code",
        "outputId": "c46ac3fb-bd96-472a-ad36-4a8c6ab5344d",
        "colab": {
          "base_uri": "https://localhost:8080/",
          "height": 71
        }
      },
      "source": [
        "freq_normalize = normalize_frequency(freq)\n",
        "print(freq_normalize)"
      ],
      "execution_count": 0,
      "outputs": [
        {
          "output_type": "stream",
          "text": [
            "(array([317., 317., 317., 317., 317., 317., 317., 317., 317., 317., 317.,\n",
            "       317., 317., 317., 317., 317., 317., 317., 317., 317.]), [0.674468085106383, 0.7731707317073171, 0.535472972972973, 0.6240157480314961, 0.4232309746328438, 1.0, 0.2661628883291352, 0.5205254515599343, 0.2175703500343171, 0.8929577464788733, 0.8498659517426274, 0.4127604166666667, 0.8408488063660478, 0.8453333333333334, 0.06315999203028491, 0.5691202872531418, 0.6227897838899804, 0.7944862155388471, 0.9694189602446484, 0.7694174757281553])\n"
          ],
          "name": "stdout"
        }
      ]
    },
    {
      "cell_type": "code",
      "metadata": {
        "id": "mvIqlKPijrTx",
        "colab_type": "code",
        "outputId": "f531e9b0-7078-4bd4-9f6d-b69b79294d6e",
        "colab": {
          "base_uri": "https://localhost:8080/",
          "height": 265
        }
      },
      "source": [
        "plot_stacked_bar_freq(labels, freq, freq_normalize[0])"
      ],
      "execution_count": 0,
      "outputs": [
        {
          "output_type": "display_data",
          "data": {
            "image/png": "[encoded data removed]",
            "text/plain": [
              "<Figure size 432x288 with 1 Axes>"
            ]
          },
          "metadata": {
            "tags": [],
            "needs_background": "light"
          }
        }
      ]
    },
    {
      "cell_type": "markdown",
      "metadata": {
        "id": "XXwxrNdCShlc",
        "colab_type": "text"
      },
      "source": [
        "# Model feature extractor"
      ]
    },
    {
      "cell_type": "code",
      "metadata": {
        "id": "etwOZM2GSjL_",
        "colab_type": "code",
        "colab": {}
      },
      "source": [
        "def feature_extraction(cut_layer, dense, dropouts, im_size, loss, optimizer, metrics, verbose=False):\n",
        "  '''\n",
        "    viene definito il layer di cut della vgg e vengono aggiunti una serie di layer densi prima dell'output\n",
        "  '''\n",
        "  print('porco ziooooooooooo')\n",
        "  base_model = VGG16(weights = 'imagenet', input_shape=im_size + (3,), include_top = False)\n",
        "\n",
        "  x = base_model.layers[cut_layer].output\n",
        "  x = GlobalAveragePooling2D()(x)\n",
        "  for layer,dropout in zip(dense,dropouts):\n",
        "    x = Dense(layer, activation='relu')(x)\n",
        "    x = Dropout(dropout)(x)\n",
        "  predictions = Dense(20, activation = 'softmax')(x)\n",
        "  model = Model(input = base_model.input, output = predictions)\n",
        "\n",
        "  for layer in base_model.layers:\n",
        "    layer.trainable=False\n",
        "    \n",
        "  if verbose:\n",
        "    model.summary()\n",
        "\n",
        "  model.compile(loss=loss, \n",
        "                optimizer=optimizer, \n",
        "                metrics=metrics\n",
        "  )\n",
        "      \n",
        "  return model"
      ],
      "execution_count": 0,
      "outputs": []
    },
    {
      "cell_type": "markdown",
      "metadata": {
        "id": "oXNhkv10FLgG",
        "colab_type": "text"
      },
      "source": [
        "# Model fine tuning"
      ]
    },
    {
      "cell_type": "code",
      "metadata": {
        "id": "n8EhFgVcFTa7",
        "colab_type": "code",
        "colab": {}
      },
      "source": [
        "def fine_tuning(freeze_to, dense, dropouts, im_size, loss, optimizer, metrics, verbose=False):\n",
        "  '''\n",
        "    vengono definiti i layer della vgg trainabili e i dense layer prima dell'output\n",
        "  '''\n",
        "  \n",
        "  base_model = VGG16(weights = 'imagenet', input_shape=im_size + (3,), include_top = False)\n",
        "\n",
        "  x = base_model.layers[-1].output\n",
        "  x = GlobalAveragePooling2D()(x) \n",
        "\n",
        "  for layer,dropout in zip(dense,dropouts): \n",
        "    x = Dense(layer, activation='relu')(x)\n",
        "    x = Dropout(dropout)(x)\n",
        "  predictions = Dense(20, activation = 'softmax')(x)\n",
        "  model = Model(input = base_model.input, output = predictions)\n",
        "\n",
        "  for layer in base_model.layers[:freeze_to]:\n",
        "    layer.trainable=False\n",
        "  for layer in model.layers[freeze_to:]: # layer su cui applicare fine tuning\n",
        "    layer.trainable = True\n",
        "\n",
        "  if verbose:\n",
        "    model.summary()\n",
        "\n",
        "  model.compile(loss=loss, \n",
        "                optimizer=optimizer, \n",
        "                metrics=metrics\n",
        "  )\n",
        "      \n",
        "  return model"
      ],
      "execution_count": 0,
      "outputs": []
    },
    {
      "cell_type": "markdown",
      "metadata": {
        "id": "l7fUcTZApdLB",
        "colab_type": "text"
      },
      "source": [
        "# Plot performance epoch"
      ]
    },
    {
      "cell_type": "code",
      "metadata": {
        "id": "UXAGRUyipg-R",
        "colab_type": "code",
        "colab": {}
      },
      "source": [
        "def plot_performance(history):\n",
        "  plt.plot(history.history['categorical_accuracy'])\n",
        "  plt.plot(history.history['val_categorical_accuracy'])\n",
        "  plt.title('model accuracy')\n",
        "  plt.ylabel('accuracy')\n",
        "  plt.xlabel('epoch')\n",
        "  plt.legend(['train', 'val'], loc='upper left')\n",
        "  plt.show()\n",
        "  # summarize history for loss\n",
        "  plt.plot(history.history['loss'])\n",
        "  plt.plot(history.history['val_loss'])\n",
        "  plt.title('model loss')\n",
        "  plt.ylabel('loss')\n",
        "  plt.xlabel('epoch')\n",
        "  plt.legend(['train', 'val'], loc='upper left')\n",
        "  plt.show()"
      ],
      "execution_count": 0,
      "outputs": []
    },
    {
      "cell_type": "markdown",
      "metadata": {
        "id": "1gpMHcy2SpB7",
        "colab_type": "text"
      },
      "source": [
        "# Util to load train/val pickle"
      ]
    },
    {
      "cell_type": "code",
      "metadata": {
        "id": "rSiSo2KHSzmo",
        "colab_type": "code",
        "colab": {}
      },
      "source": [
        "def load_pickle(path_file, one_hot=True):\n",
        "\n",
        "  file = open(path_file, 'rb')\n",
        "  data = pickle.load(file)\n",
        "  file.close()\n",
        "  images = data[0]\n",
        "  labels = data[1]\n",
        "\n",
        "  if one_hot:\n",
        "    enc = OneHotEncoder(handle_unknown='ignore')\n",
        "    enc.fit(labels.reshape(-1,1))\n",
        "    labels_one_hot = enc.transform(labels.reshape(-1,1)).toarray()\n",
        "\n",
        "  return images, labels_one_hot"
      ],
      "execution_count": 0,
      "outputs": []
    },
    {
      "cell_type": "markdown",
      "metadata": {
        "id": "22ReLsjTEeCZ",
        "colab_type": "text"
      },
      "source": [
        "# Experiments"
      ]
    },
    {
      "cell_type": "markdown",
      "metadata": {
        "id": "se7bKuAJbulU",
        "colab_type": "text"
      },
      "source": [
        "## Set up generator"
      ]
    },
    {
      "cell_type": "code",
      "metadata": {
        "id": "cDNTdRNpGBpI",
        "colab_type": "code",
        "outputId": "408ec0a0-e309-4300-f132-64d5ce4045e5",
        "colab": {
          "base_uri": "https://localhost:8080/",
          "height": 68
        }
      },
      "source": [
        "#base_net = 'vgg16'\n",
        "\n",
        "augment_params = dict(  rotation_range=30,\n",
        "                        horizontal_flip=True,\n",
        "                        zoom_range=0.1\n",
        "                      )\n",
        "\n",
        "train_gen, val_gen, test_gen = create_generator(batch_size=BATCH_SIZE, \n",
        "                                                im_size=IM_SIZE, \n",
        "                                                train_directory=PATH_IMAGES_CROPPED_TRAIN_BALANCED, \n",
        "                                                val_directory=PATH_IMAGES_CROPPED_VAL_TEST_BALANCED, \n",
        "                                                labels=LABELS,\n",
        "                                                validation_split=0.7,\n",
        "                                                aug=True,\n",
        "                                                augment_params=augment_params\n",
        "                                                )\n",
        "\n"
      ],
      "execution_count": 0,
      "outputs": [
        {
          "output_type": "stream",
          "text": [
            "Found 5680 images belonging to 20 classes.\n",
            "Found 2341 images belonging to 20 classes.\n",
            "Found 5432 images belonging to 20 classes.\n"
          ],
          "name": "stdout"
        }
      ]
    },
    {
      "cell_type": "code",
      "metadata": {
        "id": "oR4bO3SF_-EN",
        "colab_type": "code",
        "colab": {}
      },
      "source": [
        "x,y = train_gen.next()\n",
        "for i in range(0,10):\n",
        "    image = x[i]\n",
        "    plt.figure()\n",
        "    plt.imshow(image)\n",
        "    plt.title(from_onehot_to_label(mapping, y[i]))\n",
        "    plt.show\n",
        "\n",
        "train_gen.reset()"
      ],
      "execution_count": 0,
      "outputs": []
    },
    {
      "cell_type": "markdown",
      "metadata": {
        "id": "pNm8VPigbjay",
        "colab_type": "text"
      },
      "source": [
        "## Analyze frequency label in generator"
      ]
    },
    {
      "cell_type": "code",
      "metadata": {
        "id": "l7QYMSTWbaof",
        "colab_type": "code",
        "colab": {}
      },
      "source": [
        "labels, freq = get_frequency_from_generator(train_gen)\n",
        "plot_label_frequency(labels, freq)\n",
        "freq_normalize, weigh = normalize_frequency(freq)\n",
        "#plot_label_frequency(labels, freq_normalize)\n",
        "plot_stacked_bar_freq(labels, freq, freq_normalize)\n",
        "'''\n",
        "# dict for weigh model\n",
        "weigh_class = {}\n",
        "for label,i in zip(labels, weigh):\n",
        "  weigh_class[from_label_to_number(mapping, label)] = i\n",
        "'''"
      ],
      "execution_count": 0,
      "outputs": []
    },
    {
      "cell_type": "code",
      "metadata": {
        "id": "mqmfekWbn-jf",
        "colab_type": "code",
        "outputId": "2b9c4842-ba68-44a6-f120-148988d54c32",
        "colab": {
          "base_uri": "https://localhost:8080/",
          "height": 357
        }
      },
      "source": [
        "weigh_class"
      ],
      "execution_count": 0,
      "outputs": [
        {
          "output_type": "execute_result",
          "data": {
            "text/plain": [
              "{0: 0.674468085106383,\n",
              " 1: 0.7731707317073171,\n",
              " 2: 0.535472972972973,\n",
              " 3: 0.6240157480314961,\n",
              " 4: 0.4232309746328438,\n",
              " 5: 1.0,\n",
              " 6: 0.2661628883291352,\n",
              " 7: 0.5205254515599343,\n",
              " 8: 0.2175703500343171,\n",
              " 9: 0.8929577464788733,\n",
              " 10: 0.8498659517426274,\n",
              " 11: 0.4127604166666667,\n",
              " 12: 0.8408488063660478,\n",
              " 13: 0.8453333333333334,\n",
              " 14: 0.06315999203028491,\n",
              " 15: 0.5691202872531418,\n",
              " 16: 0.6227897838899804,\n",
              " 17: 0.7944862155388471,\n",
              " 18: 0.9694189602446484,\n",
              " 19: 0.7694174757281553}"
            ]
          },
          "metadata": {
            "tags": []
          },
          "execution_count": 114
        }
      ]
    },
    {
      "cell_type": "markdown",
      "metadata": {
        "id": "oAg57-_ib21t",
        "colab_type": "text"
      },
      "source": [
        "## Set up iper-parameter for fit and model"
      ]
    },
    {
      "cell_type": "code",
      "metadata": {
        "id": "1QSFiR2Ab6v1",
        "colab_type": "code",
        "colab": {}
      },
      "source": [
        "loss = 'categorical_crossentropy'\n",
        "optimizer = 'adam'\n",
        "reduce_on_plateau = ReduceLROnPlateau(monitor='val_loss', factor=0.01, patience=3, \n",
        "                                      verbose=1, mode='auto', min_delta=0.0001, \n",
        "                                      cooldown=0, min_lr=0.000001)\n",
        "early_stop = EarlyStopping(monitor='val_loss', \n",
        "                           patience=5, \n",
        "                           verbose=1,\n",
        "                           restore_best_weights=True\n",
        "                           )\n",
        "model_checkpoint = ModelCheckpoint(filepath='best_weights.h5', \n",
        "                                   monitor='val_loss', \n",
        "                                   save_best_only=True)\n",
        "metrics = ['categorical_accuracy']\n",
        "epochs = 50\n",
        "steps_per_epoch = ceil(train_gen.n / train_gen.batch_size)\n",
        "validation_steps = ceil(val_gen.n / val_gen.batch_size)\n",
        "test_steps = ceil(test_gen.n / test_gen.batch_size)\n",
        "dense = []"
      ],
      "execution_count": 0,
      "outputs": []
    },
    {
      "cell_type": "markdown",
      "metadata": {
        "id": "Pz6Y1ic80Rz2",
        "colab_type": "text"
      },
      "source": [
        "## Create model"
      ]
    },
    {
      "cell_type": "code",
      "metadata": {
        "id": "vQ2obP6f0UDz",
        "colab_type": "code",
        "colab": {}
      },
      "source": [
        "# model feauture extraction\n",
        "model = feature_extraction(cut_layer=-1,\n",
        "                           dense=[512, 256, 128, 64],\n",
        "                           dropouts=[0.2,0.2,0.2,0.2],\n",
        "                           im_size=IM_SIZE,\n",
        "                           loss='categorical_crossentropy',\n",
        "                           optimizer=optimizer,\n",
        "                           metrics=metrics,\n",
        "                           verbose=False\n",
        "                           )\n",
        "# TODO model fine tuning\n",
        "'''\n",
        "model = fine_tuning(freeze_to=15,\n",
        "                    dense=[128, 64],\n",
        "                    dropouts=[0.2,0.2],\n",
        "                    im_size=IM_SIZE,\n",
        "                    loss='categorical_crossentropy,\n",
        "                    optimizer=optimizer,\n",
        "                    metrics=metrics,\n",
        "                    verbose=False)\n",
        "'''\n",
        "for index,layer in enumerate(model.layers):\n",
        "  print(index, ' ', layer.name, ' ', layer.trainable)\n"
      ],
      "execution_count": 0,
      "outputs": []
    },
    {
      "cell_type": "markdown",
      "metadata": {
        "id": "8U2BptkC0JcN",
        "colab_type": "text"
      },
      "source": [
        "## Fit prova"
      ]
    },
    {
      "cell_type": "code",
      "metadata": {
        "id": "Y9HmoEWOUkkU",
        "colab_type": "code",
        "outputId": "d605aac0-b9f7-412f-cb71-0fc4b33c1d9f",
        "colab": {
          "base_uri": "https://localhost:8080/",
          "height": 85
        }
      },
      "source": [
        "net_history = model.fit_generator(train_gen, epochs=2, verbose=1,\n",
        "                                  validation_data = val_gen,\n",
        "                                  steps_per_epoch = steps_per_epoch,\n",
        "                                  validation_steps = validation_steps,\n",
        "                                  callbacks = [early_stop, reduce_on_plateau]                 \n",
        "                                  )"
      ],
      "execution_count": 0,
      "outputs": [
        {
          "output_type": "stream",
          "text": [
            "Epoch 1/2\n",
            "89/89 [==============================] - 3891s 44s/step - loss: 2.7898 - categorical_accuracy: 0.2632 - val_loss: 0.6715 - val_categorical_accuracy: 0.6886\n",
            "Epoch 2/2\n",
            "89/89 [==============================] - 27s 300ms/step - loss: 1.5000 - categorical_accuracy: 0.5521 - val_loss: 0.2958 - val_categorical_accuracy: 0.7715\n"
          ],
          "name": "stdout"
        }
      ]
    },
    {
      "cell_type": "code",
      "metadata": {
        "id": "VqNkpcddZLB0",
        "colab_type": "code",
        "outputId": "ef00aed0-cd17-437d-be1b-dfb09fb1c277",
        "colab": {
          "base_uri": "https://localhost:8080/",
          "height": 573
        }
      },
      "source": [
        "plot_performance(net_history)"
      ],
      "execution_count": 0,
      "outputs": [
        {
          "output_type": "display_data",
          "data": {
            "image/png": "[encoded data removed]",
            "text/plain": [
              "<Figure size 432x288 with 1 Axes>"
            ]
          },
          "metadata": {
            "tags": [],
            "needs_background": "light"
          }
        },
        {
          "output_type": "display_data",
          "data": {
            "image/png": "[encoded data removed]",
            "text/plain": [
              "<Figure size 432x288 with 1 Axes>"
            ]
          },
          "metadata": {
            "tags": [],
            "needs_background": "light"
          }
        }
      ]
    },
    {
      "cell_type": "code",
      "metadata": {
        "id": "4GnbuGQ72sMR",
        "colab_type": "code",
        "outputId": "a7ae14e1-2466-42e7-cd9b-85c2e3669582",
        "colab": {
          "base_uri": "https://localhost:8080/",
          "height": 34
        }
      },
      "source": [
        "loss, accuracy = model.evaluate(test_gen, steps=test_steps)"
      ],
      "execution_count": 0,
      "outputs": [
        {
          "output_type": "stream",
          "text": [
            "37/37 [==============================] - 4s 115ms/step\n"
          ],
          "name": "stdout"
        }
      ]
    },
    {
      "cell_type": "code",
      "metadata": {
        "id": "3njsQpf7MTvn",
        "colab_type": "code",
        "outputId": "043bff4b-5d67-48b1-9efa-1d3849dfd561",
        "colab": {
          "base_uri": "https://localhost:8080/",
          "height": 51
        }
      },
      "source": [
        "print(f'Loss: {loss}')\n",
        "print(f'Accuracy: {accuracy}')"
      ],
      "execution_count": 0,
      "outputs": [
        {
          "output_type": "stream",
          "text": [
            "Loss: 0.295815646648407\n",
            "Accuracy: 0.7714651823043823\n"
          ],
          "name": "stdout"
        }
      ]
    },
    {
      "cell_type": "markdown",
      "metadata": {
        "id": "xwte93dQmMzJ",
        "colab_type": "text"
      },
      "source": [
        "# AutoML"
      ]
    },
    {
      "cell_type": "markdown",
      "metadata": {
        "id": "mrlxqfdszCbf",
        "colab_type": "text"
      },
      "source": [
        "## Create dataframe for k-cross-fold optimization"
      ]
    },
    {
      "cell_type": "code",
      "metadata": {
        "id": "9T3GwCMTMVtZ",
        "colab_type": "code",
        "colab": {}
      },
      "source": [
        "def dataframe_path_class(path_images):\n",
        "  df = pd.DataFrame(columns=['absolute_path', 'class'])\n",
        "  list_dir = os.listdir(path_images)\n",
        "  for sub_dir in list_dir:\n",
        "    list_images = os.listdir(os.path.join(path_images, sub_dir))  \n",
        "    for image in list_images:\n",
        "      df = df.append({'absolute_path': os.path.join(path_images, sub_dir, image),\n",
        "                      'class' : str(sub_dir)} , \n",
        "                     ignore_index=True)\n",
        "  return df\n",
        "\n",
        "df_train = dataframe_path_class(PATH_IMAGES_CROPPED_TRAIN_BALANCED)\n",
        "df_val_test = dataframe_path_class(PATH_IMAGES_CROPPED_VAL_TEST_BALANCED)\n",
        "\n",
        "# creo df_test che uso solo dopo ottimizzazione iperparametri\n",
        "df_val, df_test = train_test_split(df_val_test, test_size=0.7)\n",
        "\n",
        "# unisco df_val a df_train per avere un train generale su cui eseguire k-cross-fold validation\n",
        "df_train = df_train.append(df_val, ignore_index=True)\n",
        "\n",
        "# salvo i due dataframe\n",
        "df_train.to_csv(PATH_OPTIMIZATION + 'train_k_cross.csv')\n",
        "df_test.to_csv(PATH_OPTIMIZATION + 'test.csv')\n",
        "\n",
        "print(df_train.shape, df_test.shape)"
      ],
      "execution_count": 0,
      "outputs": []
    },
    {
      "cell_type": "markdown",
      "metadata": {
        "id": "-KaAO8omzV73",
        "colab_type": "text"
      },
      "source": [
        "## k-cross-fold to optimize "
      ]
    },
    {
      "cell_type": "code",
      "metadata": {
        "id": "8YRPDR-AKNLB",
        "colab_type": "code",
        "colab": {}
      },
      "source": [
        "def cross_validation_optimization(cfg):\n",
        "\n",
        "  kf = KFold(n_splits=2, random_state=None, shuffle=True) # 3 \n",
        "\n",
        "  #accuracy_on_fold = []\n",
        "  losses = []\n",
        "\n",
        "  i = 1\n",
        "  for train_index, val_index in kf.split(df_train):\n",
        "\n",
        "    #gc.collect()\n",
        "    K.clear_session()\n",
        "\n",
        "    # creo modello sulla base delle configurazioni in cfg\n",
        "    if cfg['number_layer'] == 1:\n",
        "      dense = [cfg['number_first_layer']]\n",
        "      dropouts = [cfg['dropout_first_layer']]\n",
        "    elif cfg['number_layer'] == 2:\n",
        "      dense = [cfg['number_first_layer'], \n",
        "               cfg['number_second_layer']]\n",
        "      dropouts = [cfg['dropout_first_layer'],\n",
        "                 cfg['dropout_second_layer']]\n",
        "    elif cfg['number_layer'] == 3:\n",
        "      dense = [cfg['number_first_layer'], \n",
        "               cfg['number_second_layer'], \n",
        "               cfg['number_third_layer']]\n",
        "      dropouts = [cfg['dropout_first_layer'],\n",
        "                 cfg['dropout_second_layer'],\n",
        "                 cfg['dropout_third_layer']]\n",
        "    elif cfg['number_layer'] == 4:\n",
        "      dense = [cfg['number_first_layer'], \n",
        "               cfg['number_second_layer'], \n",
        "               cfg['number_third_layer'], \n",
        "               cfg['number_fourth_layer']]\n",
        "      dropouts = [cfg['dropout_first_layer'],\n",
        "                 cfg['dropout_second_layer'],\n",
        "                 cfg['dropout_third_layer'],\n",
        "                 cfg['dropout_third_layer']]\n",
        "\n",
        "    if cfg['optimizier'] == 'SGD':\n",
        "      optimizer = SGD(learning_rate=cfg['learning_rate'], momentum=cfg['momentum'])\n",
        "      if cfg['nestorov'] == True:\n",
        "        optimizer.nestorov = True\n",
        "    elif cfg['optimizier'] == 'adam':\n",
        "      optimizer = Adam(learning_rate=cfg['learning_rate'])\n",
        "\n",
        "    print('create generator')\n",
        "    trainGenerator = ImageDataGenerator(preprocessing_function=preprocess_input_vgg16,\n",
        "                                        rotation_range=30,\n",
        "                                        horizontal_flip=True,\n",
        "                                        zoom_range=0.1\n",
        "                                        )\n",
        "    valGenerator = ImageDataGenerator(preprocessing_function=preprocess_input_vgg16)\n",
        "    \n",
        "    print('create train val and test')\n",
        "    trainData = df_train.iloc[train_index,:]\n",
        "    trainData, valData = train_test_split(trainData, test_size=0.2)\n",
        "    testData = df_train.iloc[val_index,:]\n",
        "\n",
        "    print(\"=========================================\")\n",
        "    print(\"====== K Fold Validation step => %d =======\" % (i))\n",
        "    print(\"=========================================\")\n",
        "\n",
        "    print('flow from train dataframe')\n",
        "    train_gen = valGenerator.flow_from_dataframe(\n",
        "      dataframe = trainData,\n",
        "      x_col='absolute_path',\n",
        "      y_col='class',\n",
        "      shuffle=True,\n",
        "      class_mode='categorical',\n",
        "      target_size=IM_SIZE,\n",
        "      batch_size=BATCH_SIZE,\n",
        "      classes=LABELS,\n",
        "    )\n",
        "\n",
        "    print('flow from val dataframe')\n",
        "    val_gen = valGenerator.flow_from_dataframe(\n",
        "      dataframe = valData,\n",
        "      x_col='absolute_path',\n",
        "      y_col='class',\n",
        "      shuffle=False,\n",
        "      class_mode='categorical',\n",
        "      target_size=IM_SIZE,\n",
        "      batch_size=BATCH_SIZE,\n",
        "      classes=LABELS,\n",
        "    )\n",
        "\n",
        "    print('flow from test dataframe')\n",
        "    test_gen = valGenerator.flow_from_dataframe(\n",
        "      dataframe = testData,\n",
        "      x_col='absolute_path',\n",
        "      y_col='class',\n",
        "      shuffle=False,\n",
        "      class_mode='categorical',\n",
        "      target_size=IM_SIZE,\n",
        "      batch_size=BATCH_SIZE,\n",
        "      classes=LABELS,\n",
        "    ) \n",
        "    \n",
        "    step_train = ceil(train_gen.n/train_gen.batch_size)\n",
        "    step_val = ceil(val_gen.n/val_gen.batch_size)\n",
        "    step_test = ceil(test_gen.n/test_gen.batch_size)\n",
        "\n",
        "    reduce_on_plateau = ReduceLROnPlateau(monitor='val_loss', factor=0.1, patience=3, \n",
        "                                          verbose=1, mode='auto', min_delta=0.0001, \n",
        "                                          cooldown=0, min_lr=0.00001)\n",
        "    early_stop = EarlyStopping(monitor='val_loss', \n",
        "                              patience=5, \n",
        "                              verbose=1,\n",
        "                              restore_best_weights=True\n",
        "                              )\n",
        "\n",
        "    if to_optimize == 'feature_extraction':\n",
        "      print('feature extraction')\n",
        "      model = feature_extraction(cut_layer=cfg['cut_layer'],\n",
        "                                dense=dense,\n",
        "                                dropouts=dropouts,\n",
        "                                im_size=IM_SIZE,\n",
        "                                loss='categorical_crossentropy',\n",
        "                                optimizer=optimizer,\n",
        "                                metrics=['categorical_accuracy'],\n",
        "                                verbose=False\n",
        "                                )\n",
        "    if to_optimize == 'fine_tuning':\n",
        "      model = fine_tunining(freeze_to=cfg['freeze_to'],\n",
        "                                        dense=dense,\n",
        "                                        dropouts=dropouts,\n",
        "                                        im_size=IM_SIZE,\n",
        "                                        loss='categorical_crossentropy',\n",
        "                                        optimizer=optimizer,\n",
        "                                        metrics=['categorical_accuracy'],\n",
        "                                        verbose=False) \n",
        "    \n",
        "    print(\"Inizio fit\")\n",
        "    \n",
        "    history = model.fit_generator(generator=train_gen, \n",
        "                                  epochs=50, \n",
        "                                  verbose=1,\n",
        "                                  validation_data = val_gen,\n",
        "                                  steps_per_epoch = step_train,\n",
        "                                  validation_steps = step_val,\n",
        "                                  callbacks = [early_stop, reduce_on_plateau],\n",
        "                                  )\n",
        "\n",
        "    # test on testData\n",
        "    print(\"Predict on test\")\n",
        "    '''\n",
        "    predictions = model.predict_generator(test_gen, \n",
        "                                          steps=step_test,\n",
        "                                          )\n",
        "    \n",
        "    accuracy_on_fold.append(accuracy_score(y_true=test_gen.labels, \n",
        "                                          y_pred=np.argmax(predictions, axis=1)\n",
        "                                          )\n",
        "                          )\n",
        "    '''\n",
        "    # evaluate test and return loss\n",
        "    loss, _ = model.evaluate_generator(test_gen, steps=step_test)\n",
        "    losses.append(loss)\n",
        "    i+=1\n",
        "\n",
        "  return np.mean(losses) # minimizzo loss media sulla 3-cross validation\n",
        "  #return 1 - np.mean(accuracy_on_fold)"
      ],
      "execution_count": 0,
      "outputs": []
    },
    {
      "cell_type": "markdown",
      "metadata": {
        "id": "yJrfI4v50nnV",
        "colab_type": "text"
      },
      "source": [
        "## Configuration space"
      ]
    },
    {
      "cell_type": "code",
      "metadata": {
        "id": "ZgQ0AAgxmP7i",
        "colab_type": "code",
        "colab": {}
      },
      "source": [
        "def create_configuration_space(to_optimize):\n",
        "\n",
        "  cs = ConfigurationSpace()\n",
        "\n",
        "  # iper-parametri da ottimizzare\n",
        "  '''\n",
        "    Optimizier: categorical ('adam', 'SGD')\n",
        "    Learning_rate: uniform_float [0.01, 0.00001]\n",
        "    Momentum: categorical and condition (True,False) if 'SGD'\n",
        "    Nestorov: uniform_float and condition [0.9, 0.8] if 'SGD'\n",
        "    Dropout: uniform_float [0.2,0.4]\n",
        "    Number_fully_connected: categorical (1,2)\n",
        "    Number_neurons_first_layer: uniform_integer [64, 1024]\n",
        "    Numebr_neurons_second_layer: uniform_integer and condition [64,1024] if number_fully_connected==2\n",
        "  '''\n",
        "  optimizier_param = CategoricalHyperparameter(name='optimizier',\n",
        "                                              choices=['adam', 'SGD'],\n",
        "                                              default_value='SGD')\n",
        "\n",
        "  lr_param = UniformFloatHyperparameter(name=\"learning_rate\", \n",
        "                                        lower=0.000001, \n",
        "                                        upper=0.001, \n",
        "                                        default_value=0.001)\n",
        "  momentum_param = UniformFloatHyperparameter(name='momentum',\n",
        "                                              lower=0.1,\n",
        "                                              upper=0.9,\n",
        "                                              default_value=0.5\n",
        "                                              )\n",
        "  cond_momentum = InCondition(child=momentum_param, \n",
        "                              parent=optimizier_param, \n",
        "                              values=['SGD'])\n",
        "\n",
        "  nestorov_param = CategoricalHyperparameter(name=\"nestorov\", \n",
        "                                            choices=[True, False], \n",
        "                                            default_value=False)\n",
        "  cond_nestorov = InCondition(child=nestorov_param, \n",
        "                              parent=optimizier_param, \n",
        "                              values=['SGD'])\n",
        "  \n",
        "  number_layer_param = UniformIntegerHyperparameter(name='number_layer',\n",
        "                                          lower=1,\n",
        "                                          upper=4,\n",
        "                                          default_value=2)\n",
        "  \n",
        "  dropout_first_layer = UniformFloatHyperparameter(name='dropout_first_layer',\n",
        "                                            lower=0.2,\n",
        "                                            upper=0.4,\n",
        "                                            default_value=0.2)\n",
        "  dropout_second_layer = UniformFloatHyperparameter(name='dropout_second_layer',\n",
        "                                            lower=0.2,\n",
        "                                            upper=0.4,\n",
        "                                            default_value=0.2)\n",
        "  dropout_third_layer = UniformFloatHyperparameter(name='dropout_third_layer',\n",
        "                                            lower=0.2,\n",
        "                                            upper=0.4,\n",
        "                                            default_value=0.2)\n",
        "  dropout_fourth_layer = UniformFloatHyperparameter(name='dropout_fourth_layer',\n",
        "                                            lower=0.2,\n",
        "                                            upper=0.4,\n",
        "                                            default_value=0.2)\n",
        "\n",
        "  neurons_first_layer_param = UniformIntegerHyperparameter(name='number_first_layer',\n",
        "                                                    lower=64,\n",
        "                                                    upper=1024,\n",
        "                                                    default_value=512)\n",
        "\n",
        "  neurons_second_layer_param = UniformIntegerHyperparameter(name='number_second_layer',\n",
        "                                                    lower=64,\n",
        "                                                    upper=1024,\n",
        "                                                    default_value=512)\n",
        "  neurons_third_layer_param = UniformIntegerHyperparameter(name='number_third_layer',\n",
        "                                                  lower=64,\n",
        "                                                  upper=1024,\n",
        "                                                  default_value=512)\n",
        "\n",
        "  neurons_fourth_layer_param = UniformIntegerHyperparameter(name='number_fourth_layer',\n",
        "                                                    lower=64,\n",
        "                                                    upper=1024,\n",
        "                                                    default_value=512)\n",
        "  cond_first_layer = InCondition(child=neurons_first_layer_param,\n",
        "                                parent=number_layer_param,\n",
        "                                values=[1,2,3,4])\n",
        "  cond_second_layer = InCondition(child=neurons_second_layer_param,\n",
        "                                  parent=number_layer_param,\n",
        "                                  values=[2,3,4])\n",
        "  cond_third_layer = InCondition(child=neurons_third_layer_param,\n",
        "                                  parent=number_layer_param,\n",
        "                                  values=[3,4])\n",
        "  cond_fourth_layer = InCondition(child=neurons_fourth_layer_param,\n",
        "                                  parent=number_layer_param,\n",
        "                                  values=[4])\n",
        "  \n",
        "  cond__dropout_first_layer = InCondition(child=dropout_first_layer,\n",
        "                                parent=number_layer_param,\n",
        "                                values=[1,2,3,4])\n",
        "  cond_dropout_second_layer = InCondition(child=dropout_second_layer,\n",
        "                                  parent=number_layer_param,\n",
        "                                  values=[2,3,4])\n",
        "  cond_dropout_third_layer = InCondition(child=dropout_third_layer,\n",
        "                                  parent=number_layer_param,\n",
        "                                  values=[3,4])\n",
        "  cond_dropout_fourth_layer = InCondition(child=dropout_fourth_layer,\n",
        "                                  parent=number_layer_param,\n",
        "                                  values=[4])\n",
        "  \n",
        "  if to_optimize == 'feature_extraction':\n",
        "    cut_layer = CategoricalHyperparameter(name='cut_layer',\n",
        "                                          choices=[6,10,14,18],\n",
        "                                          default_value=14)\n",
        "    cs.add_hyperparameters([cut_layer])\n",
        "  if to_optimize == 'fine_tuning':\n",
        "    freeze_to = UniformIntegerHyperparameter(name='freeze_to',\n",
        "                                             lower=7,\n",
        "                                             upper=19,\n",
        "                                             default_value=15)\n",
        "    cs.add_hyperparameters([freeze_to])\n",
        "  cs.add_hyperparameters([optimizier_param, \n",
        "                          lr_param,\n",
        "                          momentum_param,\n",
        "                          nestorov_param,\n",
        "                          number_layer_param,\n",
        "                          neurons_first_layer_param,\n",
        "                          neurons_second_layer_param,\n",
        "                          neurons_third_layer_param,\n",
        "                          neurons_fourth_layer_param,\n",
        "                          dropout_first_layer,\n",
        "                          dropout_second_layer,\n",
        "                          dropout_third_layer,\n",
        "                          dropout_fourth_layer\n",
        "                          ])\n",
        "  cs.add_conditions([cond_momentum,\n",
        "                    cond_nestorov,\n",
        "                    cond_first_layer,\n",
        "                    cond_second_layer,\n",
        "                    cond_third_layer,\n",
        "                    cond_fourth_layer,\n",
        "                    cond__dropout_first_layer,\n",
        "                    cond_dropout_second_layer,\n",
        "                    cond_dropout_third_layer,\n",
        "                    cond_dropout_fourth_layer\n",
        "                    ])\n",
        "\n",
        "  return cs"
      ],
      "execution_count": 0,
      "outputs": []
    },
    {
      "cell_type": "markdown",
      "metadata": {
        "id": "wTVlUukw3Fcl",
        "colab_type": "text"
      },
      "source": [
        "## Scenario"
      ]
    },
    {
      "cell_type": "code",
      "metadata": {
        "id": "P-YMAPtn3HM0",
        "colab_type": "code",
        "colab": {
          "base_uri": "https://localhost:8080/",
          "height": 34
        },
        "outputId": "b5eb7e4e-5f5f-4a51-965c-215f68d12a75"
      },
      "source": [
        "to_optimize = 'feature_extraction'\n",
        "#to_optimize = 'fine_tuning'\n",
        "\n",
        "cs = create_configuration_space(to_optimize)\n",
        "scenario = Scenario({\"run_obj\": \"quality\",  \n",
        "                     \"runcount-limit\": 20, # 15 + 5 configurazioni iniziali   \n",
        "                     \"cs\": cs,               \n",
        "                     \"deterministic\": \"true\"\n",
        "                     })\n",
        "# All statistics collected during configuration run. Written to output-directory to be restored\n",
        "stat = Stats(scenario=scenario)\n",
        "\n",
        "\n",
        "traj_logger  = TrajLogger(output_dir=PATH_OPTIMIZATION + 'traj_logger/',\n",
        "                          stats=stat)\n",
        "\n",
        "run_history = RunHistory()"
      ],
      "execution_count": 8,
      "outputs": [
        {
          "output_type": "stream",
          "text": [
            "INFO:smac.utils.io.cmd_reader.CMDReader:Output to smac3-output_2020-06-15_00:15:54_664342\n"
          ],
          "name": "stderr"
        }
      ]
    },
    {
      "cell_type": "markdown",
      "metadata": {
        "id": "_91uOB4kAOqz",
        "colab_type": "text"
      },
      "source": [
        "## Optimization"
      ]
    },
    {
      "cell_type": "code",
      "metadata": {
        "id": "WfqB26ESAQP5",
        "colab_type": "code",
        "outputId": "a7230bb7-6384-4792-fee6-028e84dc0940",
        "colab": {
          "base_uri": "https://localhost:8080/",
          "height": 1000
        }
      },
      "source": [
        "rng = np.random.RandomState(seed=42)\n",
        "\n",
        "df_train = pd.read_csv(PATH_OPTIMIZATION + 'train_k_cross.csv')\n",
        "\n",
        "smac = SMAC4HPO(scenario=scenario,\n",
        "                rng=rng,\n",
        "                runhistory=run_history,\n",
        "                tae_runner=cross_validation_optimization,\n",
        "                initial_design=RandomConfigurations, # LHDesign\n",
        "                initial_design_kwargs={'n_configs_x_params': 5},\n",
        "                acquisition_function=EI\n",
        "                )\n",
        "\n",
        "incumbent = smac.optimize()\n",
        "\n",
        "# save optim value and history confinguration tried\n",
        "if to_optimize == 'feature_extraction':\n",
        "  with open(PATH_OPTIMIZATION + 'incubent_feature_extraction.pkl', 'wb') as f:  \n",
        "      pickle.dump(incumbent, f)\n",
        "  with open(PATH_OPTIMIZATION + 'history_feature_extraction.pkl', 'wb') as f:  \n",
        "      pickle.dump(run_history, f)\n",
        "if to_optimize == 'fine_tuning':\n",
        "  with open(PATH_OPTIMIZATION + 'incumbent_fine_tuning.pkl', 'wb') as f:  \n",
        "      pickle.dump(incumbent, f)\n",
        "  with open(PATH_OPTIMIZATION + 'history_fine_tuning.pkl', 'wb') as f:  \n",
        "      pickle.dump(run_history, f)"
      ],
      "execution_count": 0,
      "outputs": [
        {
          "output_type": "stream",
          "text": [
            "INFO:smac.facade.smac_hpo_facade.SMAC4HPO:Optimizing a deterministic scenario for quality without a tuner timeout - will make SMAC deterministic and only evaluate one configuration per iteration!\n",
            "ERROR:smac.utils.io.output_writer.OutputWriter:Could not write pcs file to disk. ConfigSpace not compatible with (new) pcs format.\n",
            "INFO:smac.initial_design.random_configuration_design.RandomConfigurations:Running initial design for 2 configurations\n",
            "INFO:smac.facade.smac_hpo_facade.SMAC4HPO:<class 'smac.facade.smac_hpo_facade.SMAC4HPO'>\n",
            "INFO:smac.optimizer.smbo.SMBO:Running initial design\n",
            "INFO:smac.intensification.intensification.Intensifier:First run, no incumbent provided; challenger is assumed to be the incumbent\n"
          ],
          "name": "stderr"
        },
        {
          "output_type": "stream",
          "text": [
            "create generator\n",
            "create train val and test\n",
            "=========================================\n",
            "====== K Fold Validation step => 1 =======\n",
            "=========================================\n",
            "flow from train dataframe\n",
            "Found 3204 validated image filenames belonging to 20 classes.\n",
            "flow from val dataframe\n",
            "Found 801 validated image filenames belonging to 20 classes.\n",
            "flow from test dataframe\n",
            "Found 4006 validated image filenames belonging to 20 classes.\n",
            "feature extraction\n",
            "porco ziooooooooooo\n",
            "Inizio fit\n",
            "Epoch 1/50\n",
            "51/51 [==============================] - 8s 160ms/step - loss: 13.4007 - categorical_accuracy: 0.1239 - val_loss: 2.9951 - val_categorical_accuracy: 0.1261\n",
            "Epoch 2/50\n",
            "51/51 [==============================] - 6s 113ms/step - loss: 3.0892 - categorical_accuracy: 0.1439 - val_loss: 2.9944 - val_categorical_accuracy: 0.1261\n",
            "Epoch 3/50\n",
            "51/51 [==============================] - 6s 119ms/step - loss: 3.0409 - categorical_accuracy: 0.1442 - val_loss: 2.9937 - val_categorical_accuracy: 0.1261\n",
            "Epoch 4/50\n",
            "51/51 [==============================] - 6s 118ms/step - loss: 3.0255 - categorical_accuracy: 0.1436 - val_loss: 2.9930 - val_categorical_accuracy: 0.1261\n",
            "Epoch 5/50\n",
            "51/51 [==============================] - 6s 119ms/step - loss: 3.0186 - categorical_accuracy: 0.1458 - val_loss: 2.9924 - val_categorical_accuracy: 0.1261\n",
            "Epoch 6/50\n",
            "51/51 [==============================] - 6s 119ms/step - loss: 3.0177 - categorical_accuracy: 0.1454 - val_loss: 2.9917 - val_categorical_accuracy: 0.1261\n",
            "Epoch 7/50\n",
            "51/51 [==============================] - 6s 119ms/step - loss: 3.0089 - categorical_accuracy: 0.1454 - val_loss: 2.9910 - val_categorical_accuracy: 0.1261\n",
            "Epoch 8/50\n",
            "51/51 [==============================] - 6s 118ms/step - loss: 3.0149 - categorical_accuracy: 0.1451 - val_loss: 2.9903 - val_categorical_accuracy: 0.1261\n",
            "Epoch 9/50\n",
            "51/51 [==============================] - 6s 119ms/step - loss: 3.0044 - categorical_accuracy: 0.1445 - val_loss: 2.9896 - val_categorical_accuracy: 0.1261\n",
            "Epoch 10/50\n",
            "51/51 [==============================] - 6s 118ms/step - loss: 3.0015 - categorical_accuracy: 0.1448 - val_loss: 2.9890 - val_categorical_accuracy: 0.1261\n",
            "Epoch 11/50\n",
            "51/51 [==============================] - 6s 119ms/step - loss: 2.9943 - categorical_accuracy: 0.1436 - val_loss: 2.9883 - val_categorical_accuracy: 0.1261\n",
            "Epoch 12/50\n",
            "51/51 [==============================] - 6s 119ms/step - loss: 3.0004 - categorical_accuracy: 0.1442 - val_loss: 2.9876 - val_categorical_accuracy: 0.1261\n",
            "Epoch 13/50\n",
            "51/51 [==============================] - 6s 118ms/step - loss: 2.9850 - categorical_accuracy: 0.1448 - val_loss: 2.9869 - val_categorical_accuracy: 0.1261\n",
            "Epoch 14/50\n",
            "51/51 [==============================] - 6s 119ms/step - loss: 2.9935 - categorical_accuracy: 0.1445 - val_loss: 2.9863 - val_categorical_accuracy: 0.1261\n",
            "Epoch 15/50\n",
            "51/51 [==============================] - 6s 122ms/step - loss: 2.9973 - categorical_accuracy: 0.1442 - val_loss: 2.9856 - val_categorical_accuracy: 0.1261\n",
            "Epoch 16/50\n",
            "51/51 [==============================] - 6s 121ms/step - loss: 2.9878 - categorical_accuracy: 0.1448 - val_loss: 2.9850 - val_categorical_accuracy: 0.1261\n",
            "Epoch 17/50\n",
            "51/51 [==============================] - 6s 118ms/step - loss: 2.9961 - categorical_accuracy: 0.1445 - val_loss: 2.9843 - val_categorical_accuracy: 0.1261\n",
            "Epoch 18/50\n",
            "51/51 [==============================] - 6s 118ms/step - loss: 2.9854 - categorical_accuracy: 0.1448 - val_loss: 2.9837 - val_categorical_accuracy: 0.1261\n",
            "Epoch 19/50\n",
            "51/51 [==============================] - 6s 119ms/step - loss: 2.9837 - categorical_accuracy: 0.1445 - val_loss: 2.9831 - val_categorical_accuracy: 0.1261\n",
            "Epoch 20/50\n",
            "51/51 [==============================] - 6s 119ms/step - loss: 2.9817 - categorical_accuracy: 0.1445 - val_loss: 2.9824 - val_categorical_accuracy: 0.1261\n",
            "Epoch 21/50\n",
            "51/51 [==============================] - 6s 117ms/step - loss: 2.9824 - categorical_accuracy: 0.1448 - val_loss: 2.9818 - val_categorical_accuracy: 0.1261\n",
            "Epoch 22/50\n",
            "51/51 [==============================] - 6s 118ms/step - loss: 2.9863 - categorical_accuracy: 0.1445 - val_loss: 2.9812 - val_categorical_accuracy: 0.1261\n",
            "Epoch 23/50\n",
            "51/51 [==============================] - 6s 118ms/step - loss: 2.9822 - categorical_accuracy: 0.1445 - val_loss: 2.9806 - val_categorical_accuracy: 0.1261\n",
            "Epoch 24/50\n",
            "51/51 [==============================] - 6s 124ms/step - loss: 2.9800 - categorical_accuracy: 0.1442 - val_loss: 2.9799 - val_categorical_accuracy: 0.1261\n",
            "Epoch 25/50\n",
            "51/51 [==============================] - 6s 123ms/step - loss: 2.9800 - categorical_accuracy: 0.1445 - val_loss: 2.9793 - val_categorical_accuracy: 0.1261\n",
            "Epoch 26/50\n",
            "51/51 [==============================] - 6s 120ms/step - loss: 2.9779 - categorical_accuracy: 0.1448 - val_loss: 2.9786 - val_categorical_accuracy: 0.1261\n",
            "Epoch 27/50\n",
            "51/51 [==============================] - 6s 117ms/step - loss: 2.9785 - categorical_accuracy: 0.1439 - val_loss: 2.9780 - val_categorical_accuracy: 0.1261\n",
            "Epoch 28/50\n",
            "51/51 [==============================] - 6s 120ms/step - loss: 2.9824 - categorical_accuracy: 0.1445 - val_loss: 2.9774 - val_categorical_accuracy: 0.1261\n",
            "Epoch 29/50\n",
            "51/51 [==============================] - 6s 119ms/step - loss: 2.9776 - categorical_accuracy: 0.1448 - val_loss: 2.9767 - val_categorical_accuracy: 0.1261\n",
            "Epoch 30/50\n",
            "51/51 [==============================] - 6s 120ms/step - loss: 2.9865 - categorical_accuracy: 0.1442 - val_loss: 2.9761 - val_categorical_accuracy: 0.1261\n",
            "Epoch 31/50\n",
            "51/51 [==============================] - 6s 118ms/step - loss: 2.9741 - categorical_accuracy: 0.1442 - val_loss: 2.9755 - val_categorical_accuracy: 0.1261\n",
            "Epoch 32/50\n",
            "51/51 [==============================] - 6s 119ms/step - loss: 2.9729 - categorical_accuracy: 0.1442 - val_loss: 2.9749 - val_categorical_accuracy: 0.1261\n",
            "Epoch 33/50\n",
            "51/51 [==============================] - 6s 117ms/step - loss: 2.9765 - categorical_accuracy: 0.1442 - val_loss: 2.9743 - val_categorical_accuracy: 0.1261\n",
            "Epoch 34/50\n",
            "51/51 [==============================] - 6s 117ms/step - loss: 2.9745 - categorical_accuracy: 0.1442 - val_loss: 2.9737 - val_categorical_accuracy: 0.1261\n",
            "Epoch 35/50\n",
            "51/51 [==============================] - 6s 119ms/step - loss: 2.9807 - categorical_accuracy: 0.1445 - val_loss: 2.9731 - val_categorical_accuracy: 0.1261\n",
            "Epoch 36/50\n",
            "51/51 [==============================] - 6s 118ms/step - loss: 2.9715 - categorical_accuracy: 0.1442 - val_loss: 2.9725 - val_categorical_accuracy: 0.1261\n",
            "Epoch 37/50\n",
            "51/51 [==============================] - 6s 117ms/step - loss: 2.9799 - categorical_accuracy: 0.1448 - val_loss: 2.9719 - val_categorical_accuracy: 0.1261\n",
            "Epoch 38/50\n",
            "51/51 [==============================] - 6s 117ms/step - loss: 2.9728 - categorical_accuracy: 0.1445 - val_loss: 2.9713 - val_categorical_accuracy: 0.1261\n",
            "Epoch 39/50\n",
            "51/51 [==============================] - 6s 118ms/step - loss: 2.9687 - categorical_accuracy: 0.1448 - val_loss: 2.9707 - val_categorical_accuracy: 0.1261\n",
            "Epoch 40/50\n",
            "51/51 [==============================] - 6s 127ms/step - loss: 2.9732 - categorical_accuracy: 0.1442 - val_loss: 2.9701 - val_categorical_accuracy: 0.1261\n",
            "Epoch 41/50\n",
            "51/51 [==============================] - 7s 138ms/step - loss: 2.9734 - categorical_accuracy: 0.1445 - val_loss: 2.9696 - val_categorical_accuracy: 0.1261\n",
            "Epoch 42/50\n",
            "51/51 [==============================] - 6s 120ms/step - loss: 2.9693 - categorical_accuracy: 0.1445 - val_loss: 2.9690 - val_categorical_accuracy: 0.1261\n",
            "Epoch 43/50\n",
            "51/51 [==============================] - 6s 117ms/step - loss: 2.9658 - categorical_accuracy: 0.1445 - val_loss: 2.9685 - val_categorical_accuracy: 0.1261\n",
            "Epoch 44/50\n",
            "51/51 [==============================] - 6s 117ms/step - loss: 2.9710 - categorical_accuracy: 0.1448 - val_loss: 2.9679 - val_categorical_accuracy: 0.1261\n",
            "Epoch 45/50\n",
            "51/51 [==============================] - 6s 117ms/step - loss: 2.9649 - categorical_accuracy: 0.1448 - val_loss: 2.9673 - val_categorical_accuracy: 0.1261\n",
            "Epoch 46/50\n",
            "51/51 [==============================] - 6s 117ms/step - loss: 2.9695 - categorical_accuracy: 0.1445 - val_loss: 2.9668 - val_categorical_accuracy: 0.1261\n",
            "Epoch 47/50\n",
            "51/51 [==============================] - 6s 116ms/step - loss: 2.9644 - categorical_accuracy: 0.1445 - val_loss: 2.9662 - val_categorical_accuracy: 0.1261\n",
            "Epoch 48/50\n",
            "51/51 [==============================] - 6s 116ms/step - loss: 2.9639 - categorical_accuracy: 0.1445 - val_loss: 2.9657 - val_categorical_accuracy: 0.1261\n",
            "Epoch 49/50\n",
            "51/51 [==============================] - 6s 116ms/step - loss: 2.9637 - categorical_accuracy: 0.1445 - val_loss: 2.9651 - val_categorical_accuracy: 0.1261\n",
            "Epoch 50/50\n",
            "51/51 [==============================] - 6s 117ms/step - loss: 2.9644 - categorical_accuracy: 0.1445 - val_loss: 2.9646 - val_categorical_accuracy: 0.1261\n",
            "Predict on test\n",
            "create generator\n",
            "create train val and test\n",
            "=========================================\n",
            "====== K Fold Validation step => 2 =======\n",
            "=========================================\n",
            "flow from train dataframe\n",
            "Found 3204 validated image filenames belonging to 20 classes.\n",
            "flow from val dataframe\n",
            "Found 802 validated image filenames belonging to 20 classes.\n",
            "flow from test dataframe\n",
            "Found 4005 validated image filenames belonging to 20 classes.\n",
            "feature extraction\n",
            "porco ziooooooooooo\n",
            "Inizio fit\n",
            "Epoch 1/50\n",
            "51/51 [==============================] - 7s 136ms/step - loss: 16.7740 - categorical_accuracy: 0.1380 - val_loss: 2.9951 - val_categorical_accuracy: 0.1621\n",
            "Epoch 2/50\n",
            "51/51 [==============================] - 6s 109ms/step - loss: 3.0510 - categorical_accuracy: 0.1532 - val_loss: 2.9945 - val_categorical_accuracy: 0.1621\n",
            "Epoch 3/50\n",
            "51/51 [==============================] - 6s 120ms/step - loss: 3.0365 - categorical_accuracy: 0.1520 - val_loss: 2.9938 - val_categorical_accuracy: 0.1621\n",
            "Epoch 4/50\n",
            "51/51 [==============================] - 6s 118ms/step - loss: 3.0213 - categorical_accuracy: 0.1520 - val_loss: 2.9932 - val_categorical_accuracy: 0.1621\n",
            "Epoch 5/50\n",
            "51/51 [==============================] - 6s 118ms/step - loss: 2.9951 - categorical_accuracy: 0.1532 - val_loss: 2.9926 - val_categorical_accuracy: 0.1621\n",
            "Epoch 6/50\n",
            "51/51 [==============================] - 6s 118ms/step - loss: 3.0144 - categorical_accuracy: 0.1529 - val_loss: 2.9921 - val_categorical_accuracy: 0.1621\n",
            "Epoch 7/50\n",
            "51/51 [==============================] - 6s 117ms/step - loss: 3.0126 - categorical_accuracy: 0.1529 - val_loss: 2.9915 - val_categorical_accuracy: 0.1621\n",
            "Epoch 8/50\n",
            "51/51 [==============================] - 6s 116ms/step - loss: 2.9934 - categorical_accuracy: 0.1526 - val_loss: 2.9909 - val_categorical_accuracy: 0.1621\n",
            "Epoch 9/50\n",
            "51/51 [==============================] - 6s 119ms/step - loss: 2.9944 - categorical_accuracy: 0.1532 - val_loss: 2.9903 - val_categorical_accuracy: 0.1621\n",
            "Epoch 10/50\n",
            "51/51 [==============================] - 6s 117ms/step - loss: 2.9973 - categorical_accuracy: 0.1536 - val_loss: 2.9897 - val_categorical_accuracy: 0.1621\n",
            "Epoch 11/50\n",
            "51/51 [==============================] - 6s 117ms/step - loss: 3.0038 - categorical_accuracy: 0.1532 - val_loss: 2.9891 - val_categorical_accuracy: 0.1621\n",
            "Epoch 12/50\n",
            "51/51 [==============================] - 6s 116ms/step - loss: 2.9883 - categorical_accuracy: 0.1529 - val_loss: 2.9886 - val_categorical_accuracy: 0.1621\n",
            "Epoch 13/50\n",
            "51/51 [==============================] - 6s 117ms/step - loss: 2.9904 - categorical_accuracy: 0.1526 - val_loss: 2.9880 - val_categorical_accuracy: 0.1621\n",
            "Epoch 14/50\n",
            "51/51 [==============================] - 6s 117ms/step - loss: 3.0010 - categorical_accuracy: 0.1529 - val_loss: 2.9874 - val_categorical_accuracy: 0.1621\n",
            "Epoch 15/50\n",
            "51/51 [==============================] - 6s 117ms/step - loss: 2.9900 - categorical_accuracy: 0.1529 - val_loss: 2.9869 - val_categorical_accuracy: 0.1621\n",
            "Epoch 16/50\n",
            "51/51 [==============================] - 6s 120ms/step - loss: 2.9904 - categorical_accuracy: 0.1526 - val_loss: 2.9863 - val_categorical_accuracy: 0.1621\n",
            "Epoch 17/50\n",
            "51/51 [==============================] - 6s 119ms/step - loss: 2.9922 - categorical_accuracy: 0.1536 - val_loss: 2.9858 - val_categorical_accuracy: 0.1621\n",
            "Epoch 18/50\n",
            "51/51 [==============================] - 6s 118ms/step - loss: 2.9838 - categorical_accuracy: 0.1529 - val_loss: 2.9852 - val_categorical_accuracy: 0.1621\n",
            "Epoch 19/50\n",
            "51/51 [==============================] - 6s 117ms/step - loss: 2.9855 - categorical_accuracy: 0.1536 - val_loss: 2.9846 - val_categorical_accuracy: 0.1621\n",
            "Epoch 20/50\n",
            "51/51 [==============================] - 6s 117ms/step - loss: 2.9807 - categorical_accuracy: 0.1532 - val_loss: 2.9840 - val_categorical_accuracy: 0.1621\n",
            "Epoch 21/50\n",
            "51/51 [==============================] - 6s 117ms/step - loss: 2.9856 - categorical_accuracy: 0.1532 - val_loss: 2.9835 - val_categorical_accuracy: 0.1621\n",
            "Epoch 22/50\n",
            "51/51 [==============================] - 6s 116ms/step - loss: 2.9793 - categorical_accuracy: 0.1532 - val_loss: 2.9829 - val_categorical_accuracy: 0.1621\n",
            "Epoch 23/50\n",
            "51/51 [==============================] - 6s 127ms/step - loss: 2.9835 - categorical_accuracy: 0.1526 - val_loss: 2.9824 - val_categorical_accuracy: 0.1621\n",
            "Epoch 24/50\n",
            "51/51 [==============================] - 6s 117ms/step - loss: 2.9774 - categorical_accuracy: 0.1532 - val_loss: 2.9818 - val_categorical_accuracy: 0.1621\n",
            "Epoch 25/50\n",
            "51/51 [==============================] - 6s 116ms/step - loss: 2.9769 - categorical_accuracy: 0.1532 - val_loss: 2.9813 - val_categorical_accuracy: 0.1621\n",
            "Epoch 26/50\n",
            "51/51 [==============================] - 6s 118ms/step - loss: 2.9857 - categorical_accuracy: 0.1532 - val_loss: 2.9808 - val_categorical_accuracy: 0.1621\n",
            "Epoch 27/50\n",
            "51/51 [==============================] - 6s 116ms/step - loss: 2.9800 - categorical_accuracy: 0.1532 - val_loss: 2.9803 - val_categorical_accuracy: 0.1621\n",
            "Epoch 28/50\n",
            "51/51 [==============================] - 6s 118ms/step - loss: 2.9780 - categorical_accuracy: 0.1532 - val_loss: 2.9798 - val_categorical_accuracy: 0.1621\n",
            "Epoch 29/50\n",
            "51/51 [==============================] - 6s 120ms/step - loss: 2.9749 - categorical_accuracy: 0.1532 - val_loss: 2.9793 - val_categorical_accuracy: 0.1621\n",
            "Epoch 30/50\n",
            "51/51 [==============================] - 6s 120ms/step - loss: 2.9721 - categorical_accuracy: 0.1536 - val_loss: 2.9787 - val_categorical_accuracy: 0.1621\n",
            "Epoch 31/50\n",
            "51/51 [==============================] - 6s 117ms/step - loss: 2.9759 - categorical_accuracy: 0.1536 - val_loss: 2.9782 - val_categorical_accuracy: 0.1621\n",
            "Epoch 32/50\n",
            "51/51 [==============================] - 6s 117ms/step - loss: 2.9735 - categorical_accuracy: 0.1529 - val_loss: 2.9778 - val_categorical_accuracy: 0.1621\n",
            "Epoch 33/50\n",
            "51/51 [==============================] - 6s 117ms/step - loss: 2.9706 - categorical_accuracy: 0.1539 - val_loss: 2.9773 - val_categorical_accuracy: 0.1621\n",
            "Epoch 34/50\n",
            "51/51 [==============================] - 6s 116ms/step - loss: 2.9695 - categorical_accuracy: 0.1536 - val_loss: 2.9768 - val_categorical_accuracy: 0.1621\n",
            "Epoch 35/50\n",
            "51/51 [==============================] - 6s 117ms/step - loss: 2.9691 - categorical_accuracy: 0.1532 - val_loss: 2.9763 - val_categorical_accuracy: 0.1621\n",
            "Epoch 36/50\n",
            "51/51 [==============================] - 6s 119ms/step - loss: 2.9703 - categorical_accuracy: 0.1532 - val_loss: 2.9758 - val_categorical_accuracy: 0.1621\n",
            "Epoch 37/50\n",
            "51/51 [==============================] - 6s 117ms/step - loss: 2.9669 - categorical_accuracy: 0.1532 - val_loss: 2.9753 - val_categorical_accuracy: 0.1621\n",
            "Epoch 38/50\n",
            "51/51 [==============================] - 6s 117ms/step - loss: 2.9688 - categorical_accuracy: 0.1532 - val_loss: 2.9749 - val_categorical_accuracy: 0.1621\n",
            "Epoch 39/50\n",
            "51/51 [==============================] - 6s 118ms/step - loss: 2.9675 - categorical_accuracy: 0.1532 - val_loss: 2.9743 - val_categorical_accuracy: 0.1621\n",
            "Epoch 40/50\n",
            "51/51 [==============================] - 7s 135ms/step - loss: 2.9689 - categorical_accuracy: 0.1532 - val_loss: 2.9738 - val_categorical_accuracy: 0.1621\n",
            "Epoch 41/50\n",
            "51/51 [==============================] - 6s 125ms/step - loss: 2.9650 - categorical_accuracy: 0.1529 - val_loss: 2.9734 - val_categorical_accuracy: 0.1621\n",
            "Epoch 42/50\n",
            "51/51 [==============================] - 6s 121ms/step - loss: 2.9631 - categorical_accuracy: 0.1536 - val_loss: 2.9729 - val_categorical_accuracy: 0.1621\n",
            "Epoch 43/50\n",
            "51/51 [==============================] - 6s 119ms/step - loss: 2.9644 - categorical_accuracy: 0.1536 - val_loss: 2.9724 - val_categorical_accuracy: 0.1621\n",
            "Epoch 44/50\n",
            "51/51 [==============================] - 6s 117ms/step - loss: 2.9629 - categorical_accuracy: 0.1536 - val_loss: 2.9719 - val_categorical_accuracy: 0.1621\n",
            "Epoch 45/50\n",
            "51/51 [==============================] - 6s 116ms/step - loss: 2.9653 - categorical_accuracy: 0.1532 - val_loss: 2.9714 - val_categorical_accuracy: 0.1621\n",
            "Epoch 46/50\n",
            "51/51 [==============================] - 6s 116ms/step - loss: 2.9614 - categorical_accuracy: 0.1536 - val_loss: 2.9710 - val_categorical_accuracy: 0.1621\n",
            "Epoch 47/50\n",
            "51/51 [==============================] - 6s 117ms/step - loss: 2.9611 - categorical_accuracy: 0.1532 - val_loss: 2.9705 - val_categorical_accuracy: 0.1621\n",
            "Epoch 48/50\n",
            "51/51 [==============================] - 6s 116ms/step - loss: 2.9662 - categorical_accuracy: 0.1536 - val_loss: 2.9701 - val_categorical_accuracy: 0.1621\n",
            "Epoch 49/50\n",
            "51/51 [==============================] - 6s 117ms/step - loss: 2.9606 - categorical_accuracy: 0.1536 - val_loss: 2.9696 - val_categorical_accuracy: 0.1621\n",
            "Epoch 50/50\n",
            "51/51 [==============================] - 6s 116ms/step - loss: 2.9575 - categorical_accuracy: 0.1536 - val_loss: 2.9691 - val_categorical_accuracy: 0.1621\n",
            "Predict on test\n"
          ],
          "name": "stdout"
        },
        {
          "output_type": "stream",
          "text": [
            "INFO:smac.intensification.intensification.Intensifier:Updated estimated cost of incumbent on 1 runs: 2.9396\n",
            "INFO:smac.intensification.intensification.Intensifier:Updated estimated cost of incumbent on 1 runs: 2.9396\n"
          ],
          "name": "stderr"
        },
        {
          "output_type": "stream",
          "text": [
            "create generator\n",
            "create train val and test\n",
            "=========================================\n",
            "====== K Fold Validation step => 1 =======\n",
            "=========================================\n",
            "flow from train dataframe\n",
            "Found 3204 validated image filenames belonging to 20 classes.\n",
            "flow from val dataframe\n",
            "Found 801 validated image filenames belonging to 20 classes.\n",
            "flow from test dataframe\n",
            "Found 4006 validated image filenames belonging to 20 classes.\n",
            "feature extraction\n",
            "porco ziooooooooooo\n",
            "Inizio fit\n",
            "Epoch 1/50\n",
            "51/51 [==============================] - 8s 157ms/step - loss: 5.0086 - categorical_accuracy: 0.1458 - val_loss: 1.7368 - val_categorical_accuracy: 0.4956\n",
            "Epoch 2/50\n",
            "51/51 [==============================] - 6s 108ms/step - loss: 2.9030 - categorical_accuracy: 0.2787 - val_loss: 1.5743 - val_categorical_accuracy: 0.5880\n",
            "Epoch 3/50\n",
            "51/51 [==============================] - 6s 118ms/step - loss: 2.3476 - categorical_accuracy: 0.3530 - val_loss: 1.4005 - val_categorical_accuracy: 0.6067\n",
            "Epoch 4/50\n",
            "51/51 [==============================] - 6s 120ms/step - loss: 2.1213 - categorical_accuracy: 0.4114 - val_loss: 1.2940 - val_categorical_accuracy: 0.6355\n",
            "Epoch 5/50\n",
            "51/51 [==============================] - 6s 118ms/step - loss: 1.8600 - categorical_accuracy: 0.4522 - val_loss: 1.2149 - val_categorical_accuracy: 0.6579\n",
            "Epoch 6/50\n",
            "51/51 [==============================] - 6s 118ms/step - loss: 1.7834 - categorical_accuracy: 0.4866 - val_loss: 1.1691 - val_categorical_accuracy: 0.6742\n",
            "Epoch 7/50\n",
            "51/51 [==============================] - 6s 117ms/step - loss: 1.6710 - categorical_accuracy: 0.4956 - val_loss: 1.0766 - val_categorical_accuracy: 0.6904\n",
            "Epoch 8/50\n",
            "51/51 [==============================] - 6s 117ms/step - loss: 1.6332 - categorical_accuracy: 0.5159 - val_loss: 1.0554 - val_categorical_accuracy: 0.7079\n",
            "Epoch 9/50\n",
            "51/51 [==============================] - 6s 116ms/step - loss: 1.5478 - categorical_accuracy: 0.5424 - val_loss: 1.0257 - val_categorical_accuracy: 0.7129\n",
            "Epoch 10/50\n",
            "51/51 [==============================] - 6s 116ms/step - loss: 1.4933 - categorical_accuracy: 0.5527 - val_loss: 0.9936 - val_categorical_accuracy: 0.7291\n",
            "Epoch 11/50\n",
            "51/51 [==============================] - 6s 117ms/step - loss: 1.4067 - categorical_accuracy: 0.5774 - val_loss: 1.0111 - val_categorical_accuracy: 0.7391\n",
            "Epoch 12/50\n",
            "51/51 [==============================] - 6s 117ms/step - loss: 1.3780 - categorical_accuracy: 0.5880 - val_loss: 0.9976 - val_categorical_accuracy: 0.7453\n",
            "Epoch 13/50\n",
            "51/51 [==============================] - 6s 117ms/step - loss: 1.3286 - categorical_accuracy: 0.5996 - val_loss: 0.9778 - val_categorical_accuracy: 0.7528\n",
            "Epoch 14/50\n",
            "51/51 [==============================] - 6s 118ms/step - loss: 1.3189 - categorical_accuracy: 0.5933 - val_loss: 0.9542 - val_categorical_accuracy: 0.7528\n",
            "Epoch 15/50\n",
            "51/51 [==============================] - 6s 118ms/step - loss: 1.2650 - categorical_accuracy: 0.6133 - val_loss: 0.9566 - val_categorical_accuracy: 0.7591\n",
            "Epoch 16/50\n",
            "51/51 [==============================] - 6s 117ms/step - loss: 1.1861 - categorical_accuracy: 0.6283 - val_loss: 0.9652 - val_categorical_accuracy: 0.7615\n",
            "Epoch 17/50\n",
            "51/51 [==============================] - 6s 120ms/step - loss: 1.1777 - categorical_accuracy: 0.6305 - val_loss: 0.9432 - val_categorical_accuracy: 0.7690\n",
            "Epoch 18/50\n",
            "51/51 [==============================] - 6s 118ms/step - loss: 1.1485 - categorical_accuracy: 0.6545 - val_loss: 0.9430 - val_categorical_accuracy: 0.7828\n",
            "Epoch 19/50\n",
            "51/51 [==============================] - 6s 116ms/step - loss: 1.0998 - categorical_accuracy: 0.6489 - val_loss: 0.9504 - val_categorical_accuracy: 0.7740\n",
            "Epoch 20/50\n",
            "51/51 [==============================] - 6s 117ms/step - loss: 1.1245 - categorical_accuracy: 0.6586 - val_loss: 0.9542 - val_categorical_accuracy: 0.7828\n",
            "Epoch 21/50\n",
            "51/51 [==============================] - 6s 123ms/step - loss: 1.0625 - categorical_accuracy: 0.6679 - val_loss: 0.9275 - val_categorical_accuracy: 0.7878\n",
            "Epoch 22/50\n",
            "51/51 [==============================] - 6s 119ms/step - loss: 1.0734 - categorical_accuracy: 0.6676 - val_loss: 0.9197 - val_categorical_accuracy: 0.7903\n",
            "Epoch 23/50\n",
            "51/51 [==============================] - 6s 116ms/step - loss: 1.0138 - categorical_accuracy: 0.6732 - val_loss: 0.9155 - val_categorical_accuracy: 0.7928\n",
            "Epoch 24/50\n",
            "51/51 [==============================] - 6s 116ms/step - loss: 0.9952 - categorical_accuracy: 0.6904 - val_loss: 0.8966 - val_categorical_accuracy: 0.7903\n",
            "Epoch 25/50\n",
            "51/51 [==============================] - 6s 116ms/step - loss: 1.0228 - categorical_accuracy: 0.6717 - val_loss: 0.8768 - val_categorical_accuracy: 0.7903\n",
            "Epoch 26/50\n",
            "51/51 [==============================] - 6s 117ms/step - loss: 0.9771 - categorical_accuracy: 0.6932 - val_loss: 0.8806 - val_categorical_accuracy: 0.7953\n",
            "Epoch 27/50\n",
            "51/51 [==============================] - 6s 117ms/step - loss: 0.9095 - categorical_accuracy: 0.7035 - val_loss: 0.8795 - val_categorical_accuracy: 0.7990\n",
            "Epoch 28/50\n",
            "51/51 [==============================] - 6s 117ms/step - loss: 0.9602 - categorical_accuracy: 0.6966 - val_loss: 0.8876 - val_categorical_accuracy: 0.7965\n",
            "\n",
            "Epoch 00028: ReduceLROnPlateau reducing learning rate to 9.329351596534253e-05.\n",
            "Epoch 29/50\n",
            "51/51 [==============================] - 6s 118ms/step - loss: 0.9208 - categorical_accuracy: 0.7007 - val_loss: 0.8917 - val_categorical_accuracy: 0.7940\n",
            "Epoch 30/50\n",
            "51/51 [==============================] - 6s 118ms/step - loss: 0.9368 - categorical_accuracy: 0.6966 - val_loss: 0.8897 - val_categorical_accuracy: 0.7940\n",
            "Restoring model weights from the end of the best epoch\n",
            "Epoch 00030: early stopping\n",
            "Predict on test\n",
            "create generator\n",
            "create train val and test\n",
            "=========================================\n",
            "====== K Fold Validation step => 2 =======\n",
            "=========================================\n",
            "flow from train dataframe\n",
            "Found 3204 validated image filenames belonging to 20 classes.\n",
            "flow from val dataframe\n",
            "Found 802 validated image filenames belonging to 20 classes.\n",
            "flow from test dataframe\n",
            "Found 4005 validated image filenames belonging to 20 classes.\n",
            "feature extraction\n",
            "porco ziooooooooooo\n",
            "Inizio fit\n",
            "Epoch 1/50\n",
            "51/51 [==============================] - 7s 138ms/step - loss: 4.8119 - categorical_accuracy: 0.1345 - val_loss: 1.9991 - val_categorical_accuracy: 0.3903\n",
            "Epoch 2/50\n",
            "51/51 [==============================] - 6s 109ms/step - loss: 2.9422 - categorical_accuracy: 0.2500 - val_loss: 1.7182 - val_categorical_accuracy: 0.4850\n",
            "Epoch 3/50\n",
            "51/51 [==============================] - 6s 116ms/step - loss: 2.4362 - categorical_accuracy: 0.3265 - val_loss: 1.4516 - val_categorical_accuracy: 0.5362\n",
            "Epoch 4/50\n",
            "51/51 [==============================] - 6s 117ms/step - loss: 2.2074 - categorical_accuracy: 0.3839 - val_loss: 1.2826 - val_categorical_accuracy: 0.5673\n",
            "Epoch 5/50\n",
            "51/51 [==============================] - 6s 117ms/step - loss: 2.0226 - categorical_accuracy: 0.4248 - val_loss: 1.1123 - val_categorical_accuracy: 0.6072\n",
            "Epoch 6/50\n",
            "51/51 [==============================] - 6s 117ms/step - loss: 1.8381 - categorical_accuracy: 0.4675 - val_loss: 1.0122 - val_categorical_accuracy: 0.6322\n",
            "Epoch 7/50\n",
            "51/51 [==============================] - 6s 127ms/step - loss: 1.7665 - categorical_accuracy: 0.4928 - val_loss: 0.9655 - val_categorical_accuracy: 0.6397\n",
            "Epoch 8/50\n",
            "51/51 [==============================] - 7s 132ms/step - loss: 1.6817 - categorical_accuracy: 0.5019 - val_loss: 0.9120 - val_categorical_accuracy: 0.6546\n",
            "Epoch 9/50\n",
            "51/51 [==============================] - 6s 115ms/step - loss: 1.6298 - categorical_accuracy: 0.5212 - val_loss: 0.8524 - val_categorical_accuracy: 0.6621\n",
            "Epoch 10/50\n",
            "51/51 [==============================] - 6s 117ms/step - loss: 1.5302 - categorical_accuracy: 0.5534 - val_loss: 0.7717 - val_categorical_accuracy: 0.6820\n",
            "Epoch 11/50\n",
            "51/51 [==============================] - 6s 118ms/step - loss: 1.5287 - categorical_accuracy: 0.5506 - val_loss: 0.8035 - val_categorical_accuracy: 0.6808\n",
            "Epoch 12/50\n",
            "51/51 [==============================] - 6s 120ms/step - loss: 1.4345 - categorical_accuracy: 0.5699 - val_loss: 0.7436 - val_categorical_accuracy: 0.6958\n",
            "Epoch 13/50\n",
            "51/51 [==============================] - 6s 117ms/step - loss: 1.3982 - categorical_accuracy: 0.5755 - val_loss: 0.6975 - val_categorical_accuracy: 0.6995\n",
            "Epoch 14/50\n",
            "51/51 [==============================] - 6s 115ms/step - loss: 1.3640 - categorical_accuracy: 0.5787 - val_loss: 0.6559 - val_categorical_accuracy: 0.7095\n",
            "Epoch 15/50\n",
            "51/51 [==============================] - 6s 117ms/step - loss: 1.2954 - categorical_accuracy: 0.6092 - val_loss: 0.6289 - val_categorical_accuracy: 0.7157\n",
            "Epoch 16/50\n",
            "51/51 [==============================] - 6s 117ms/step - loss: 1.2472 - categorical_accuracy: 0.6127 - val_loss: 0.5898 - val_categorical_accuracy: 0.7195\n",
            "Epoch 17/50\n",
            "51/51 [==============================] - 6s 116ms/step - loss: 1.2365 - categorical_accuracy: 0.6189 - val_loss: 0.5431 - val_categorical_accuracy: 0.7332\n",
            "Epoch 18/50\n",
            "51/51 [==============================] - 6s 116ms/step - loss: 1.2103 - categorical_accuracy: 0.6283 - val_loss: 0.5741 - val_categorical_accuracy: 0.7357\n",
            "Epoch 19/50\n",
            "51/51 [==============================] - 6s 118ms/step - loss: 1.2212 - categorical_accuracy: 0.6330 - val_loss: 0.5454 - val_categorical_accuracy: 0.7444\n",
            "Epoch 20/50\n",
            "51/51 [==============================] - 6s 118ms/step - loss: 1.1135 - categorical_accuracy: 0.6464 - val_loss: 0.5114 - val_categorical_accuracy: 0.7431\n",
            "Epoch 21/50\n",
            "51/51 [==============================] - 6s 115ms/step - loss: 1.1214 - categorical_accuracy: 0.6361 - val_loss: 0.5061 - val_categorical_accuracy: 0.7344\n",
            "Epoch 22/50\n",
            "51/51 [==============================] - 6s 116ms/step - loss: 1.1242 - categorical_accuracy: 0.6570 - val_loss: 0.4754 - val_categorical_accuracy: 0.7481\n",
            "Epoch 23/50\n",
            "51/51 [==============================] - 6s 115ms/step - loss: 1.0443 - categorical_accuracy: 0.6704 - val_loss: 0.4628 - val_categorical_accuracy: 0.7469\n",
            "Epoch 24/50\n",
            "51/51 [==============================] - 6s 116ms/step - loss: 1.0576 - categorical_accuracy: 0.6745 - val_loss: 0.4587 - val_categorical_accuracy: 0.7506\n",
            "Epoch 25/50\n",
            "51/51 [==============================] - 6s 118ms/step - loss: 1.0242 - categorical_accuracy: 0.6732 - val_loss: 0.4454 - val_categorical_accuracy: 0.7531\n",
            "Epoch 26/50\n",
            "51/51 [==============================] - 6s 118ms/step - loss: 0.9956 - categorical_accuracy: 0.6745 - val_loss: 0.4310 - val_categorical_accuracy: 0.7556\n",
            "Epoch 27/50\n",
            "51/51 [==============================] - 6s 117ms/step - loss: 0.9741 - categorical_accuracy: 0.6916 - val_loss: 0.4187 - val_categorical_accuracy: 0.7544\n",
            "Epoch 28/50\n",
            "51/51 [==============================] - 6s 115ms/step - loss: 0.9643 - categorical_accuracy: 0.6957 - val_loss: 0.3930 - val_categorical_accuracy: 0.7544\n",
            "Epoch 29/50\n",
            "51/51 [==============================] - 6s 116ms/step - loss: 0.9505 - categorical_accuracy: 0.7054 - val_loss: 0.4100 - val_categorical_accuracy: 0.7531\n",
            "Epoch 30/50\n",
            "51/51 [==============================] - 6s 118ms/step - loss: 0.9526 - categorical_accuracy: 0.7013 - val_loss: 0.3823 - val_categorical_accuracy: 0.7606\n",
            "Epoch 31/50\n",
            "51/51 [==============================] - 6s 118ms/step - loss: 0.9437 - categorical_accuracy: 0.6957 - val_loss: 0.3666 - val_categorical_accuracy: 0.7569\n",
            "Epoch 32/50\n",
            "51/51 [==============================] - 6s 116ms/step - loss: 0.8939 - categorical_accuracy: 0.7013 - val_loss: 0.3502 - val_categorical_accuracy: 0.7594\n",
            "Epoch 33/50\n",
            "51/51 [==============================] - 6s 116ms/step - loss: 0.8948 - categorical_accuracy: 0.7200 - val_loss: 0.3539 - val_categorical_accuracy: 0.7643\n",
            "Epoch 34/50\n",
            "51/51 [==============================] - 6s 118ms/step - loss: 0.8769 - categorical_accuracy: 0.7191 - val_loss: 0.3539 - val_categorical_accuracy: 0.7631\n",
            "Epoch 35/50\n",
            "51/51 [==============================] - 6s 118ms/step - loss: 0.9038 - categorical_accuracy: 0.7135 - val_loss: 0.3682 - val_categorical_accuracy: 0.7606\n",
            "\n",
            "Epoch 00035: ReduceLROnPlateau reducing learning rate to 9.329351596534253e-05.\n",
            "Epoch 36/50\n",
            "51/51 [==============================] - 6s 118ms/step - loss: 0.8511 - categorical_accuracy: 0.7378 - val_loss: 0.3680 - val_categorical_accuracy: 0.7631\n",
            "Epoch 37/50\n",
            "51/51 [==============================] - 6s 118ms/step - loss: 0.8660 - categorical_accuracy: 0.7272 - val_loss: 0.3657 - val_categorical_accuracy: 0.7643\n",
            "Restoring model weights from the end of the best epoch\n",
            "Epoch 00037: early stopping\n",
            "Predict on test\n"
          ],
          "name": "stdout"
        },
        {
          "output_type": "stream",
          "text": [
            "INFO:smac.intensification.intensification.Intensifier:Challenger (1.2671) is better than incumbent (2.9396) on 1 runs.\n",
            "INFO:smac.intensification.intensification.Intensifier:Changes in incumbent:\n",
            "INFO:smac.intensification.intensification.Intensifier:  cut_layer : 14 -> 18\n",
            "INFO:smac.intensification.intensification.Intensifier:  dropout_first_layer : 0.27018626697982884 -> 0.3479008468380841\n",
            "INFO:smac.intensification.intensification.Intensifier:  dropout_second_layer : 0.3099927883619568 -> 0.22536676367917013\n",
            "INFO:smac.intensification.intensification.Intensifier:  dropout_third_layer : None -> 0.3264191256300771\n",
            "INFO:smac.intensification.intensification.Intensifier:  learning_rate : 0.0007279980174341478 -> 0.0009329351308489859\n",
            "INFO:smac.intensification.intensification.Intensifier:  momentum : 0.16231298330980526 -> 0.6334631176114999\n",
            "INFO:smac.intensification.intensification.Intensifier:  nestorov : False -> True\n",
            "INFO:smac.intensification.intensification.Intensifier:  number_first_layer : 805 -> 103\n",
            "INFO:smac.intensification.intensification.Intensifier:  number_layer : 2 -> 3\n",
            "INFO:smac.intensification.intensification.Intensifier:  number_second_layer : 68 -> 875\n",
            "INFO:smac.intensification.intensification.Intensifier:  number_third_layer : None -> 302\n",
            "INFO:smac.intensification.intensification.Intensifier:Wallclock time limit for intensification reached (used: 1060.118645 sec, available: 0.000010 sec)\n",
            "INFO:smac.intensification.intensification.Intensifier:Updated estimated cost of incumbent on 1 runs: 1.2671\n"
          ],
          "name": "stderr"
        },
        {
          "output_type": "stream",
          "text": [
            "create generator\n",
            "create train val and test\n",
            "=========================================\n",
            "====== K Fold Validation step => 1 =======\n",
            "=========================================\n",
            "flow from train dataframe\n",
            "Found 3204 validated image filenames belonging to 20 classes.\n",
            "flow from val dataframe\n",
            "Found 801 validated image filenames belonging to 20 classes.\n",
            "flow from test dataframe\n",
            "Found 4006 validated image filenames belonging to 20 classes.\n",
            "feature extraction\n",
            "porco ziooooooooooo\n",
            "Inizio fit\n",
            "Epoch 1/50\n",
            "51/51 [==============================] - 8s 162ms/step - loss: 5.4513 - categorical_accuracy: 0.1411 - val_loss: 2.2538 - val_categorical_accuracy: 0.4345\n",
            "Epoch 2/50\n",
            "51/51 [==============================] - 6s 110ms/step - loss: 3.2372 - categorical_accuracy: 0.2890 - val_loss: 1.8039 - val_categorical_accuracy: 0.5356\n",
            "Epoch 3/50\n",
            "51/51 [==============================] - 6s 117ms/step - loss: 2.6235 - categorical_accuracy: 0.3642 - val_loss: 1.5865 - val_categorical_accuracy: 0.5830\n",
            "Epoch 4/50\n",
            "51/51 [==============================] - 6s 117ms/step - loss: 2.2188 - categorical_accuracy: 0.4254 - val_loss: 1.4227 - val_categorical_accuracy: 0.6042\n",
            "Epoch 5/50\n",
            "51/51 [==============================] - 6s 116ms/step - loss: 1.9845 - categorical_accuracy: 0.4547 - val_loss: 1.3532 - val_categorical_accuracy: 0.6317\n",
            "Epoch 6/50\n",
            "51/51 [==============================] - 6s 117ms/step - loss: 1.8159 - categorical_accuracy: 0.4994 - val_loss: 1.2691 - val_categorical_accuracy: 0.6529\n",
            "Epoch 7/50\n",
            "51/51 [==============================] - 6s 117ms/step - loss: 1.7211 - categorical_accuracy: 0.5259 - val_loss: 1.2036 - val_categorical_accuracy: 0.6679\n",
            "Epoch 8/50\n",
            "51/51 [==============================] - 6s 116ms/step - loss: 1.6530 - categorical_accuracy: 0.5384 - val_loss: 1.1632 - val_categorical_accuracy: 0.6692\n",
            "Epoch 9/50\n",
            "51/51 [==============================] - 6s 117ms/step - loss: 1.5359 - categorical_accuracy: 0.5574 - val_loss: 1.1324 - val_categorical_accuracy: 0.6929\n",
            "Epoch 10/50\n",
            "51/51 [==============================] - 6s 115ms/step - loss: 1.4843 - categorical_accuracy: 0.5671 - val_loss: 1.1184 - val_categorical_accuracy: 0.6966\n",
            "Epoch 11/50\n",
            "51/51 [==============================] - 6s 116ms/step - loss: 1.4115 - categorical_accuracy: 0.5765 - val_loss: 1.0566 - val_categorical_accuracy: 0.7091\n",
            "Epoch 12/50\n",
            "51/51 [==============================] - 6s 117ms/step - loss: 1.3693 - categorical_accuracy: 0.6074 - val_loss: 1.0590 - val_categorical_accuracy: 0.7066\n",
            "Epoch 13/50\n",
            "51/51 [==============================] - 6s 120ms/step - loss: 1.3307 - categorical_accuracy: 0.6099 - val_loss: 1.0289 - val_categorical_accuracy: 0.7216\n",
            "Epoch 14/50\n",
            "51/51 [==============================] - 6s 118ms/step - loss: 1.3057 - categorical_accuracy: 0.6199 - val_loss: 1.0076 - val_categorical_accuracy: 0.7216\n",
            "Epoch 15/50\n",
            "51/51 [==============================] - 6s 117ms/step - loss: 1.2540 - categorical_accuracy: 0.6317 - val_loss: 1.0181 - val_categorical_accuracy: 0.7203\n",
            "Epoch 16/50\n",
            "51/51 [==============================] - 6s 116ms/step - loss: 1.1788 - categorical_accuracy: 0.6461 - val_loss: 1.0086 - val_categorical_accuracy: 0.7241\n",
            "Epoch 17/50\n",
            "51/51 [==============================] - 6s 117ms/step - loss: 1.1481 - categorical_accuracy: 0.6458 - val_loss: 0.9875 - val_categorical_accuracy: 0.7328\n",
            "Epoch 18/50\n",
            "51/51 [==============================] - 6s 117ms/step - loss: 1.1824 - categorical_accuracy: 0.6501 - val_loss: 0.9364 - val_categorical_accuracy: 0.7366\n",
            "Epoch 19/50\n",
            "51/51 [==============================] - 6s 123ms/step - loss: 1.1012 - categorical_accuracy: 0.6726 - val_loss: 0.9668 - val_categorical_accuracy: 0.7403\n",
            "Epoch 20/50\n",
            "51/51 [==============================] - 7s 133ms/step - loss: 1.0813 - categorical_accuracy: 0.6720 - val_loss: 0.9500 - val_categorical_accuracy: 0.7478\n",
            "Epoch 21/50\n",
            "51/51 [==============================] - 6s 118ms/step - loss: 1.0759 - categorical_accuracy: 0.6888 - val_loss: 0.9350 - val_categorical_accuracy: 0.7516\n",
            "Epoch 22/50\n",
            "51/51 [==============================] - 6s 116ms/step - loss: 1.0329 - categorical_accuracy: 0.6826 - val_loss: 0.9079 - val_categorical_accuracy: 0.7491\n",
            "Epoch 23/50\n",
            "51/51 [==============================] - 6s 115ms/step - loss: 1.0152 - categorical_accuracy: 0.6938 - val_loss: 0.9025 - val_categorical_accuracy: 0.7566\n",
            "Epoch 24/50\n",
            "51/51 [==============================] - 6s 117ms/step - loss: 0.9744 - categorical_accuracy: 0.6957 - val_loss: 0.8969 - val_categorical_accuracy: 0.7516\n",
            "Epoch 25/50\n",
            "51/51 [==============================] - 6s 117ms/step - loss: 0.9665 - categorical_accuracy: 0.7110 - val_loss: 0.8823 - val_categorical_accuracy: 0.7615\n",
            "Epoch 26/50\n",
            "51/51 [==============================] - 6s 119ms/step - loss: 0.9999 - categorical_accuracy: 0.7047 - val_loss: 0.8731 - val_categorical_accuracy: 0.7665\n",
            "Epoch 27/50\n",
            "51/51 [==============================] - 6s 118ms/step - loss: 0.9441 - categorical_accuracy: 0.7076 - val_loss: 0.8719 - val_categorical_accuracy: 0.7690\n",
            "Epoch 28/50\n",
            "51/51 [==============================] - 6s 116ms/step - loss: 0.8971 - categorical_accuracy: 0.7216 - val_loss: 0.8368 - val_categorical_accuracy: 0.7715\n",
            "Epoch 29/50\n",
            "51/51 [==============================] - 6s 117ms/step - loss: 0.9266 - categorical_accuracy: 0.7169 - val_loss: 0.8558 - val_categorical_accuracy: 0.7765\n",
            "Epoch 30/50\n",
            "51/51 [==============================] - 6s 118ms/step - loss: 0.9347 - categorical_accuracy: 0.7175 - val_loss: 0.8672 - val_categorical_accuracy: 0.7665\n",
            "Epoch 31/50\n",
            "51/51 [==============================] - 6s 116ms/step - loss: 0.8879 - categorical_accuracy: 0.7328 - val_loss: 0.8462 - val_categorical_accuracy: 0.7678\n",
            "\n",
            "Epoch 00031: ReduceLROnPlateau reducing learning rate to 6.459322175942362e-05.\n",
            "Epoch 32/50\n",
            "51/51 [==============================] - 6s 118ms/step - loss: 0.8606 - categorical_accuracy: 0.7266 - val_loss: 0.8466 - val_categorical_accuracy: 0.7715\n",
            "Epoch 33/50\n",
            "51/51 [==============================] - 6s 117ms/step - loss: 0.8915 - categorical_accuracy: 0.7434 - val_loss: 0.8446 - val_categorical_accuracy: 0.7728\n",
            "Restoring model weights from the end of the best epoch\n",
            "Epoch 00033: early stopping\n",
            "Predict on test\n"
          ],
          "name": "stdout"
        }
      ]
    },
    {
      "cell_type": "markdown",
      "metadata": {
        "id": "rUM7BP6b6U_K",
        "colab_type": "text"
      },
      "source": [
        "## Plot loss for configurations tried and best seen"
      ]
    },
    {
      "cell_type": "code",
      "metadata": {
        "id": "uCQeT4Ff58RB",
        "colab_type": "code",
        "colab": {}
      },
      "source": [
        "def losses_optimization(run_history)\n",
        "  losses = []\n",
        "  c = run_history.get_all_configs()\n",
        "  for conf in c:\n",
        "    temp = conf.get_dictionary()\n",
        "    losses.append(run_history.get_cost(conf))\n",
        "  return losses\n",
        "\n",
        "def plot_loss_configurations(run_history):\n",
        "  losses = losses_optimization(run_history)\n",
        "  plt.plot(losses)\n",
        "  plt.title('History losses for configurations tried')\n",
        "  plt.ylabel('Loss')\n",
        "  plt.xlabel('Number iteration')\n",
        "  plt.show()\n",
        "\n",
        "def plot_best_seen(run_history):\n",
        "  final = []\n",
        "  init = 100000000\n",
        "  losses = losses_optimization(run_history)\n",
        "  for i in losses:\n",
        "    if i < init:\n",
        "      final.append(i)\n",
        "      init = i\n",
        "    else:\n",
        "      final.append(init)\n",
        "  plt.plot(final, marker=\"o\")\n",
        "  plt.title('Best seen')\n",
        "  plt.xlabel('Number iteration')\n",
        "  plt.ylabel('Best seen')"
      ],
      "execution_count": 0,
      "outputs": []
    },
    {
      "cell_type": "code",
      "metadata": {
        "id": "oEbfrZ_d6ZzM",
        "colab_type": "code",
        "colab": {}
      },
      "source": [
        "if to_optimize == 'feature_extraction':\n",
        "  with open(PATH_OPTIMIZATION + 'history_feature_extraction.pkl', 'rb') as f:\n",
        "      run_history = pickle.load(f)\n",
        "if to_optimize == 'fine_tuning':\n",
        "  with open(PATH_OPTIMIZATION + 'history_fine_tuning.pkl', 'rb') as f:\n",
        "      run_history = pickle.load(f)\n",
        "\n",
        "plot_loss_configurations(run_history)\n",
        "plot_best_seen(run_history)"
      ],
      "execution_count": 0,
      "outputs": []
    },
    {
      "cell_type": "markdown",
      "metadata": {
        "id": "A-ZHDD5C4Ksp",
        "colab_type": "text"
      },
      "source": [
        "## Train model on incumbent on all train"
      ]
    },
    {
      "cell_type": "code",
      "metadata": {
        "id": "-IN__wfa4unN",
        "colab_type": "code",
        "colab": {}
      },
      "source": [
        "def train_model_all_train(to_optimize):\n",
        "  if to_optimize == 'feature_extraction':\n",
        "    with open(PATH_OPTIMIZATION + 'incubent_feature_extraction.pkl', 'rb') as f:\n",
        "        incumbent = pickle.load(f)\n",
        "    # create model with incumbent configuration\n",
        "    # train model on all train\n",
        "    # plot loss and accuracy on train and val\n",
        "    return model\n",
        "    \n",
        "  if to_optimize == 'fine_tuning':\n",
        "    with open(PATH_OPTIMIZATION + 'incumbent_fine_tuning.pkl', 'rb') as f:\n",
        "        incumbent = pickle.load(f)\n",
        "    # create model with incumbent configuration\n",
        "    # train model on all train\n",
        "    # plot loss and accuracy on train and val\n",
        "    return model"
      ],
      "execution_count": 0,
      "outputs": []
    },
    {
      "cell_type": "markdown",
      "metadata": {
        "id": "ngqgVtqrIsD-",
        "colab_type": "text"
      },
      "source": [
        "## Performance of model on test set, after AutoML"
      ]
    },
    {
      "cell_type": "code",
      "metadata": {
        "id": "m2GI2JyjIvBU",
        "colab_type": "code",
        "colab": {}
      },
      "source": [
        "def performance_on_test(model, test_generator):\n",
        "  predictions = model.predict_generator(test_generator, \n",
        "                          steps=ceil(test_generator.n / test_generator.batch_size))\n",
        "  predict_classes = np.argmax(predictions, axis=1)\n",
        "\n",
        "  performance = classification_report(  y_true = test_generator.classes, \n",
        "                                        y_pred = predict_classes,\n",
        "                                        target_names=LABELS\n",
        "  )\n",
        "\n",
        "  return performance\n",
        "\n",
        "df_test = pd.read_csv(PATH_OPTIMIZATION + 'test.csv')\n",
        "\n",
        "# create test_gen from flow_dataframe\n",
        "model = train_model_all_train(to_optimize)\n",
        "test_generator = ImageDataGenerator(preprocessing_function=preprocess_input_vgg16)\n",
        "test_gen = test_generator.flow_from_dataframe(\n",
        "  dataframe = df_test,\n",
        "  x_col='absolute_path',\n",
        "  y_col='class',\n",
        "  shuffle=False,\n",
        "  class_mode='categorical',\n",
        "  target_size=IM_SIZE,\n",
        "  batch_size=BATCH_SIZE,\n",
        "  classes=LABELS,\n",
        ")\n",
        "result = performance_on_test(model, test_gen)"
      ],
      "execution_count": 0,
      "outputs": []
    },
    {
      "cell_type": "code",
      "metadata": {
        "id": "4h2eF2vMiYyG",
        "colab_type": "code",
        "outputId": "5e52a1ea-52a2-4d73-d471-5f47cd7020ac",
        "colab": {
          "base_uri": "https://localhost:8080/",
          "height": 476
        }
      },
      "source": [
        "print(result)"
      ],
      "execution_count": 0,
      "outputs": [
        {
          "output_type": "stream",
          "text": [
            "              precision    recall  f1-score   support\n",
            "\n",
            "   aeroplane       0.95      0.91      0.93       196\n",
            "     bicycle       0.90      0.72      0.80       175\n",
            "        bird       0.83      0.95      0.89       189\n",
            "        boat       0.91      0.75      0.82       102\n",
            "      bottle       0.77      0.89      0.83        81\n",
            "         bus       0.92      0.92      0.92       144\n",
            "         car       0.90      0.86      0.88       245\n",
            "         cat       0.80      0.86      0.83       391\n",
            "       chair       0.75      0.60      0.67       422\n",
            "         cow       0.60      0.73      0.66       118\n",
            " diningtable       0.65      0.69      0.67       186\n",
            "         dog       0.83      0.81      0.82       435\n",
            "       horse       0.79      0.75      0.77       185\n",
            "   motorbike       0.65      0.89      0.75       183\n",
            "      person       0.93      0.84      0.89      1613\n",
            " pottedplant       0.88      0.85      0.86       117\n",
            "       sheep       0.66      0.91      0.77       116\n",
            "        sofa       0.47      0.66      0.55       226\n",
            "       train       0.83      0.93      0.87       175\n",
            "   tvmonitor       0.85      0.93      0.89       133\n",
            "\n",
            "    accuracy                           0.82      5432\n",
            "   macro avg       0.79      0.82      0.80      5432\n",
            "weighted avg       0.83      0.82      0.82      5432\n",
            "\n"
          ],
          "name": "stdout"
        }
      ]
    }
  ]
}