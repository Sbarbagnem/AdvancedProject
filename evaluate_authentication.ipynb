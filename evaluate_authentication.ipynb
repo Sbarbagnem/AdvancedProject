{
  "nbformat": 4,
  "nbformat_minor": 0,
  "metadata": {
    "colab": {
      "name": "evaluate_authentication.ipynb",
      "provenance": [],
      "collapsed_sections": [
        "IzORaq2-hx0a",
        "VWD0MVAfkcXi",
        "hCoh2Xja6ump",
        "wf0muRdU6xeV",
        "kvdp92qV7wJy"
      ],
      "authorship_tag": "ABX9TyMjAaEQcmirWpVNZojqQygo",
      "include_colab_link": true
    },
    "kernelspec": {
      "name": "python3",
      "display_name": "Python 3"
    },
    "accelerator": "GPU"
  },
  "cells": [
    {
      "cell_type": "markdown",
      "metadata": {
        "id": "view-in-github",
        "colab_type": "text"
      },
      "source": [
        "<a href=\"https://colab.research.google.com/github/Sbarbagnem/AdvancedProject/blob/master/evaluate_authentication.ipynb\" target=\"_parent\"><img src=\"https://colab.research.google.com/assets/colab-badge.svg\" alt=\"Open In Colab\"/></a>"
      ]
    },
    {
      "cell_type": "markdown",
      "metadata": {
        "id": "IzORaq2-hx0a"
      },
      "source": [
        "# Mount google drive for access data"
      ]
    },
    {
      "cell_type": "code",
      "metadata": {
        "id": "Wr7DAC1qhw3S",
        "colab": {
          "base_uri": "https://localhost:8080/"
        },
        "outputId": "64d67a11-20ec-40c2-ae35-be58fa9d5bb5"
      },
      "source": [
        "from google.colab import drive\n",
        "drive.mount('/content/drive', force_remount=True)"
      ],
      "execution_count": null,
      "outputs": [
        {
          "output_type": "stream",
          "text": [
            "Mounted at /content/drive\n"
          ],
          "name": "stdout"
        }
      ]
    },
    {
      "cell_type": "code",
      "metadata": {
        "id": "RFHFFoi7k9DP"
      },
      "source": [
        "COLAB_PATH = '../drive/My Drive/Laurea Magistrale/Tesi/'"
      ],
      "execution_count": null,
      "outputs": []
    },
    {
      "cell_type": "markdown",
      "metadata": {
        "id": "VWD0MVAfkcXi"
      },
      "source": [
        "# Clone repo from github"
      ]
    },
    {
      "cell_type": "code",
      "metadata": {
        "id": "7mhzQL3vFRUV",
        "colab": {
          "base_uri": "https://localhost:8080/"
        },
        "outputId": "abf45bb5-a357-4b5b-9445-db06193f9126"
      },
      "source": [
        "! git clone https://github.com/Sbarbagnem/User_Identify_Inertial_Sensor.git"
      ],
      "execution_count": null,
      "outputs": [
        {
          "output_type": "stream",
          "text": [
            "Cloning into 'User_Identify_Inertial_Sensor'...\n",
            "remote: Enumerating objects: 92, done.\u001b[K\n",
            "remote: Counting objects: 100% (92/92), done.\u001b[K\n",
            "remote: Compressing objects: 100% (60/60), done.\u001b[K\n",
            "remote: Total 3069 (delta 57), reused 61 (delta 29), pack-reused 2977\u001b[K\n",
            "Receiving objects: 100% (3069/3069), 438.58 MiB | 35.71 MiB/s, done.\n",
            "Resolving deltas: 100% (1466/1466), done.\n"
          ],
          "name": "stdout"
        }
      ]
    },
    {
      "cell_type": "code",
      "metadata": {
        "id": "cpx5j04J877W",
        "colab": {
          "base_uri": "https://localhost:8080/"
        },
        "outputId": "2a4d0c71-7dd8-4532-e3e7-276af1ad2db1"
      },
      "source": [
        "%cd User_Identify_Inertial_Sensor"
      ],
      "execution_count": null,
      "outputs": [
        {
          "output_type": "stream",
          "text": [
            "/content/User_Identify_Inertial_Sensor\n"
          ],
          "name": "stdout"
        }
      ]
    },
    {
      "cell_type": "code",
      "metadata": {
        "id": "Bp5tFwuhLLSp",
        "colab": {
          "base_uri": "https://localhost:8080/"
        },
        "outputId": "af1da536-4124-45bb-e3ec-37fc0eaae602"
      },
      "source": [
        "! git pull"
      ],
      "execution_count": null,
      "outputs": [
        {
          "output_type": "stream",
          "text": [
            "remote: Enumerating objects: 7, done.\u001b[K\n",
            "remote: Counting objects:  14% (1/7)\u001b[K\rremote: Counting objects:  28% (2/7)\u001b[K\rremote: Counting objects:  42% (3/7)\u001b[K\rremote: Counting objects:  57% (4/7)\u001b[K\rremote: Counting objects:  71% (5/7)\u001b[K\rremote: Counting objects:  85% (6/7)\u001b[K\rremote: Counting objects: 100% (7/7)\u001b[K\rremote: Counting objects: 100% (7/7), done.\u001b[K\n",
            "remote: Compressing objects: 100% (1/1)\u001b[K\rremote: Compressing objects: 100% (1/1), done.\u001b[K\n",
            "remote: Total 4 (delta 3), reused 4 (delta 3), pack-reused 0\n",
            "Unpacking objects:  25% (1/4)   \rUnpacking objects:  50% (2/4)   \rUnpacking objects:  75% (3/4)   \rUnpacking objects: 100% (4/4)   \rUnpacking objects: 100% (4/4), done.\n",
            "From https://github.com/Sbarbagnem/User_Identify_Inertial_Sensor\n",
            "   c3daa28..f396007  master     -> origin/master\n",
            "Updating c3daa28..f396007\n",
            "Fast-forward\n",
            " model/model_authentication.py | 2 \u001b[32m+\u001b[m\u001b[31m-\u001b[m\n",
            " 1 file changed, 1 insertion(+), 1 deletion(-)\n"
          ],
          "name": "stdout"
        }
      ]
    },
    {
      "cell_type": "markdown",
      "metadata": {
        "id": "b3UTX8oA91qK"
      },
      "source": [
        "# SHAR"
      ]
    },
    {
      "cell_type": "markdown",
      "metadata": {
        "id": "zAtkKyr591qK"
      },
      "source": [
        "## Train classifier"
      ]
    },
    {
      "cell_type": "code",
      "metadata": {
        "id": "ZgrJLV_A91qK"
      },
      "source": [
        "%run train_model_authentication.py -colab_path '{COLAB_PATH}' -path_data data/authentication/SHAR/ -name_dataset SHAR -name_model shar -train_classifier true"
      ],
      "execution_count": null,
      "outputs": []
    },
    {
      "cell_type": "markdown",
      "metadata": {
        "id": "Kmowk0I691qL"
      },
      "source": [
        "## Evaluate authentication"
      ]
    },
    {
      "cell_type": "markdown",
      "metadata": {
        "id": "GHgcYuzf91qL"
      },
      "source": [
        "### Intra session authentication"
      ]
    },
    {
      "cell_type": "markdown",
      "metadata": {
        "id": "cxaAsnM891qL"
      },
      "source": [
        "#### Action dependent"
      ]
    },
    {
      "cell_type": "code",
      "metadata": {
        "colab": {
          "base_uri": "https://localhost:8080/"
        },
        "id": "Uanr74qT91qL",
        "outputId": "7b6543e9-0ccb-457e-fb99-500ed04329ba"
      },
      "source": [
        "%run train_model_authentication.py -colab_path '{COLAB_PATH}' -path_data data/authentication/SHAR/ -name_dataset SHAR -name_model shar -generate_features true -split_gallery_probe intra_session"
      ],
      "execution_count": null,
      "outputs": [
        {
          "output_type": "stream",
          "text": [
            "../drive/My Drive/Laurea Magistrale/Tesi/data/authentication/SHAR/\n",
            "(6552, 128, 4) total window in dataset\n",
            "21 users for train feature extraction\n",
            "9 users for auth feature extraction\n",
            "(4518, 128, 4) window for train classifier\n",
            "(2034, 128, 4) window for evaluate authentication\n",
            "Load model\n",
            "Session 0\n",
            "Gallery shape: (278, 128, 4, 1)\n",
            "Probe shape: (231, 128, 4, 1)\n",
            "Generate features\n",
            "WARNING:tensorflow:Layer res_net18single_branch_16 is casting an input tensor from dtype float64 to the layer's dtype of float32, which is new behavior in TensorFlow 2.  The layer has dtype float32 because its dtype defaults to floatx.\n",
            "\n",
            "If you intended to run this layer in float32, you can safely ignore this warning. If in doubt, this warning is likely only an issue if you are porting a TensorFlow 1.X model to TensorFlow 2.\n",
            "\n",
            "To change all layers to have dtype float64 by default, call `tf.keras.backend.set_floatx('float64')`. To change just this layer, pass dtype='float64' to the layer constructor. If you are the author of this layer, you can disable autocasting by passing autocast=False to the base Layer constructor.\n",
            "\n",
            "Shape gallery feature(278, 64)\n",
            "Shape probe feature(231, 64)\n",
            "Save features\n",
            "Session 1\n",
            "Gallery shape: (275, 128, 4, 1)\n",
            "Probe shape: (233, 128, 4, 1)\n",
            "Generate features\n",
            "Shape gallery feature(275, 64)\n",
            "Shape probe feature(233, 64)\n",
            "Save features\n"
          ],
          "name": "stdout"
        }
      ]
    },
    {
      "cell_type": "code",
      "metadata": {
        "colab": {
          "base_uri": "https://localhost:8080/"
        },
        "id": "1cpY9Unz91qL",
        "outputId": "93f098af-081d-418e-a521-f23cb1e87274"
      },
      "source": [
        "%run train_model_authentication.py -colab_path '{COLAB_PATH}' -path_data data/authentication/SHAR/ -name_dataset SHAR -name_model shar -compute_distance true -split_gallery_probe intra_session -action_dependent true"
      ],
      "execution_count": null,
      "outputs": [
        {
          "output_type": "stream",
          "text": [
            "../drive/My Drive/Laurea Magistrale/Tesi/data/authentication/SHAR/\n",
            "(6552, 128, 4) total window in dataset\n",
            "21 users for train feature extraction\n",
            "9 users for auth feature extraction\n",
            "(4518, 128, 4) window for train classifier\n",
            "(2034, 128, 4) window for evaluate authentication\n",
            "Load model\n",
            "Gallery shape: (24, 64)\n",
            "Probe shape: (18, 64)\n",
            "Gallery shape: (32, 64)\n",
            "Probe shape: (27, 64)\n",
            "Gallery shape: (56, 64)\n",
            "Probe shape: (50, 64)\n",
            "Gallery shape: (53, 64)\n",
            "Probe shape: (46, 64)\n",
            "Gallery shape: (20, 64)\n",
            "Probe shape: (15, 64)\n",
            "Gallery shape: (16, 64)\n",
            "Probe shape: (10, 64)\n",
            "Gallery shape: (19, 64)\n",
            "Probe shape: (17, 64)\n",
            "Gallery shape: (33, 64)\n",
            "Probe shape: (29, 64)\n",
            "Gallery shape: (25, 64)\n",
            "Probe shape: (19, 64)\n",
            "Gallery shape: (23, 64)\n",
            "Probe shape: (20, 64)\n",
            "Gallery shape: (31, 64)\n",
            "Probe shape: (27, 64)\n",
            "Gallery shape: (56, 64)\n",
            "Probe shape: (51, 64)\n",
            "Gallery shape: (54, 64)\n",
            "Probe shape: (46, 64)\n",
            "Gallery shape: (20, 64)\n",
            "Probe shape: (15, 64)\n",
            "Gallery shape: (17, 64)\n",
            "Probe shape: (9, 64)\n",
            "Gallery shape: (20, 64)\n",
            "Probe shape: (16, 64)\n",
            "Gallery shape: (31, 64)\n",
            "Probe shape: (29, 64)\n",
            "Gallery shape: (23, 64)\n",
            "Probe shape: (20, 64)\n"
          ],
          "name": "stdout"
        }
      ]
    },
    {
      "cell_type": "code",
      "metadata": {
        "colab": {
          "base_uri": "https://localhost:8080/"
        },
        "id": "QzjupW8_91qL",
        "outputId": "bf35eb97-ebbc-40b2-a8be-906e535f6d4f"
      },
      "source": [
        "%run train_model_authentication.py -colab_path '{COLAB_PATH}' -path_data data/authentication/SHAR/ -name_dataset SHAR -name_model shar -compute_eer true -split_gallery_probe intra_session -action_dependent true"
      ],
      "execution_count": null,
      "outputs": [
        {
          "output_type": "stream",
          "text": [
            "../drive/My Drive/Laurea Magistrale/Tesi/data/authentication/SHAR/\n",
            "(6552, 128, 4) total window in dataset\n",
            "21 users for train feature extraction\n",
            "9 users for auth feature extraction\n",
            "(4518, 128, 4) window for train classifier\n",
            "(2034, 128, 4) window for evaluate authentication\n",
            "Load model\n",
            "Session 0\n",
            "Act 0 EER: 29.668 Trhesh: 5.958\n",
            "Act 1 EER: 33.418 Trhesh: 7.341\n",
            "Act 2 EER: 4.262 Trhesh: 4.063\n",
            "Act 3 EER: 15.074 Trhesh: 3.768\n",
            "Act 4 EER: 12.830 Trhesh: 3.435\n",
            "Act 5 EER: 22.222 Trhesh: 4.176\n",
            "Act 6 EER: 25.000 Trhesh: 4.882\n",
            "Act 7 EER: 37.607 Trhesh: 7.731\n",
            "Act 8 EER: 31.579 Trhesh: 5.765\n",
            "Session 1\n",
            "Act 0 EER: 19.643 Trhesh: 5.358\n",
            "Act 1 EER: 28.571 Trhesh: 6.072\n",
            "Act 2 EER: 7.041 Trhesh: 3.683\n",
            "Act 3 EER: 18.750 Trhesh: 4.232\n",
            "Act 4 EER: 11.321 Trhesh: 4.966\n",
            "Act 5 EER: 23.765 Trhesh: 5.588\n",
            "Act 6 EER: 16.216 Trhesh: 5.985\n",
            "Act 7 EER: 39.377 Trhesh: 6.636\n",
            "Act 8 EER: 29.399 Trhesh: 5.897\n"
          ],
          "name": "stdout"
        }
      ]
    },
    {
      "cell_type": "markdown",
      "metadata": {
        "id": "gbBIGdVN91qL"
      },
      "source": [
        "#### Action independent"
      ]
    },
    {
      "cell_type": "code",
      "metadata": {
        "colab": {
          "base_uri": "https://localhost:8080/"
        },
        "id": "RQRQzFAt91qL",
        "outputId": "771bd1f8-8493-4dff-864a-65288e31dba5"
      },
      "source": [
        "%run train_model_authentication.py -colab_path '{COLAB_PATH}' -path_data data/authentication/SHAR/ -name_dataset SHAR -name_model shar -generate_features true -split_gallery_probe intra_session"
      ],
      "execution_count": null,
      "outputs": [
        {
          "output_type": "stream",
          "text": [
            "../drive/My Drive/Laurea Magistrale/Tesi/data/authentication/SHAR/\n",
            "(6552, 128, 4) total window in dataset\n",
            "21 users for train feature extraction\n",
            "9 users for auth feature extraction\n",
            "(4518, 128, 4) window for train classifier\n",
            "(2034, 128, 4) window for evaluate authentication\n",
            "Load model\n",
            "Session 0\n",
            "Gallery shape: (278, 128, 4, 1)\n",
            "Probe shape: (231, 128, 4, 1)\n",
            "Generate features\n",
            "WARNING:tensorflow:Layer res_net18single_branch_19 is casting an input tensor from dtype float64 to the layer's dtype of float32, which is new behavior in TensorFlow 2.  The layer has dtype float32 because its dtype defaults to floatx.\n",
            "\n",
            "If you intended to run this layer in float32, you can safely ignore this warning. If in doubt, this warning is likely only an issue if you are porting a TensorFlow 1.X model to TensorFlow 2.\n",
            "\n",
            "To change all layers to have dtype float64 by default, call `tf.keras.backend.set_floatx('float64')`. To change just this layer, pass dtype='float64' to the layer constructor. If you are the author of this layer, you can disable autocasting by passing autocast=False to the base Layer constructor.\n",
            "\n",
            "Shape gallery feature(278, 64)\n",
            "Shape probe feature(231, 64)\n",
            "Save features\n",
            "Session 1\n",
            "Gallery shape: (275, 128, 4, 1)\n",
            "Probe shape: (233, 128, 4, 1)\n",
            "Generate features\n",
            "Shape gallery feature(275, 64)\n",
            "Shape probe feature(233, 64)\n",
            "Save features\n"
          ],
          "name": "stdout"
        }
      ]
    },
    {
      "cell_type": "code",
      "metadata": {
        "colab": {
          "base_uri": "https://localhost:8080/"
        },
        "id": "wbjyc-1j91qL",
        "outputId": "9cecfaab-d24a-4d11-8cec-7fb16bcd7c0e"
      },
      "source": [
        "%run train_model_authentication.py -colab_path '{COLAB_PATH}' -path_data data/authentication/SHAR/ -name_dataset SHAR -name_model shar -compute_distance true -split_gallery_probe intra_session -action_dependent false"
      ],
      "execution_count": null,
      "outputs": [
        {
          "output_type": "stream",
          "text": [
            "../drive/My Drive/Laurea Magistrale/Tesi/data/authentication/SHAR/\n",
            "(6552, 128, 4) total window in dataset\n",
            "21 users for train feature extraction\n",
            "9 users for auth feature extraction\n",
            "(4518, 128, 4) window for train classifier\n",
            "(2034, 128, 4) window for evaluate authentication\n",
            "Load model\n"
          ],
          "name": "stdout"
        }
      ]
    },
    {
      "cell_type": "code",
      "metadata": {
        "colab": {
          "base_uri": "https://localhost:8080/"
        },
        "id": "kB3oUrKU91qL",
        "outputId": "43ce8c2b-01ad-4c9b-90f7-0aa2df719bca"
      },
      "source": [
        "%run train_model_authentication.py -colab_path '{COLAB_PATH}' -path_data data/authentication/SHAR/ -name_dataset SHAR -name_model shar -compute_eer true -split_gallery_probe intra_session -action_dependent false"
      ],
      "execution_count": null,
      "outputs": [
        {
          "output_type": "stream",
          "text": [
            "../drive/My Drive/Laurea Magistrale/Tesi/data/authentication/SHAR/\n",
            "(6552, 128, 4) total window in dataset\n",
            "21 users for train feature extraction\n",
            "9 users for auth feature extraction\n",
            "(4518, 128, 4) window for train classifier\n",
            "(2034, 128, 4) window for evaluate authentication\n",
            "Load model\n",
            "Session 0\n",
            "EER: 34.691\n",
            "Session 1\n",
            "EER: 39.104\n"
          ],
          "name": "stdout"
        }
      ]
    },
    {
      "cell_type": "markdown",
      "metadata": {
        "id": "9UIPHz0z91qL"
      },
      "source": [
        "### Extra session authentication"
      ]
    },
    {
      "cell_type": "markdown",
      "metadata": {
        "id": "cb01VdYq91qL"
      },
      "source": [
        "#### Action dependent"
      ]
    },
    {
      "cell_type": "code",
      "metadata": {
        "colab": {
          "base_uri": "https://localhost:8080/"
        },
        "id": "y3-ySRal91qL",
        "outputId": "a4cf3770-85d9-4ca5-f92c-aaa91a8fd40d"
      },
      "source": [
        "%run train_model_authentication.py -colab_path '{COLAB_PATH}' -path_data data/authentication/SHAR/ -name_dataset SHAR -name_model shar -generate_features true -split_gallery_probe extra_session"
      ],
      "execution_count": null,
      "outputs": [
        {
          "output_type": "stream",
          "text": [
            "../drive/My Drive/Laurea Magistrale/Tesi/data/authentication/SHAR/\n",
            "(6552, 128, 4) total window in dataset\n",
            "21 users for train feature extraction\n",
            "9 users for auth feature extraction\n",
            "(4518, 128, 4) window for train classifier\n",
            "(2034, 128, 4) window for evaluate authentication\n",
            "Load model\n",
            "Gallery shape: (509, 128, 4, 1)\n",
            "Probe shape: (508, 128, 4, 1)\n",
            "Generate features\n",
            "WARNING:tensorflow:Layer res_net18single_branch_22 is casting an input tensor from dtype float64 to the layer's dtype of float32, which is new behavior in TensorFlow 2.  The layer has dtype float32 because its dtype defaults to floatx.\n",
            "\n",
            "If you intended to run this layer in float32, you can safely ignore this warning. If in doubt, this warning is likely only an issue if you are porting a TensorFlow 1.X model to TensorFlow 2.\n",
            "\n",
            "To change all layers to have dtype float64 by default, call `tf.keras.backend.set_floatx('float64')`. To change just this layer, pass dtype='float64' to the layer constructor. If you are the author of this layer, you can disable autocasting by passing autocast=False to the base Layer constructor.\n",
            "\n",
            "Shape gallery feature(509, 64)\n",
            "Shape probe feature(508, 64)\n",
            "Save features\n"
          ],
          "name": "stdout"
        }
      ]
    },
    {
      "cell_type": "code",
      "metadata": {
        "colab": {
          "base_uri": "https://localhost:8080/"
        },
        "id": "84o8qOcs91qL",
        "outputId": "2f9e5595-b783-4111-dca3-7454b86fd5a2"
      },
      "source": [
        "%run train_model_authentication.py -colab_path '{COLAB_PATH}' -path_data data/authentication/SHAR/ -name_dataset SHAR -name_model shar -compute_distance true -split_gallery_probe extra_session -action_dependent true"
      ],
      "execution_count": null,
      "outputs": [
        {
          "output_type": "stream",
          "text": [
            "../drive/My Drive/Laurea Magistrale/Tesi/data/authentication/SHAR/\n",
            "(6552, 128, 4) total window in dataset\n",
            "21 users for train feature extraction\n",
            "9 users for auth feature extraction\n",
            "(4518, 128, 4) window for train classifier\n",
            "(2034, 128, 4) window for evaluate authentication\n",
            "Load model\n",
            "Gallery shape: (42, 64)\n",
            "Probe shape: (43, 64)\n",
            "Gallery shape: (59, 64)\n",
            "Probe shape: (58, 64)\n",
            "Gallery shape: (106, 64)\n",
            "Probe shape: (107, 64)\n",
            "Gallery shape: (99, 64)\n",
            "Probe shape: (100, 64)\n",
            "Gallery shape: (35, 64)\n",
            "Probe shape: (35, 64)\n",
            "Gallery shape: (26, 64)\n",
            "Probe shape: (26, 64)\n",
            "Gallery shape: (36, 64)\n",
            "Probe shape: (36, 64)\n",
            "Gallery shape: (62, 64)\n",
            "Probe shape: (60, 64)\n",
            "Gallery shape: (44, 64)\n",
            "Probe shape: (43, 64)\n"
          ],
          "name": "stdout"
        }
      ]
    },
    {
      "cell_type": "code",
      "metadata": {
        "colab": {
          "base_uri": "https://localhost:8080/"
        },
        "id": "Ht3qu1J291qL",
        "outputId": "7066a115-94b8-4a47-f2d8-01f3f723313d"
      },
      "source": [
        "%run train_model_authentication.py -colab_path '{COLAB_PATH}' -path_data data/authentication/SHAR/ -name_dataset SHAR -name_model shar -compute_eer true -split_gallery_probe extra_session -action_dependent true"
      ],
      "execution_count": null,
      "outputs": [
        {
          "output_type": "stream",
          "text": [
            "../drive/My Drive/Laurea Magistrale/Tesi/data/authentication/SHAR/\n",
            "(6552, 128, 4) total window in dataset\n",
            "21 users for train feature extraction\n",
            "9 users for auth feature extraction\n",
            "(4518, 128, 4) window for train classifier\n",
            "(2034, 128, 4) window for evaluate authentication\n",
            "Load model\n",
            "Act 0 EER: 48.776 Trhesh: 8.850\n",
            "Act 1 EER: 54.415 Trhesh: 10.543\n",
            "Act 2 EER: 37.209 Trhesh: 6.365\n",
            "Act 3 EER: 30.974 Trhesh: 5.069\n",
            "Act 4 EER: 30.556 Trhesh: 5.447\n",
            "Act 5 EER: 32.357 Trhesh: 5.690\n",
            "Act 6 EER: 34.204 Trhesh: 6.087\n",
            "Act 7 EER: 54.308 Trhesh: 9.294\n",
            "Act 8 EER: 43.805 Trhesh: 7.580\n"
          ],
          "name": "stdout"
        }
      ]
    },
    {
      "cell_type": "markdown",
      "metadata": {
        "id": "-0k6pDzX91qL"
      },
      "source": [
        "#### Action independent"
      ]
    },
    {
      "cell_type": "code",
      "metadata": {
        "colab": {
          "base_uri": "https://localhost:8080/"
        },
        "id": "IJZTVtvB91qL",
        "outputId": "3c1b95b3-60ad-4355-ac0f-107178df7b9c"
      },
      "source": [
        "%run train_model_authentication.py -colab_path '{COLAB_PATH}' -path_data data/authentication/SHAR/ -name_dataset SHAR -name_model shar -generate_features true -split_gallery_probe extra_session"
      ],
      "execution_count": null,
      "outputs": [
        {
          "output_type": "stream",
          "text": [
            "../drive/My Drive/Laurea Magistrale/Tesi/data/authentication/SHAR/\n",
            "(6552, 128, 4) total window in dataset\n",
            "21 users for train feature extraction\n",
            "9 users for auth feature extraction\n",
            "(4518, 128, 4) window for train classifier\n",
            "(2034, 128, 4) window for evaluate authentication\n",
            "Load model\n",
            "Gallery shape: (509, 128, 4, 1)\n",
            "Probe shape: (508, 128, 4, 1)\n",
            "Generate features\n",
            "WARNING:tensorflow:Layer res_net18single_branch_25 is casting an input tensor from dtype float64 to the layer's dtype of float32, which is new behavior in TensorFlow 2.  The layer has dtype float32 because its dtype defaults to floatx.\n",
            "\n",
            "If you intended to run this layer in float32, you can safely ignore this warning. If in doubt, this warning is likely only an issue if you are porting a TensorFlow 1.X model to TensorFlow 2.\n",
            "\n",
            "To change all layers to have dtype float64 by default, call `tf.keras.backend.set_floatx('float64')`. To change just this layer, pass dtype='float64' to the layer constructor. If you are the author of this layer, you can disable autocasting by passing autocast=False to the base Layer constructor.\n",
            "\n",
            "Shape gallery feature(509, 64)\n",
            "Shape probe feature(508, 64)\n",
            "Save features\n"
          ],
          "name": "stdout"
        }
      ]
    },
    {
      "cell_type": "code",
      "metadata": {
        "colab": {
          "base_uri": "https://localhost:8080/"
        },
        "id": "VirxicOH91qL",
        "outputId": "9303a789-2f0e-42cb-f2b7-3599eaac44aa"
      },
      "source": [
        "%run train_model_authentication.py -colab_path '{COLAB_PATH}' -path_data data/authentication/SHAR/ -name_dataset SHAR -name_model shar -compute_distance true -split_gallery_probe extra_session -action_dependent false"
      ],
      "execution_count": null,
      "outputs": [
        {
          "output_type": "stream",
          "text": [
            "../drive/My Drive/Laurea Magistrale/Tesi/data/authentication/SHAR/\n",
            "(6552, 128, 4) total window in dataset\n",
            "21 users for train feature extraction\n",
            "9 users for auth feature extraction\n",
            "(4518, 128, 4) window for train classifier\n",
            "(2034, 128, 4) window for evaluate authentication\n",
            "Load model\n"
          ],
          "name": "stdout"
        }
      ]
    },
    {
      "cell_type": "code",
      "metadata": {
        "colab": {
          "base_uri": "https://localhost:8080/"
        },
        "id": "RTxhEmBs91qM",
        "outputId": "53f238af-baef-4c58-f80e-6bbe87978ae4"
      },
      "source": [
        "%run train_model_authentication.py -colab_path '{COLAB_PATH}' -path_data data/authentication/SHAR/ -name_dataset SHAR -name_model shar -compute_eer true -split_gallery_probe extra_session -action_dependent false"
      ],
      "execution_count": null,
      "outputs": [
        {
          "output_type": "stream",
          "text": [
            "../drive/My Drive/Laurea Magistrale/Tesi/data/authentication/SHAR/\n",
            "(6552, 128, 4) total window in dataset\n",
            "21 users for train feature extraction\n",
            "9 users for auth feature extraction\n",
            "(4518, 128, 4) window for train classifier\n",
            "(2034, 128, 4) window for evaluate authentication\n",
            "Load model\n",
            "EER: 39.263\n"
          ],
          "name": "stdout"
        }
      ]
    },
    {
      "cell_type": "markdown",
      "metadata": {
        "id": "M9BCojH82gUc"
      },
      "source": [
        "# SBHAR"
      ]
    },
    {
      "cell_type": "markdown",
      "metadata": {
        "id": "hCoh2Xja6ump"
      },
      "source": [
        "## Train classifier"
      ]
    },
    {
      "cell_type": "code",
      "metadata": {
        "colab": {
          "base_uri": "https://localhost:8080/"
        },
        "id": "rkapD3Rf2jlf",
        "outputId": "d8dae118-0b93-459a-add4-f46a4c1e298e"
      },
      "source": [
        "%run train_model_authentication.py -colab_path '{COLAB_PATH}' -path_data data/authentication/SBHAR/ -name_dataset SBHAR -name_model sbhar -train_classifier true"
      ],
      "execution_count": null,
      "outputs": [
        {
          "output_type": "stream",
          "text": [
            "../drive/My Drive/Laurea Magistrale/Tesi/data/authentication/SBHAR/\n",
            "(11139, 128, 8) total window in dataset\n",
            "21 users for train feature extraction\n",
            "9 users for auth feature extraction\n",
            "(7526, 128, 8) window for train classifier\n",
            "(3613, 128, 8) window for evaluate authentication\n",
            "Train window before delete overlap sequence: 5969\n",
            "Train window after delete overlap sequence: 3734\n",
            "Model: \"res_net18single_branch\"\n",
            "_________________________________________________________________\n",
            "Layer (type)                 Output Shape              Param #   \n",
            "=================================================================\n",
            "conv2d (Conv2D)              multiple                  192       \n",
            "_________________________________________________________________\n",
            "batch_normalization (BatchNo multiple                  128       \n",
            "_________________________________________________________________\n",
            "max_pooling2d (MaxPooling2D) multiple                  0         \n",
            "_________________________________________________________________\n",
            "residual_block_1 (Sequential (None, 61, 8, 32)         39872     \n",
            "_________________________________________________________________\n",
            "residual_block_2 (Sequential (None, 61, 8, 64)         137088    \n",
            "_________________________________________________________________\n",
            "global_average_pooling2d (Gl multiple                  0         \n",
            "_________________________________________________________________\n",
            "fc_user (Dense)              multiple                  1365      \n",
            "=================================================================\n",
            "Total params: 178,645\n",
            "Trainable params: 177,429\n",
            "Non-trainable params: 1,216\n",
            "_________________________________________________________________\n",
            "WARNING:tensorflow:Layer res_net18single_branch is casting an input tensor from dtype float64 to the layer's dtype of float32, which is new behavior in TensorFlow 2.  The layer has dtype float32 because its dtype defaults to floatx.\n",
            "\n",
            "If you intended to run this layer in float32, you can safely ignore this warning. If in doubt, this warning is likely only an issue if you are porting a TensorFlow 1.X model to TensorFlow 2.\n",
            "\n",
            "To change all layers to have dtype float64 by default, call `tf.keras.backend.set_floatx('float64')`. To change just this layer, pass dtype='float64' to the layer constructor. If you are the author of this layer, you can disable autocasting by passing autocast=False to the base Layer constructor.\n",
            "\n",
            "TRAIN epoch: 1/100, loss: 2.7499, acc: 0.1659, prec: 0.1994, rec :0.1589, f1: 0.1365\n"
          ],
          "name": "stdout"
        },
        {
          "output_type": "stream",
          "text": [
            "/content/User_Identify_Inertial_Sensor/util/tf_metrics.py:29: RuntimeWarning: invalid value encountered in true_divide\n",
            "  precision = tp / np.sum(confusion_matrix[:,user])\n",
            "/content/User_Identify_Inertial_Sensor/util/tf_metrics.py:31: RuntimeWarning: invalid value encountered in double_scalars\n",
            "  f1 = 2 * precision * recall / (precision + recall)\n"
          ],
          "name": "stderr"
        },
        {
          "output_type": "stream",
          "text": [
            "VAL epoch: 1/100, loss: 2.9918, acc: 0.0893, prec: nan, rec :0.0844, f1: nan\n",
            "TRAIN epoch: 2/100, loss: 2.1907, acc: 0.3454, prec: 0.3607, rec :0.3417, f1: 0.3159\n",
            "VAL epoch: 2/100, loss: 2.9881, acc: 0.0732, prec: nan, rec :0.0719, f1: nan\n",
            "TRAIN epoch: 3/100, loss: 1.7796, acc: 0.4779, prec: 0.4950, rec :0.4734, f1: 0.4612\n",
            "VAL epoch: 3/100, loss: 3.2051, acc: 0.0912, prec: nan, rec :0.0870, f1: nan\n",
            "TRAIN epoch: 4/100, loss: 1.4671, acc: 0.6005, prec: 0.6085, rec :0.5963, f1: 0.5915\n",
            "VAL epoch: 4/100, loss: 3.1020, acc: 0.1342, prec: nan, rec :0.1300, f1: nan\n",
            "TRAIN epoch: 5/100, loss: 1.2662, acc: 0.6479, prec: 0.6598, rec :0.6448, f1: 0.6430\n",
            "VAL epoch: 5/100, loss: 2.7205, acc: 0.1991, prec: nan, rec :0.1930, f1: nan\n",
            "TRAIN epoch: 6/100, loss: 1.0804, acc: 0.7029, prec: 0.7149, rec :0.7001, f1: 0.6992\n",
            "VAL epoch: 6/100, loss: 2.6046, acc: 0.1895, prec: nan, rec :0.1896, f1: nan\n",
            "TRAIN epoch: 7/100, loss: 0.9522, acc: 0.7295, prec: 0.7336, rec :0.7266, f1: 0.7251\n",
            "VAL epoch: 7/100, loss: 2.4562, acc: 0.2550, prec: nan, rec :0.2498, f1: nan\n",
            "TRAIN epoch: 8/100, loss: 0.8519, acc: 0.7554, prec: 0.7612, rec :0.7523, f1: 0.7524\n",
            "VAL epoch: 8/100, loss: 2.0009, acc: 0.4021, prec: nan, rec :0.3959, f1: nan\n",
            "TRAIN epoch: 9/100, loss: 0.8052, acc: 0.7651, prec: 0.7693, rec :0.7631, f1: 0.7637\n",
            "VAL epoch: 9/100, loss: 1.9339, acc: 0.4232, prec: nan, rec :0.4148, f1: nan\n",
            "TRAIN epoch: 10/100, loss: 0.6997, acc: 0.7928, prec: 0.7980, rec :0.7913, f1: 0.7919\n",
            "VAL epoch: 10/100, loss: 1.5146, acc: 0.5427, prec: nan, rec :0.5365, f1: nan\n",
            "TRAIN epoch: 11/100, loss: 0.6770, acc: 0.7980, prec: 0.8010, rec :0.7964, f1: 0.7972\n",
            "VAL epoch: 11/100, loss: 1.5556, acc: 0.5164, prec: 0.5671, rec :0.5172, f1: 0.4955\n",
            "TRAIN epoch: 12/100, loss: 0.6137, acc: 0.8163, prec: 0.8195, rec :0.8161, f1: 0.8164\n",
            "VAL epoch: 12/100, loss: 1.4211, acc: 0.5710, prec: 0.6278, rec :0.5665, f1: 0.5564\n",
            "TRAIN epoch: 13/100, loss: 0.5805, acc: 0.8276, prec: 0.8298, rec :0.8270, f1: 0.8274\n",
            "VAL epoch: 13/100, loss: 1.5832, acc: 0.4849, prec: 0.6033, rec :0.4820, f1: 0.4733\n",
            "TRAIN epoch: 14/100, loss: 0.5192, acc: 0.8446, prec: 0.8459, rec :0.8432, f1: 0.8437\n",
            "VAL epoch: 14/100, loss: 1.0934, acc: 0.6358, prec: 0.6935, rec :0.6294, f1: 0.6229\n",
            "TRAIN epoch: 15/100, loss: 0.4669, acc: 0.8685, prec: 0.8697, rec :0.8672, f1: 0.8674\n",
            "VAL epoch: 15/100, loss: 0.9642, acc: 0.7039, prec: 0.7230, rec :0.6957, f1: 0.6860\n",
            "TRAIN epoch: 16/100, loss: 0.4396, acc: 0.8645, prec: 0.8664, rec :0.8643, f1: 0.8646\n",
            "VAL epoch: 16/100, loss: 0.8921, acc: 0.6840, prec: 0.7665, rec :0.6855, f1: 0.7036\n",
            "TRAIN epoch: 17/100, loss: 0.4323, acc: 0.8728, prec: 0.8736, rec :0.8720, f1: 0.8725\n",
            "VAL epoch: 17/100, loss: 0.7981, acc: 0.7469, prec: 0.7778, rec :0.7427, f1: 0.7465\n",
            "TRAIN epoch: 18/100, loss: 0.3955, acc: 0.8766, prec: 0.8779, rec :0.8762, f1: 0.8766\n",
            "VAL epoch: 18/100, loss: 0.7765, acc: 0.7514, prec: 0.7833, rec :0.7460, f1: 0.7417\n",
            "TRAIN epoch: 19/100, loss: 0.3543, acc: 0.8936, prec: 0.8944, rec :0.8935, f1: 0.8935\n",
            "VAL epoch: 19/100, loss: 0.8001, acc: 0.7142, prec: 0.7632, rec :0.7173, f1: 0.7194\n",
            "TRAIN epoch: 20/100, loss: 0.3520, acc: 0.8904, prec: 0.8912, rec :0.8904, f1: 0.8904\n",
            "VAL epoch: 20/100, loss: 0.6967, acc: 0.7759, prec: 0.7962, rec :0.7719, f1: 0.7764\n",
            "TRAIN epoch: 21/100, loss: 0.3607, acc: 0.8823, prec: 0.8835, rec :0.8809, f1: 0.8817\n",
            "VAL epoch: 21/100, loss: 0.7659, acc: 0.7694, prec: 0.7994, rec :0.7685, f1: 0.7692\n",
            "TRAIN epoch: 22/100, loss: 0.3199, acc: 0.9025, prec: 0.9029, rec :0.9024, f1: 0.9025\n",
            "VAL epoch: 22/100, loss: 0.7175, acc: 0.7694, prec: 0.8056, rec :0.7632, f1: 0.7685\n",
            "TRAIN epoch: 23/100, loss: 0.3076, acc: 0.9041, prec: 0.9048, rec :0.9036, f1: 0.9039\n",
            "VAL epoch: 23/100, loss: 0.6242, acc: 0.8048, prec: 0.8205, rec :0.8025, f1: 0.8029\n",
            "TRAIN epoch: 24/100, loss: 0.3089, acc: 0.9103, prec: 0.9104, rec :0.9100, f1: 0.9100\n",
            "VAL epoch: 24/100, loss: 0.6995, acc: 0.7836, prec: 0.7940, rec :0.7810, f1: 0.7803\n",
            "TRAIN epoch: 25/100, loss: 0.2600, acc: 0.9224, prec: 0.9228, rec :0.9220, f1: 0.9223\n",
            "VAL epoch: 25/100, loss: 0.5345, acc: 0.8317, prec: 0.8427, rec :0.8308, f1: 0.8327\n",
            "TRAIN epoch: 26/100, loss: 0.2376, acc: 0.9281, prec: 0.9288, rec :0.9280, f1: 0.9282\n",
            "VAL epoch: 26/100, loss: 0.5061, acc: 0.8510, prec: 0.8597, rec :0.8502, f1: 0.8501\n",
            "TRAIN epoch: 27/100, loss: 0.2874, acc: 0.9087, prec: 0.9083, rec :0.9079, f1: 0.9080\n",
            "VAL epoch: 27/100, loss: 0.6566, acc: 0.8015, prec: 0.8208, rec :0.8009, f1: 0.8028\n",
            "TRAIN epoch: 28/100, loss: 0.2782, acc: 0.9203, prec: 0.9215, rec :0.9205, f1: 0.9207\n",
            "VAL epoch: 28/100, loss: 0.5650, acc: 0.8317, prec: 0.8474, rec :0.8320, f1: 0.8345\n",
            "TRAIN epoch: 29/100, loss: 0.2508, acc: 0.9165, prec: 0.9167, rec :0.9163, f1: 0.9163\n",
            "VAL epoch: 29/100, loss: 0.5315, acc: 0.8202, prec: 0.8310, rec :0.8192, f1: 0.8208\n",
            "TRAIN epoch: 30/100, loss: 0.2139, acc: 0.9378, prec: 0.9378, rec :0.9370, f1: 0.9373\n",
            "VAL epoch: 30/100, loss: 0.5414, acc: 0.8356, prec: 0.8479, rec :0.8321, f1: 0.8319\n",
            "TRAIN epoch: 31/100, loss: 0.2066, acc: 0.9351, prec: 0.9360, rec :0.9348, f1: 0.9353\n",
            "VAL epoch: 31/100, loss: 0.5230, acc: 0.8330, prec: 0.8413, rec :0.8298, f1: 0.8306\n",
            "reduce learning rate on plateau to 0.0002500000118743628\n",
            "TRAIN epoch: 32/100, loss: 0.1481, acc: 0.9591, prec: 0.9594, rec :0.9588, f1: 0.9590\n",
            "VAL epoch: 32/100, loss: 0.3859, acc: 0.8844, prec: 0.8888, rec :0.8826, f1: 0.8833\n",
            "TRAIN epoch: 33/100, loss: 0.1018, acc: 0.9771, prec: 0.9770, rec :0.9767, f1: 0.9768\n",
            "VAL epoch: 33/100, loss: 0.3471, acc: 0.9004, prec: 0.9038, rec :0.8987, f1: 0.8995\n",
            "TRAIN epoch: 34/100, loss: 0.0924, acc: 0.9806, prec: 0.9810, rec :0.9802, f1: 0.9805\n",
            "VAL epoch: 34/100, loss: 0.3382, acc: 0.8998, prec: 0.9019, rec :0.8985, f1: 0.8991\n",
            "TRAIN epoch: 35/100, loss: 0.0948, acc: 0.9803, prec: 0.9807, rec :0.9802, f1: 0.9804\n",
            "VAL epoch: 35/100, loss: 0.3299, acc: 0.9075, prec: 0.9109, rec :0.9063, f1: 0.9068\n",
            "TRAIN epoch: 36/100, loss: 0.0859, acc: 0.9838, prec: 0.9840, rec :0.9834, f1: 0.9836\n",
            "VAL epoch: 36/100, loss: 0.3345, acc: 0.9049, prec: 0.9082, rec :0.9041, f1: 0.9043\n",
            "TRAIN epoch: 37/100, loss: 0.0861, acc: 0.9814, prec: 0.9811, rec :0.9809, f1: 0.9810\n",
            "VAL epoch: 37/100, loss: 0.3065, acc: 0.9139, prec: 0.9150, rec :0.9122, f1: 0.9123\n",
            "TRAIN epoch: 38/100, loss: 0.0856, acc: 0.9793, prec: 0.9793, rec :0.9789, f1: 0.9791\n",
            "VAL epoch: 38/100, loss: 0.3126, acc: 0.9146, prec: 0.9161, rec :0.9133, f1: 0.9132\n",
            "TRAIN epoch: 39/100, loss: 0.0831, acc: 0.9806, prec: 0.9809, rec :0.9804, f1: 0.9806\n",
            "VAL epoch: 39/100, loss: 0.3075, acc: 0.9165, prec: 0.9176, rec :0.9154, f1: 0.9149\n",
            "TRAIN epoch: 40/100, loss: 0.0758, acc: 0.9852, prec: 0.9853, rec :0.9847, f1: 0.9850\n",
            "VAL epoch: 40/100, loss: 0.3034, acc: 0.9178, prec: 0.9191, rec :0.9160, f1: 0.9165\n",
            "TRAIN epoch: 41/100, loss: 0.0724, acc: 0.9876, prec: 0.9877, rec :0.9873, f1: 0.9875\n",
            "VAL epoch: 41/100, loss: 0.2985, acc: 0.9159, prec: 0.9167, rec :0.9145, f1: 0.9145\n",
            "TRAIN epoch: 42/100, loss: 0.0779, acc: 0.9838, prec: 0.9838, rec :0.9838, f1: 0.9838\n",
            "VAL epoch: 42/100, loss: 0.3207, acc: 0.9107, prec: 0.9144, rec :0.9088, f1: 0.9099\n",
            "TRAIN epoch: 43/100, loss: 0.0749, acc: 0.9833, prec: 0.9837, rec :0.9832, f1: 0.9834\n",
            "VAL epoch: 43/100, loss: 0.3138, acc: 0.9146, prec: 0.9173, rec :0.9125, f1: 0.9130\n",
            "TRAIN epoch: 44/100, loss: 0.0717, acc: 0.9838, prec: 0.9840, rec :0.9834, f1: 0.9836\n",
            "VAL epoch: 44/100, loss: 0.3284, acc: 0.9082, prec: 0.9130, rec :0.9058, f1: 0.9071\n",
            "TRAIN epoch: 45/100, loss: 0.0720, acc: 0.9860, prec: 0.9860, rec :0.9859, f1: 0.9859\n",
            "VAL epoch: 45/100, loss: 0.3217, acc: 0.9082, prec: 0.9104, rec :0.9069, f1: 0.9068\n",
            "TRAIN epoch: 46/100, loss: 0.0765, acc: 0.9814, prec: 0.9818, rec :0.9811, f1: 0.9814\n",
            "VAL epoch: 46/100, loss: 0.3267, acc: 0.9030, prec: 0.9082, rec :0.9020, f1: 0.9025\n",
            "reduce learning rate on plateau to 6.25000029685907e-05\n",
            "TRAIN epoch: 47/100, loss: 0.0636, acc: 0.9903, prec: 0.9908, rec :0.9901, f1: 0.9904\n",
            "VAL epoch: 47/100, loss: 0.2965, acc: 0.9191, prec: 0.9217, rec :0.9175, f1: 0.9180\n",
            "TRAIN epoch: 48/100, loss: 0.0531, acc: 0.9933, prec: 0.9932, rec :0.9930, f1: 0.9931\n",
            "VAL epoch: 48/100, loss: 0.2893, acc: 0.9210, prec: 0.9229, rec :0.9196, f1: 0.9200\n",
            "TRAIN epoch: 49/100, loss: 0.0534, acc: 0.9900, prec: 0.9901, rec :0.9897, f1: 0.9899\n",
            "VAL epoch: 49/100, loss: 0.2855, acc: 0.9249, prec: 0.9261, rec :0.9234, f1: 0.9237\n",
            "TRAIN epoch: 50/100, loss: 0.0525, acc: 0.9943, prec: 0.9943, rec :0.9942, f1: 0.9943\n",
            "VAL epoch: 50/100, loss: 0.2806, acc: 0.9261, prec: 0.9269, rec :0.9244, f1: 0.9248\n",
            "TRAIN epoch: 51/100, loss: 0.0576, acc: 0.9927, prec: 0.9928, rec :0.9926, f1: 0.9927\n",
            "VAL epoch: 51/100, loss: 0.2812, acc: 0.9229, prec: 0.9244, rec :0.9215, f1: 0.9218\n",
            "TRAIN epoch: 52/100, loss: 0.0502, acc: 0.9938, prec: 0.9939, rec :0.9935, f1: 0.9937\n",
            "VAL epoch: 52/100, loss: 0.2768, acc: 0.9249, prec: 0.9257, rec :0.9233, f1: 0.9236\n",
            "TRAIN epoch: 53/100, loss: 0.0503, acc: 0.9933, prec: 0.9933, rec :0.9929, f1: 0.9931\n",
            "VAL epoch: 53/100, loss: 0.2765, acc: 0.9255, prec: 0.9263, rec :0.9240, f1: 0.9242\n",
            "TRAIN epoch: 54/100, loss: 0.0503, acc: 0.9927, prec: 0.9927, rec :0.9924, f1: 0.9925\n",
            "VAL epoch: 54/100, loss: 0.2786, acc: 0.9223, prec: 0.9239, rec :0.9206, f1: 0.9212\n",
            "TRAIN epoch: 55/100, loss: 0.0543, acc: 0.9898, prec: 0.9898, rec :0.9894, f1: 0.9896\n",
            "VAL epoch: 55/100, loss: 0.2748, acc: 0.9242, prec: 0.9253, rec :0.9229, f1: 0.9231\n",
            "TRAIN epoch: 56/100, loss: 0.0498, acc: 0.9922, prec: 0.9921, rec :0.9919, f1: 0.9920\n",
            "VAL epoch: 56/100, loss: 0.2756, acc: 0.9268, prec: 0.9275, rec :0.9256, f1: 0.9256\n",
            "TRAIN epoch: 57/100, loss: 0.0473, acc: 0.9933, prec: 0.9934, rec :0.9929, f1: 0.9931\n",
            "VAL epoch: 57/100, loss: 0.2730, acc: 0.9294, prec: 0.9299, rec :0.9279, f1: 0.9281\n",
            "TRAIN epoch: 58/100, loss: 0.0523, acc: 0.9914, prec: 0.9913, rec :0.9913, f1: 0.9913\n",
            "VAL epoch: 58/100, loss: 0.2755, acc: 0.9274, prec: 0.9285, rec :0.9257, f1: 0.9262\n",
            "TRAIN epoch: 59/100, loss: 0.0505, acc: 0.9925, prec: 0.9924, rec :0.9923, f1: 0.9923\n",
            "VAL epoch: 59/100, loss: 0.2710, acc: 0.9268, prec: 0.9272, rec :0.9251, f1: 0.9254\n",
            "TRAIN epoch: 60/100, loss: 0.0518, acc: 0.9925, prec: 0.9924, rec :0.9922, f1: 0.9923\n",
            "VAL epoch: 60/100, loss: 0.2745, acc: 0.9236, prec: 0.9255, rec :0.9219, f1: 0.9227\n",
            "TRAIN epoch: 61/100, loss: 0.0484, acc: 0.9930, prec: 0.9931, rec :0.9928, f1: 0.9929\n",
            "VAL epoch: 61/100, loss: 0.2721, acc: 0.9294, prec: 0.9300, rec :0.9278, f1: 0.9281\n",
            "TRAIN epoch: 62/100, loss: 0.0479, acc: 0.9933, prec: 0.9933, rec :0.9932, f1: 0.9932\n",
            "VAL epoch: 62/100, loss: 0.2726, acc: 0.9261, prec: 0.9274, rec :0.9246, f1: 0.9251\n",
            "TRAIN epoch: 63/100, loss: 0.0505, acc: 0.9908, prec: 0.9908, rec :0.9906, f1: 0.9907\n",
            "VAL epoch: 63/100, loss: 0.2743, acc: 0.9242, prec: 0.9257, rec :0.9227, f1: 0.9234\n",
            "TRAIN epoch: 64/100, loss: 0.0487, acc: 0.9933, prec: 0.9933, rec :0.9931, f1: 0.9932\n",
            "VAL epoch: 64/100, loss: 0.2703, acc: 0.9261, prec: 0.9273, rec :0.9246, f1: 0.9250\n",
            "TRAIN epoch: 65/100, loss: 0.0483, acc: 0.9927, prec: 0.9926, rec :0.9924, f1: 0.9925\n",
            "VAL epoch: 65/100, loss: 0.2699, acc: 0.9306, prec: 0.9316, rec :0.9293, f1: 0.9296\n",
            "TRAIN epoch: 66/100, loss: 0.0467, acc: 0.9922, prec: 0.9921, rec :0.9919, f1: 0.9920\n",
            "VAL epoch: 66/100, loss: 0.2681, acc: 0.9274, prec: 0.9283, rec :0.9258, f1: 0.9262\n",
            "TRAIN epoch: 67/100, loss: 0.0509, acc: 0.9906, prec: 0.9905, rec :0.9902, f1: 0.9904\n",
            "VAL epoch: 67/100, loss: 0.2690, acc: 0.9281, prec: 0.9292, rec :0.9264, f1: 0.9268\n",
            "TRAIN epoch: 68/100, loss: 0.0479, acc: 0.9916, prec: 0.9917, rec :0.9914, f1: 0.9915\n",
            "VAL epoch: 68/100, loss: 0.2699, acc: 0.9287, prec: 0.9298, rec :0.9270, f1: 0.9276\n",
            "TRAIN epoch: 69/100, loss: 0.0459, acc: 0.9941, prec: 0.9942, rec :0.9938, f1: 0.9940\n",
            "VAL epoch: 69/100, loss: 0.2682, acc: 0.9294, prec: 0.9290, rec :0.9279, f1: 0.9278\n",
            "TRAIN epoch: 70/100, loss: 0.0455, acc: 0.9938, prec: 0.9938, rec :0.9936, f1: 0.9937\n",
            "VAL epoch: 70/100, loss: 0.2684, acc: 0.9274, prec: 0.9282, rec :0.9260, f1: 0.9264\n",
            "TRAIN epoch: 71/100, loss: 0.0468, acc: 0.9935, prec: 0.9937, rec :0.9934, f1: 0.9935\n",
            "VAL epoch: 71/100, loss: 0.2678, acc: 0.9268, prec: 0.9280, rec :0.9253, f1: 0.9257\n",
            "TRAIN epoch: 72/100, loss: 0.0442, acc: 0.9952, prec: 0.9952, rec :0.9951, f1: 0.9951\n",
            "VAL epoch: 72/100, loss: 0.2686, acc: 0.9268, prec: 0.9272, rec :0.9252, f1: 0.9254\n",
            "TRAIN epoch: 73/100, loss: 0.0459, acc: 0.9925, prec: 0.9925, rec :0.9922, f1: 0.9923\n",
            "VAL epoch: 73/100, loss: 0.2688, acc: 0.9319, prec: 0.9320, rec :0.9304, f1: 0.9305\n",
            "TRAIN epoch: 74/100, loss: 0.0454, acc: 0.9938, prec: 0.9939, rec :0.9938, f1: 0.9938\n",
            "VAL epoch: 74/100, loss: 0.2716, acc: 0.9294, prec: 0.9298, rec :0.9277, f1: 0.9279\n",
            "TRAIN epoch: 75/100, loss: 0.0410, acc: 0.9962, prec: 0.9962, rec :0.9961, f1: 0.9961\n",
            "VAL epoch: 75/100, loss: 0.2700, acc: 0.9281, prec: 0.9290, rec :0.9262, f1: 0.9267\n",
            "TRAIN epoch: 76/100, loss: 0.0428, acc: 0.9938, prec: 0.9939, rec :0.9935, f1: 0.9937\n",
            "VAL epoch: 76/100, loss: 0.2698, acc: 0.9274, prec: 0.9291, rec :0.9259, f1: 0.9266\n",
            "reduce learning rate on plateau to 1.5625000742147677e-05\n",
            "TRAIN epoch: 77/100, loss: 0.0415, acc: 0.9927, prec: 0.9929, rec :0.9924, f1: 0.9926\n",
            "VAL epoch: 77/100, loss: 0.2665, acc: 0.9319, prec: 0.9323, rec :0.9305, f1: 0.9307\n",
            "TRAIN epoch: 78/100, loss: 0.0398, acc: 0.9941, prec: 0.9942, rec :0.9938, f1: 0.9940\n",
            "VAL epoch: 78/100, loss: 0.2648, acc: 0.9306, prec: 0.9313, rec :0.9290, f1: 0.9294\n",
            "TRAIN epoch: 79/100, loss: 0.0396, acc: 0.9957, prec: 0.9958, rec :0.9955, f1: 0.9956\n",
            "VAL epoch: 79/100, loss: 0.2650, acc: 0.9300, prec: 0.9309, rec :0.9285, f1: 0.9289\n",
            "TRAIN epoch: 80/100, loss: 0.0405, acc: 0.9938, prec: 0.9940, rec :0.9938, f1: 0.9939\n",
            "VAL epoch: 80/100, loss: 0.2653, acc: 0.9294, prec: 0.9304, rec :0.9279, f1: 0.9283\n",
            "TRAIN epoch: 81/100, loss: 0.0368, acc: 0.9962, prec: 0.9964, rec :0.9962, f1: 0.9963\n",
            "VAL epoch: 81/100, loss: 0.2647, acc: 0.9287, prec: 0.9295, rec :0.9273, f1: 0.9277\n",
            "TRAIN epoch: 82/100, loss: 0.0392, acc: 0.9957, prec: 0.9957, rec :0.9955, f1: 0.9956\n",
            "VAL epoch: 82/100, loss: 0.2652, acc: 0.9287, prec: 0.9297, rec :0.9270, f1: 0.9275\n",
            "TRAIN epoch: 83/100, loss: 0.0410, acc: 0.9949, prec: 0.9947, rec :0.9947, f1: 0.9947\n",
            "VAL epoch: 83/100, loss: 0.2638, acc: 0.9332, prec: 0.9335, rec :0.9315, f1: 0.9318\n",
            "TRAIN epoch: 84/100, loss: 0.0390, acc: 0.9957, prec: 0.9956, rec :0.9956, f1: 0.9956\n",
            "VAL epoch: 84/100, loss: 0.2656, acc: 0.9306, prec: 0.9316, rec :0.9290, f1: 0.9295\n",
            "TRAIN epoch: 85/100, loss: 0.0437, acc: 0.9938, prec: 0.9938, rec :0.9937, f1: 0.9937\n",
            "VAL epoch: 85/100, loss: 0.2638, acc: 0.9306, prec: 0.9313, rec :0.9290, f1: 0.9294\n",
            "TRAIN epoch: 86/100, loss: 0.0395, acc: 0.9957, prec: 0.9957, rec :0.9955, f1: 0.9956\n",
            "VAL epoch: 86/100, loss: 0.2634, acc: 0.9319, prec: 0.9324, rec :0.9304, f1: 0.9307\n",
            "TRAIN epoch: 87/100, loss: 0.0389, acc: 0.9960, prec: 0.9959, rec :0.9958, f1: 0.9958\n",
            "VAL epoch: 87/100, loss: 0.2633, acc: 0.9306, prec: 0.9313, rec :0.9292, f1: 0.9295\n",
            "TRAIN epoch: 88/100, loss: 0.0410, acc: 0.9943, prec: 0.9943, rec :0.9942, f1: 0.9942\n",
            "VAL epoch: 88/100, loss: 0.2646, acc: 0.9281, prec: 0.9294, rec :0.9266, f1: 0.9271\n",
            "TRAIN epoch: 89/100, loss: 0.0420, acc: 0.9946, prec: 0.9947, rec :0.9945, f1: 0.9945\n",
            "VAL epoch: 89/100, loss: 0.2638, acc: 0.9300, prec: 0.9308, rec :0.9284, f1: 0.9288\n",
            "TRAIN epoch: 90/100, loss: 0.0412, acc: 0.9960, prec: 0.9959, rec :0.9958, f1: 0.9958\n",
            "VAL epoch: 90/100, loss: 0.2633, acc: 0.9300, prec: 0.9305, rec :0.9284, f1: 0.9287\n",
            "TRAIN epoch: 91/100, loss: 0.0382, acc: 0.9954, prec: 0.9954, rec :0.9952, f1: 0.9953\n",
            "VAL epoch: 91/100, loss: 0.2643, acc: 0.9300, prec: 0.9312, rec :0.9286, f1: 0.9290\n",
            "TRAIN epoch: 92/100, loss: 0.0415, acc: 0.9952, prec: 0.9951, rec :0.9949, f1: 0.9950\n",
            "VAL epoch: 92/100, loss: 0.2643, acc: 0.9306, prec: 0.9314, rec :0.9291, f1: 0.9295\n",
            "TRAIN epoch: 93/100, loss: 0.0397, acc: 0.9938, prec: 0.9939, rec :0.9937, f1: 0.9938\n",
            "VAL epoch: 93/100, loss: 0.2647, acc: 0.9281, prec: 0.9290, rec :0.9266, f1: 0.9269\n",
            "TRAIN epoch: 94/100, loss: 0.0387, acc: 0.9954, prec: 0.9954, rec :0.9951, f1: 0.9953\n",
            "VAL epoch: 94/100, loss: 0.2649, acc: 0.9287, prec: 0.9298, rec :0.9270, f1: 0.9276\n",
            "TRAIN epoch: 95/100, loss: 0.0404, acc: 0.9952, prec: 0.9953, rec :0.9949, f1: 0.9951\n",
            "VAL epoch: 95/100, loss: 0.2626, acc: 0.9313, prec: 0.9316, rec :0.9297, f1: 0.9300\n",
            "TRAIN epoch: 96/100, loss: 0.0422, acc: 0.9938, prec: 0.9936, rec :0.9937, f1: 0.9937\n",
            "VAL epoch: 96/100, loss: 0.2641, acc: 0.9287, prec: 0.9299, rec :0.9271, f1: 0.9276\n",
            "TRAIN epoch: 97/100, loss: 0.0373, acc: 0.9957, prec: 0.9959, rec :0.9955, f1: 0.9956\n",
            "VAL epoch: 97/100, loss: 0.2639, acc: 0.9294, prec: 0.9305, rec :0.9279, f1: 0.9284\n",
            "TRAIN epoch: 98/100, loss: 0.0405, acc: 0.9949, prec: 0.9948, rec :0.9947, f1: 0.9947\n",
            "VAL epoch: 98/100, loss: 0.2630, acc: 0.9319, prec: 0.9324, rec :0.9304, f1: 0.9306\n",
            "TRAIN epoch: 99/100, loss: 0.0390, acc: 0.9965, prec: 0.9966, rec :0.9963, f1: 0.9964\n",
            "VAL epoch: 99/100, loss: 0.2620, acc: 0.9313, prec: 0.9320, rec :0.9297, f1: 0.9301\n",
            "TRAIN epoch: 100/100, loss: 0.0375, acc: 0.9962, prec: 0.9962, rec :0.9961, f1: 0.9961\n",
            "VAL epoch: 100/100, loss: 0.2617, acc: 0.9326, prec: 0.9332, rec :0.9311, f1: 0.9314\n",
            "Save model\n"
          ],
          "name": "stdout"
        }
      ]
    },
    {
      "cell_type": "markdown",
      "metadata": {
        "id": "Cle3034X7znM"
      },
      "source": [
        "## Evaluate authentication"
      ]
    },
    {
      "cell_type": "markdown",
      "metadata": {
        "id": "wf0muRdU6xeV"
      },
      "source": [
        "### Intra session authentication"
      ]
    },
    {
      "cell_type": "markdown",
      "metadata": {
        "id": "i3aPKyRE8NKo"
      },
      "source": [
        "#### Action dependent"
      ]
    },
    {
      "cell_type": "code",
      "metadata": {
        "colab": {
          "base_uri": "https://localhost:8080/"
        },
        "id": "O0Qyyo_o60S9",
        "outputId": "f357db3c-03dd-4dfd-8ec8-a70dcd85da3c"
      },
      "source": [
        "%run train_model_authentication.py -colab_path '{COLAB_PATH}' -path_data data/authentication/SBHAR/ -name_dataset SBHAR -name_model sbhar -generate_features true -split_gallery_probe intra_session"
      ],
      "execution_count": null,
      "outputs": [
        {
          "output_type": "stream",
          "text": [
            "../drive/My Drive/Laurea Magistrale/Tesi/data/authentication/SBHAR/\n",
            "(11139, 128, 8) total window in dataset\n",
            "21 users for train feature extraction\n",
            "9 users for auth feature extraction\n",
            "(7526, 128, 8) window for train classifier\n",
            "(3613, 128, 8) window for evaluate authentication\n",
            "Load model\n",
            "Session 0\n",
            "Gallery shape: (472, 128, 8, 1)\n",
            "Probe shape: (447, 128, 8, 1)\n",
            "Generate features\n",
            "WARNING:tensorflow:Layer res_net18single_branch is casting an input tensor from dtype float64 to the layer's dtype of float32, which is new behavior in TensorFlow 2.  The layer has dtype float32 because its dtype defaults to floatx.\n",
            "\n",
            "If you intended to run this layer in float32, you can safely ignore this warning. If in doubt, this warning is likely only an issue if you are porting a TensorFlow 1.X model to TensorFlow 2.\n",
            "\n",
            "To change all layers to have dtype float64 by default, call `tf.keras.backend.set_floatx('float64')`. To change just this layer, pass dtype='float64' to the layer constructor. If you are the author of this layer, you can disable autocasting by passing autocast=False to the base Layer constructor.\n",
            "\n",
            "Shape gallery feature(472, 64)\n",
            "Shape probe feature(447, 64)\n",
            "Save features\n",
            "Session 1\n",
            "Gallery shape: (458, 128, 8, 1)\n",
            "Probe shape: (430, 128, 8, 1)\n",
            "Generate features\n",
            "Shape gallery feature(458, 64)\n",
            "Shape probe feature(430, 64)\n",
            "Save features\n"
          ],
          "name": "stdout"
        }
      ]
    },
    {
      "cell_type": "code",
      "metadata": {
        "colab": {
          "base_uri": "https://localhost:8080/"
        },
        "id": "n4nfgoMX7P3R",
        "outputId": "42fdb577-8ab8-4fd6-a2d5-c9af1e6715cc"
      },
      "source": [
        "%run train_model_authentication.py -colab_path '{COLAB_PATH}' -path_data data/authentication/SBHAR/ -name_dataset SBHAR -name_model sbhar -compute_distance true -split_gallery_probe intra_session -action_dependent true"
      ],
      "execution_count": null,
      "outputs": [
        {
          "output_type": "stream",
          "text": [
            "../drive/My Drive/Laurea Magistrale/Tesi/data/authentication/SBHAR/\n",
            "(11139, 128, 8) total window in dataset\n",
            "21 users for train feature extraction\n",
            "9 users for auth feature extraction\n",
            "(7526, 128, 8) window for train classifier\n",
            "(3613, 128, 8) window for evaluate authentication\n",
            "Load model\n",
            "Gallery shape: (70, 64)\n",
            "Probe shape: (66, 64)\n",
            "Gallery shape: (72, 64)\n",
            "Probe shape: (68, 64)\n",
            "Gallery shape: (67, 64)\n",
            "Probe shape: (63, 64)\n",
            "Gallery shape: (88, 64)\n",
            "Probe shape: (84, 64)\n",
            "Gallery shape: (85, 64)\n",
            "Probe shape: (82, 64)\n",
            "Gallery shape: (90, 64)\n",
            "Probe shape: (84, 64)\n",
            "Gallery shape: (71, 64)\n",
            "Probe shape: (67, 64)\n",
            "Gallery shape: (67, 64)\n",
            "Probe shape: (64, 64)\n",
            "Gallery shape: (65, 64)\n",
            "Probe shape: (60, 64)\n",
            "Gallery shape: (77, 64)\n",
            "Probe shape: (73, 64)\n",
            "Gallery shape: (90, 64)\n",
            "Probe shape: (82, 64)\n",
            "Gallery shape: (88, 64)\n",
            "Probe shape: (84, 64)\n"
          ],
          "name": "stdout"
        }
      ]
    },
    {
      "cell_type": "code",
      "metadata": {
        "colab": {
          "base_uri": "https://localhost:8080/"
        },
        "id": "LdE_ecuk7eh2",
        "outputId": "8107e8fe-15f0-4dab-f3ed-4031d1d31552"
      },
      "source": [
        "%run train_model_authentication.py -colab_path '{COLAB_PATH}' -path_data data/authentication/SBHAR/ -name_dataset SBHAR -name_model sbhar -compute_eer true -split_gallery_probe intra_session -action_dependent true"
      ],
      "execution_count": null,
      "outputs": [
        {
          "output_type": "stream",
          "text": [
            "../drive/My Drive/Laurea Magistrale/Tesi/data/authentication/SBHAR/\n",
            "(11139, 128, 8) total window in dataset\n",
            "21 users for train feature extraction\n",
            "9 users for auth feature extraction\n",
            "(7526, 128, 8) window for train classifier\n",
            "(3613, 128, 8) window for evaluate authentication\n",
            "Load model\n",
            "Session 0\n",
            "Act 0 EER: 3.855 Trhesh: 2.238\n",
            "Act 1 EER: 13.103 Trhesh: 2.978\n",
            "Act 2 EER: 23.202 Trhesh: 3.158\n",
            "Act 3 EER: 38.907 Trhesh: 4.138\n",
            "Act 4 EER: 25.826 Trhesh: 2.703\n",
            "Act 5 EER: 23.926 Trhesh: 3.686\n",
            "Session 1\n",
            "Act 0 EER: 5.784 Trhesh: 2.215\n",
            "Act 1 EER: 13.545 Trhesh: 2.978\n",
            "Act 2 EER: 21.678 Trhesh: 2.994\n",
            "Act 3 EER: 41.062 Trhesh: 3.752\n",
            "Act 4 EER: 27.881 Trhesh: 2.346\n",
            "Act 5 EER: 25.776 Trhesh: 4.005\n"
          ],
          "name": "stdout"
        }
      ]
    },
    {
      "cell_type": "markdown",
      "metadata": {
        "id": "6n6J9MFc8RWx"
      },
      "source": [
        "#### Action independent"
      ]
    },
    {
      "cell_type": "code",
      "metadata": {
        "id": "NMcx6oXH8RWx"
      },
      "source": [
        "%run train_model_authentication.py -colab_path '{COLAB_PATH}' -path_data data/authentication/SBHAR/ -name_dataset SBHAR -name_model sbhar -generate_features true -split_gallery_probe intra_session"
      ],
      "execution_count": null,
      "outputs": []
    },
    {
      "cell_type": "code",
      "metadata": {
        "colab": {
          "base_uri": "https://localhost:8080/"
        },
        "id": "j7CIl_5_8RWy",
        "outputId": "ce17600f-35b5-44a2-908e-3d33763f33ca"
      },
      "source": [
        "%run train_model_authentication.py -colab_path '{COLAB_PATH}' -path_data data/authentication/SBHAR/ -name_dataset SBHAR -name_model sbhar -compute_distance true -split_gallery_probe intra_session -action_dependent false"
      ],
      "execution_count": null,
      "outputs": [
        {
          "output_type": "stream",
          "text": [
            "../drive/My Drive/Laurea Magistrale/Tesi/data/authentication/SBHAR/\n",
            "(11139, 128, 8) total window in dataset\n",
            "21 users for train feature extraction\n",
            "9 users for auth feature extraction\n",
            "(7526, 128, 8) window for train classifier\n",
            "(3613, 128, 8) window for evaluate authentication\n",
            "Load model\n"
          ],
          "name": "stdout"
        }
      ]
    },
    {
      "cell_type": "code",
      "metadata": {
        "colab": {
          "base_uri": "https://localhost:8080/"
        },
        "id": "TAjhGFsg8RWy",
        "outputId": "48cec15a-6f58-4e94-9f17-73180e7de7f3"
      },
      "source": [
        "%run train_model_authentication.py -colab_path '{COLAB_PATH}' -path_data data/authentication/SBHAR/ -name_dataset SBHAR -name_model sbhar -compute_eer true -split_gallery_probe intra_session -action_dependent false"
      ],
      "execution_count": null,
      "outputs": [
        {
          "output_type": "stream",
          "text": [
            "../drive/My Drive/Laurea Magistrale/Tesi/data/authentication/SBHAR/\n",
            "(11139, 128, 8) total window in dataset\n",
            "21 users for train feature extraction\n",
            "9 users for auth feature extraction\n",
            "(7526, 128, 8) window for train classifier\n",
            "(3613, 128, 8) window for evaluate authentication\n",
            "Load model\n",
            "Session 0\n",
            "EER: 48.116\n",
            "Session 1\n",
            "EER: 48.042\n"
          ],
          "name": "stdout"
        }
      ]
    },
    {
      "cell_type": "markdown",
      "metadata": {
        "id": "OB66JDmN8xt7"
      },
      "source": [
        "### Extra session authentication"
      ]
    },
    {
      "cell_type": "markdown",
      "metadata": {
        "id": "SnbLoKyD8xt7"
      },
      "source": [
        "#### Action dependent"
      ]
    },
    {
      "cell_type": "code",
      "metadata": {
        "colab": {
          "base_uri": "https://localhost:8080/"
        },
        "id": "lfhgLLYE8xt8",
        "outputId": "e4300a95-ef50-41eb-ebf8-54241045324d"
      },
      "source": [
        "%run train_model_authentication.py -colab_path '{COLAB_PATH}' -path_data data/authentication/SBHAR/ -name_dataset SBHAR -name_model sbhar -generate_features true -split_gallery_probe extra_session"
      ],
      "execution_count": null,
      "outputs": [
        {
          "output_type": "stream",
          "text": [
            "../drive/My Drive/Laurea Magistrale/Tesi/data/authentication/SBHAR/\n",
            "(11139, 128, 8) total window in dataset\n",
            "21 users for train feature extraction\n",
            "9 users for auth feature extraction\n",
            "(7526, 128, 8) window for train classifier\n",
            "(3613, 128, 8) window for evaluate authentication\n",
            "Load model\n",
            "Gallery shape: (919, 128, 8, 1)\n",
            "Probe shape: (888, 128, 8, 1)\n",
            "Generate features\n",
            "WARNING:tensorflow:Layer res_net18single_branch_10 is casting an input tensor from dtype float64 to the layer's dtype of float32, which is new behavior in TensorFlow 2.  The layer has dtype float32 because its dtype defaults to floatx.\n",
            "\n",
            "If you intended to run this layer in float32, you can safely ignore this warning. If in doubt, this warning is likely only an issue if you are porting a TensorFlow 1.X model to TensorFlow 2.\n",
            "\n",
            "To change all layers to have dtype float64 by default, call `tf.keras.backend.set_floatx('float64')`. To change just this layer, pass dtype='float64' to the layer constructor. If you are the author of this layer, you can disable autocasting by passing autocast=False to the base Layer constructor.\n",
            "\n",
            "Shape gallery feature(919, 64)\n",
            "Shape probe feature(888, 64)\n",
            "Save features\n"
          ],
          "name": "stdout"
        }
      ]
    },
    {
      "cell_type": "code",
      "metadata": {
        "colab": {
          "base_uri": "https://localhost:8080/"
        },
        "id": "BBCzE3EH8xt8",
        "outputId": "b187a3bf-8c13-41fa-c00b-9df27c8a517d"
      },
      "source": [
        "%run train_model_authentication.py -colab_path '{COLAB_PATH}' -path_data data/authentication/SBHAR/ -name_dataset SBHAR -name_model sbhar -compute_distance true -split_gallery_probe extra_session -action_dependent true"
      ],
      "execution_count": null,
      "outputs": [
        {
          "output_type": "stream",
          "text": [
            "../drive/My Drive/Laurea Magistrale/Tesi/data/authentication/SBHAR/\n",
            "(11139, 128, 8) total window in dataset\n",
            "21 users for train feature extraction\n",
            "9 users for auth feature extraction\n",
            "(7526, 128, 8) window for train classifier\n",
            "(3613, 128, 8) window for evaluate authentication\n",
            "Load model\n",
            "Gallery shape: (136, 64)\n",
            "Probe shape: (138, 64)\n",
            "Gallery shape: (140, 64)\n",
            "Probe shape: (131, 64)\n",
            "Gallery shape: (130, 64)\n",
            "Probe shape: (125, 64)\n",
            "Gallery shape: (172, 64)\n",
            "Probe shape: (150, 64)\n",
            "Gallery shape: (167, 64)\n",
            "Probe shape: (172, 64)\n",
            "Gallery shape: (174, 64)\n",
            "Probe shape: (172, 64)\n"
          ],
          "name": "stdout"
        }
      ]
    },
    {
      "cell_type": "code",
      "metadata": {
        "colab": {
          "base_uri": "https://localhost:8080/"
        },
        "id": "CQ5kJDOj8xt8",
        "outputId": "73431ae9-0421-48ea-e8b8-258e0547e498"
      },
      "source": [
        "%run train_model_authentication.py -colab_path '{COLAB_PATH}' -path_data data/authentication/SBHAR/ -name_dataset SBHAR -name_model sbhar -compute_eer true -split_gallery_probe extra_session -action_dependent true"
      ],
      "execution_count": null,
      "outputs": [
        {
          "output_type": "stream",
          "text": [
            "../drive/My Drive/Laurea Magistrale/Tesi/data/authentication/SBHAR/\n",
            "(11139, 128, 8) total window in dataset\n",
            "21 users for train feature extraction\n",
            "9 users for auth feature extraction\n",
            "(7526, 128, 8) window for train classifier\n",
            "(3613, 128, 8) window for evaluate authentication\n",
            "Load model\n",
            "Act 0 EER: 29.056 Trhesh: 1.783\n",
            "Act 1 EER: 35.567 Trhesh: 1.948\n",
            "Act 2 EER: 38.973 Trhesh: 2.242\n",
            "Act 3 EER: 43.582 Trhesh: 1.381\n",
            "Act 4 EER: 42.008 Trhesh: 0.835\n",
            "Act 5 EER: 28.300 Trhesh: 1.507\n"
          ],
          "name": "stdout"
        }
      ]
    },
    {
      "cell_type": "markdown",
      "metadata": {
        "id": "0ZzrmGA48xt8"
      },
      "source": [
        "#### Action independent"
      ]
    },
    {
      "cell_type": "code",
      "metadata": {
        "colab": {
          "base_uri": "https://localhost:8080/"
        },
        "id": "6ybKSUe78xt8",
        "outputId": "62365462-6d89-42aa-9afd-2963ee9428c9"
      },
      "source": [
        "%run train_model_authentication.py -colab_path '{COLAB_PATH}' -path_data data/authentication/SBHAR/ -name_dataset SBHAR -name_model sbhar -generate_features true -split_gallery_probe extra_session"
      ],
      "execution_count": null,
      "outputs": [
        {
          "output_type": "stream",
          "text": [
            "../drive/My Drive/Laurea Magistrale/Tesi/data/authentication/SBHAR/\n",
            "(11139, 128, 8) total window in dataset\n",
            "21 users for train feature extraction\n",
            "9 users for auth feature extraction\n",
            "(7526, 128, 8) window for train classifier\n",
            "(3613, 128, 8) window for evaluate authentication\n",
            "Load model\n",
            "Gallery shape: (919, 128, 8, 1)\n",
            "Probe shape: (888, 128, 8, 1)\n",
            "Generate features\n",
            "WARNING:tensorflow:Layer res_net18single_branch_13 is casting an input tensor from dtype float64 to the layer's dtype of float32, which is new behavior in TensorFlow 2.  The layer has dtype float32 because its dtype defaults to floatx.\n",
            "\n",
            "If you intended to run this layer in float32, you can safely ignore this warning. If in doubt, this warning is likely only an issue if you are porting a TensorFlow 1.X model to TensorFlow 2.\n",
            "\n",
            "To change all layers to have dtype float64 by default, call `tf.keras.backend.set_floatx('float64')`. To change just this layer, pass dtype='float64' to the layer constructor. If you are the author of this layer, you can disable autocasting by passing autocast=False to the base Layer constructor.\n",
            "\n",
            "Shape gallery feature(919, 64)\n",
            "Shape probe feature(888, 64)\n",
            "Save features\n"
          ],
          "name": "stdout"
        }
      ]
    },
    {
      "cell_type": "code",
      "metadata": {
        "colab": {
          "base_uri": "https://localhost:8080/"
        },
        "id": "E722pL8H8xt8",
        "outputId": "aa0fd2ff-7e98-42f2-ca05-d3ac8a4905a4"
      },
      "source": [
        "%run train_model_authentication.py -colab_path '{COLAB_PATH}' -path_data data/authentication/SBHAR/ -name_dataset SBHAR -name_model sbhar -compute_distance true -split_gallery_probe extra_session -action_dependent false"
      ],
      "execution_count": null,
      "outputs": [
        {
          "output_type": "stream",
          "text": [
            "../drive/My Drive/Laurea Magistrale/Tesi/data/authentication/SBHAR/\n",
            "(11139, 128, 8) total window in dataset\n",
            "21 users for train feature extraction\n",
            "9 users for auth feature extraction\n",
            "(7526, 128, 8) window for train classifier\n",
            "(3613, 128, 8) window for evaluate authentication\n",
            "Load model\n"
          ],
          "name": "stdout"
        }
      ]
    },
    {
      "cell_type": "code",
      "metadata": {
        "colab": {
          "base_uri": "https://localhost:8080/"
        },
        "id": "CpmGAP6h8xt8",
        "outputId": "64687f5f-8fd7-4e0f-c4df-e958e7e86d91"
      },
      "source": [
        "%run train_model_authentication.py -colab_path '{COLAB_PATH}' -path_data data/authentication/SBHAR/ -name_dataset SBHAR -name_model sbhar -compute_eer true -split_gallery_probe extra_session -action_dependent false"
      ],
      "execution_count": null,
      "outputs": [
        {
          "output_type": "stream",
          "text": [
            "../drive/My Drive/Laurea Magistrale/Tesi/data/authentication/SBHAR/\n",
            "(11139, 128, 8) total window in dataset\n",
            "21 users for train feature extraction\n",
            "9 users for auth feature extraction\n",
            "(7526, 128, 8) window for train classifier\n",
            "(3613, 128, 8) window for evaluate authentication\n",
            "Load model\n",
            "EER: 48.948\n"
          ],
          "name": "stdout"
        }
      ]
    },
    {
      "cell_type": "markdown",
      "metadata": {
        "id": "4pDnDWw6QG1N"
      },
      "source": [
        "# REALDISP LT"
      ]
    },
    {
      "cell_type": "markdown",
      "metadata": {
        "id": "A6Bew6QZQG1N"
      },
      "source": [
        "## Train classifier"
      ]
    },
    {
      "cell_type": "code",
      "metadata": {
        "colab": {
          "base_uri": "https://localhost:8080/"
        },
        "id": "r8m0y01IQG1N",
        "outputId": "32f0a724-6d60-4e47-fffb-4ce5af6f94e3"
      },
      "source": [
        "%run train_model_authentication.py -colab_path '{COLAB_PATH}' -path_data data/authentication/REALDISP_LT/ -name_dataset REALDISP_LT -name_model realdisp_lt -train_classifier true"
      ],
      "execution_count": null,
      "outputs": [
        {
          "output_type": "stream",
          "text": [
            "../drive/My Drive/Laurea Magistrale/Tesi/data/authentication/REALDISP_LT/\n",
            "(10365, 128, 12) total window in dataset\n",
            "12 users for train feature extraction\n",
            "5 users for auth feature extraction\n",
            "(7071, 128, 12) window for train classifier\n",
            "(3294, 128, 12) window for evaluate authentication\n",
            "Train window before delete overlap sequence: 5512\n",
            "Train window after delete overlap sequence: 3303\n"
          ],
          "name": "stdout"
        },
        {
          "output_type": "stream",
          "text": [
            "WARNING:tensorflow:Layer res_net18single_branch is casting an input tensor from dtype float64 to the layer's dtype of float32, which is new behavior in TensorFlow 2.  The layer has dtype float32 because its dtype defaults to floatx.\n",
            "\n",
            "If you intended to run this layer in float32, you can safely ignore this warning. If in doubt, this warning is likely only an issue if you are porting a TensorFlow 1.X model to TensorFlow 2.\n",
            "\n",
            "To change all layers to have dtype float64 by default, call `tf.keras.backend.set_floatx('float64')`. To change just this layer, pass dtype='float64' to the layer constructor. If you are the author of this layer, you can disable autocasting by passing autocast=False to the base Layer constructor.\n",
            "\n"
          ],
          "name": "stderr"
        },
        {
          "output_type": "stream",
          "text": [
            "Model: \"res_net18single_branch\"\n",
            "_________________________________________________________________\n",
            "Layer (type)                 Output Shape              Param #   \n",
            "=================================================================\n",
            "conv2d (Conv2D)              multiple                  192       \n",
            "_________________________________________________________________\n",
            "batch_normalization (BatchNo multiple                  128       \n",
            "_________________________________________________________________\n",
            "max_pooling2d (MaxPooling2D) multiple                  0         \n",
            "_________________________________________________________________\n",
            "residual_block_1 (Sequential (None, 61, 12, 32)        39872     \n",
            "_________________________________________________________________\n",
            "residual_block_2 (Sequential (None, 61, 12, 64)        137088    \n",
            "_________________________________________________________________\n",
            "global_average_pooling2d (Gl multiple                  0         \n",
            "_________________________________________________________________\n",
            "fc_user (Dense)              multiple                  780       \n",
            "=================================================================\n",
            "Total params: 178,060\n",
            "Trainable params: 176,844\n",
            "Non-trainable params: 1,216\n",
            "_________________________________________________________________\n"
          ],
          "name": "stdout"
        },
        {
          "output_type": "stream",
          "text": [
            "/content/User_Identify_Inertial_Sensor/util/tf_metrics.py:29: RuntimeWarning: invalid value encountered in true_divide\n",
            "  precision = tp / np.sum(confusion_matrix[:,user])\n"
          ],
          "name": "stderr"
        },
        {
          "output_type": "stream",
          "text": [
            "TRAIN epoch: 1/100, loss: 2.0424, acc: 0.2841, prec: nan, rec :0.2439, f1: nan\n"
          ],
          "name": "stdout"
        },
        {
          "output_type": "stream",
          "text": [
            "/content/User_Identify_Inertial_Sensor/util/tf_metrics.py:31: RuntimeWarning: invalid value encountered in double_scalars\n",
            "  f1 = 2 * precision * recall / (precision + recall)\n"
          ],
          "name": "stderr"
        },
        {
          "output_type": "stream",
          "text": [
            "VAL epoch: 1/100, loss: 2.3250, acc: 0.1988, prec: nan, rec :0.1662, f1: nan\n",
            "TRAIN epoch: 2/100, loss: 1.2925, acc: 0.6044, prec: 0.6361, rec :0.5552, f1: 0.5576\n",
            "VAL epoch: 2/100, loss: 2.1534, acc: 0.2264, prec: nan, rec :0.2189, f1: nan\n",
            "TRAIN epoch: 3/100, loss: 0.8349, acc: 0.7763, prec: 0.7857, rec :0.7640, f1: 0.7713\n",
            "VAL epoch: 3/100, loss: 2.2517, acc: 0.2771, prec: nan, rec :0.2838, f1: nan\n",
            "TRAIN epoch: 4/100, loss: 0.5268, acc: 0.8784, prec: 0.8846, rec :0.8755, f1: 0.8791\n",
            "VAL epoch: 4/100, loss: 2.5766, acc: 0.1674, prec: nan, rec :0.1659, f1: nan\n",
            "TRAIN epoch: 5/100, loss: 0.3470, acc: 0.9237, prec: 0.9265, rec :0.9243, f1: 0.9252\n",
            "VAL epoch: 5/100, loss: 1.8480, acc: 0.3695, prec: nan, rec :0.3546, f1: nan\n",
            "TRAIN epoch: 6/100, loss: 0.2694, acc: 0.9447, prec: 0.9458, rec :0.9475, f1: 0.9466\n",
            "VAL epoch: 6/100, loss: 1.5861, acc: 0.4086, prec: nan, rec :0.3795, f1: nan\n",
            "TRAIN epoch: 7/100, loss: 0.2247, acc: 0.9484, prec: 0.9525, rec :0.9495, f1: 0.9509\n",
            "VAL epoch: 7/100, loss: 1.4222, acc: 0.4913, prec: nan, rec :0.5309, f1: nan\n",
            "TRAIN epoch: 8/100, loss: 0.1571, acc: 0.9641, prec: 0.9657, rec :0.9650, f1: 0.9654\n",
            "VAL epoch: 8/100, loss: 1.9022, acc: 0.4580, prec: nan, rec :0.4151, f1: nan\n",
            "TRAIN epoch: 9/100, loss: 0.1235, acc: 0.9750, prec: 0.9755, rec :0.9739, f1: 0.9746\n",
            "VAL epoch: 9/100, loss: 1.4515, acc: 0.5715, prec: nan, rec :0.5360, f1: nan\n",
            "TRAIN epoch: 10/100, loss: 0.0843, acc: 0.9859, prec: 0.9861, rec :0.9864, f1: 0.9863\n",
            "VAL epoch: 10/100, loss: 1.1204, acc: 0.6216, prec: 0.8123, rec :0.6056, f1: 0.6260\n",
            "TRAIN epoch: 11/100, loss: 0.0809, acc: 0.9856, prec: 0.9862, rec :0.9854, f1: 0.9858\n",
            "VAL epoch: 11/100, loss: 1.1563, acc: 0.6543, prec: 0.8275, rec :0.6600, f1: 0.6502\n",
            "TRAIN epoch: 12/100, loss: 0.0718, acc: 0.9891, prec: 0.9879, rec :0.9886, f1: 0.9882\n",
            "VAL epoch: 12/100, loss: 0.4494, acc: 0.8557, prec: 0.8975, rec :0.8527, f1: 0.8544\n",
            "TRAIN epoch: 13/100, loss: 0.0979, acc: 0.9766, prec: 0.9779, rec :0.9770, f1: 0.9774\n",
            "VAL epoch: 13/100, loss: 0.4401, acc: 0.8364, prec: 0.8824, rec :0.8517, f1: 0.8432\n",
            "TRAIN epoch: 14/100, loss: 0.1057, acc: 0.9753, prec: 0.9759, rec :0.9763, f1: 0.9761\n",
            "VAL epoch: 14/100, loss: 0.3267, acc: 0.8833, prec: 0.9208, rec :0.8868, f1: 0.8869\n",
            "TRAIN epoch: 15/100, loss: 0.0544, acc: 0.9903, prec: 0.9887, rec :0.9907, f1: 0.9897\n",
            "VAL epoch: 15/100, loss: 0.2042, acc: 0.9378, prec: 0.9480, rec :0.9405, f1: 0.9412\n",
            "TRAIN epoch: 16/100, loss: 0.0572, acc: 0.9872, prec: 0.9874, rec :0.9874, f1: 0.9874\n",
            "VAL epoch: 16/100, loss: 0.0828, acc: 0.9820, prec: 0.9825, rec :0.9844, f1: 0.9833\n",
            "TRAIN epoch: 17/100, loss: 0.0446, acc: 0.9919, prec: 0.9922, rec :0.9922, f1: 0.9922\n",
            "VAL epoch: 17/100, loss: 0.2041, acc: 0.9326, prec: 0.9462, rec :0.9404, f1: 0.9395\n",
            "TRAIN epoch: 18/100, loss: 0.0392, acc: 0.9928, prec: 0.9933, rec :0.9928, f1: 0.9930\n",
            "VAL epoch: 18/100, loss: 0.1152, acc: 0.9628, prec: 0.9699, rec :0.9643, f1: 0.9657\n",
            "TRAIN epoch: 19/100, loss: 0.0446, acc: 0.9894, prec: 0.9885, rec :0.9899, f1: 0.9892\n",
            "VAL epoch: 19/100, loss: 0.1412, acc: 0.9564, prec: 0.9623, rec :0.9596, f1: 0.9600\n",
            "TRAIN epoch: 20/100, loss: 0.0315, acc: 0.9947, prec: 0.9950, rec :0.9944, f1: 0.9947\n",
            "VAL epoch: 20/100, loss: 0.1671, acc: 0.9416, prec: 0.9547, rec :0.9503, f1: 0.9471\n",
            "TRAIN epoch: 21/100, loss: 0.0228, acc: 0.9975, prec: 0.9975, rec :0.9975, f1: 0.9975\n",
            "VAL epoch: 21/100, loss: 0.0581, acc: 0.9814, prec: 0.9830, rec :0.9829, f1: 0.9827\n",
            "TRAIN epoch: 22/100, loss: 0.0166, acc: 0.9984, prec: 0.9984, rec :0.9984, f1: 0.9984\n",
            "VAL epoch: 22/100, loss: 0.0963, acc: 0.9699, prec: 0.9750, rec :0.9709, f1: 0.9711\n",
            "TRAIN epoch: 23/100, loss: 0.0223, acc: 0.9966, prec: 0.9966, rec :0.9965, f1: 0.9966\n",
            "VAL epoch: 23/100, loss: 0.0694, acc: 0.9782, prec: 0.9820, rec :0.9790, f1: 0.9793\n",
            "TRAIN epoch: 24/100, loss: 0.0321, acc: 0.9950, prec: 0.9948, rec :0.9945, f1: 0.9946\n",
            "VAL epoch: 24/100, loss: 0.0817, acc: 0.9775, prec: 0.9784, rec :0.9796, f1: 0.9783\n",
            "TRAIN epoch: 25/100, loss: 0.0346, acc: 0.9934, prec: 0.9935, rec :0.9929, f1: 0.9932\n",
            "VAL epoch: 25/100, loss: 0.0489, acc: 0.9852, prec: 0.9876, rec :0.9865, f1: 0.9865\n",
            "TRAIN epoch: 26/100, loss: 0.0517, acc: 0.9912, prec: 0.9921, rec :0.9920, f1: 0.9920\n",
            "VAL epoch: 26/100, loss: 0.0665, acc: 0.9788, prec: 0.9820, rec :0.9785, f1: 0.9793\n",
            "TRAIN epoch: 27/100, loss: 0.0267, acc: 0.9947, prec: 0.9947, rec :0.9947, f1: 0.9947\n",
            "VAL epoch: 27/100, loss: 0.0561, acc: 0.9808, prec: 0.9842, rec :0.9796, f1: 0.9812\n",
            "TRAIN epoch: 28/100, loss: 0.0151, acc: 0.9981, prec: 0.9981, rec :0.9979, f1: 0.9980\n",
            "VAL epoch: 28/100, loss: 0.0306, acc: 0.9929, prec: 0.9925, rec :0.9932, f1: 0.9928\n",
            "TRAIN epoch: 29/100, loss: 0.0089, acc: 0.9991, prec: 0.9990, rec :0.9989, f1: 0.9989\n",
            "VAL epoch: 29/100, loss: 0.0178, acc: 0.9968, prec: 0.9964, rec :0.9971, f1: 0.9967\n",
            "TRAIN epoch: 30/100, loss: 0.0080, acc: 0.9994, prec: 0.9993, rec :0.9993, f1: 0.9993\n",
            "VAL epoch: 30/100, loss: 0.0180, acc: 0.9962, prec: 0.9961, rec :0.9959, f1: 0.9960\n",
            "TRAIN epoch: 31/100, loss: 0.0137, acc: 0.9972, prec: 0.9973, rec :0.9973, f1: 0.9973\n",
            "VAL epoch: 31/100, loss: 0.0441, acc: 0.9885, prec: 0.9886, rec :0.9897, f1: 0.9890\n",
            "TRAIN epoch: 32/100, loss: 0.0143, acc: 0.9969, prec: 0.9968, rec :0.9964, f1: 0.9966\n",
            "VAL epoch: 32/100, loss: 0.0428, acc: 0.9904, prec: 0.9917, rec :0.9915, f1: 0.9914\n",
            "TRAIN epoch: 33/100, loss: 0.0286, acc: 0.9934, prec: 0.9937, rec :0.9938, f1: 0.9937\n",
            "VAL epoch: 33/100, loss: 0.0382, acc: 0.9904, prec: 0.9912, rec :0.9909, f1: 0.9910\n",
            "TRAIN epoch: 34/100, loss: 0.0297, acc: 0.9909, prec: 0.9916, rec :0.9912, f1: 0.9914\n",
            "VAL epoch: 34/100, loss: 0.0334, acc: 0.9904, prec: 0.9907, rec :0.9910, f1: 0.9907\n",
            "reduce learning rate on plateau to 0.0002500000118743628\n",
            "TRAIN epoch: 35/100, loss: 0.0123, acc: 0.9991, prec: 0.9992, rec :0.9989, f1: 0.9990\n",
            "VAL epoch: 35/100, loss: 0.0245, acc: 0.9923, prec: 0.9914, rec :0.9932, f1: 0.9922\n",
            "early stop\n",
            "Save model\n"
          ],
          "name": "stdout"
        }
      ]
    },
    {
      "cell_type": "markdown",
      "metadata": {
        "id": "maVF9Lc0QG1O"
      },
      "source": [
        "## Evaluate authentication"
      ]
    },
    {
      "cell_type": "markdown",
      "metadata": {
        "id": "Zv9DrAnTQG1O"
      },
      "source": [
        "### Random authentication"
      ]
    },
    {
      "cell_type": "markdown",
      "metadata": {
        "id": "TYUAFLR8QG1O"
      },
      "source": [
        "#### Action dependent"
      ]
    },
    {
      "cell_type": "code",
      "metadata": {
        "colab": {
          "base_uri": "https://localhost:8080/"
        },
        "id": "yJbqX960QG1O",
        "outputId": "a3bf662e-4431-4f69-aa1c-a24e2b27106f"
      },
      "source": [
        "%run train_model_authentication.py -colab_path '{COLAB_PATH}' -path_data data/authentication/REALDISP_LT/ -name_dataset REALDISP_LT -name_model realdisp_lt -generate_features true -split_gallery_probe random"
      ],
      "execution_count": null,
      "outputs": [
        {
          "output_type": "stream",
          "text": [
            "../drive/My Drive/Laurea Magistrale/Tesi/data/authentication/REALDISP_LT/\n",
            "(10365, 128, 12) total window in dataset\n",
            "12 users for train feature extraction\n",
            "5 users for auth feature extraction\n",
            "(7071, 128, 12) window for train classifier\n",
            "(3294, 128, 12) window for evaluate authentication\n",
            "Load model\n"
          ],
          "name": "stdout"
        },
        {
          "output_type": "stream",
          "text": [
            "WARNING:tensorflow:Layer res_net18single_branch_1 is casting an input tensor from dtype float64 to the layer's dtype of float32, which is new behavior in TensorFlow 2.  The layer has dtype float32 because its dtype defaults to floatx.\n",
            "\n",
            "If you intended to run this layer in float32, you can safely ignore this warning. If in doubt, this warning is likely only an issue if you are porting a TensorFlow 1.X model to TensorFlow 2.\n",
            "\n",
            "To change all layers to have dtype float64 by default, call `tf.keras.backend.set_floatx('float64')`. To change just this layer, pass dtype='float64' to the layer constructor. If you are the author of this layer, you can disable autocasting by passing autocast=False to the base Layer constructor.\n",
            "\n"
          ],
          "name": "stderr"
        },
        {
          "output_type": "stream",
          "text": [
            "Gallery shape: (865, 128, 12, 1)\n",
            "Probe shape: (782, 128, 12, 1)\n",
            "Generate features\n",
            "Shape gallery feature(865, 64)\n",
            "Shape probe feature(782, 64)\n",
            "Save features\n"
          ],
          "name": "stdout"
        }
      ]
    },
    {
      "cell_type": "code",
      "metadata": {
        "colab": {
          "base_uri": "https://localhost:8080/"
        },
        "id": "6kWYJ91PQG1O",
        "outputId": "4acbc737-33a3-4720-e229-f78cc6e0cdb9"
      },
      "source": [
        "%run train_model_authentication.py -colab_path '{COLAB_PATH}' -path_data data/authentication/REALDISP_LT/ -name_dataset REALDISP_LT -name_model realdisp_lt -compute_distance true -split_gallery_probe random -action_dependent true"
      ],
      "execution_count": null,
      "outputs": [
        {
          "output_type": "stream",
          "text": [
            "../drive/My Drive/Laurea Magistrale/Tesi/data/authentication/REALDISP_LT/\n",
            "(10365, 128, 12) total window in dataset\n",
            "12 users for train feature extraction\n",
            "5 users for auth feature extraction\n",
            "(7071, 128, 12) window for train classifier\n",
            "(3294, 128, 12) window for evaluate authentication\n",
            "Load model\n",
            "Gallery shape: (65, 64)\n",
            "Probe shape: (60, 64)\n",
            "Gallery shape: (62, 64)\n",
            "Probe shape: (61, 64)\n",
            "Gallery shape: (55, 64)\n",
            "Probe shape: (50, 64)\n",
            "Gallery shape: (10, 64)\n",
            "Probe shape: (7, 64)\n",
            "Gallery shape: (19, 64)\n",
            "Probe shape: (15, 64)\n",
            "Gallery shape: (17, 64)\n",
            "Probe shape: (16, 64)\n",
            "Gallery shape: (20, 64)\n",
            "Probe shape: (16, 64)\n",
            "Gallery shape: (12, 64)\n",
            "Probe shape: (8, 64)\n",
            "Gallery shape: (40, 64)\n",
            "Probe shape: (36, 64)\n",
            "Gallery shape: (31, 64)\n",
            "Probe shape: (28, 64)\n",
            "Gallery shape: (32, 64)\n",
            "Probe shape: (30, 64)\n",
            "Gallery shape: (26, 64)\n",
            "Probe shape: (23, 64)\n",
            "Gallery shape: (33, 64)\n",
            "Probe shape: (31, 64)\n",
            "Gallery shape: (26, 64)\n",
            "Probe shape: (25, 64)\n",
            "Gallery shape: (24, 64)\n",
            "Probe shape: (22, 64)\n",
            "Gallery shape: (23, 64)\n",
            "Probe shape: (21, 64)\n",
            "Gallery shape: (14, 64)\n",
            "Probe shape: (11, 64)\n",
            "Gallery shape: (20, 64)\n",
            "Probe shape: (16, 64)\n",
            "Gallery shape: (26, 64)\n",
            "Probe shape: (22, 64)\n",
            "Gallery shape: (23, 64)\n",
            "Probe shape: (23, 64)\n",
            "Gallery shape: (21, 64)\n",
            "Probe shape: (19, 64)\n",
            "Gallery shape: (23, 64)\n",
            "Probe shape: (22, 64)\n",
            "Gallery shape: (19, 64)\n",
            "Probe shape: (16, 64)\n",
            "Gallery shape: (11, 64)\n",
            "Probe shape: (9, 64)\n",
            "Gallery shape: (15, 64)\n",
            "Probe shape: (14, 64)\n",
            "Gallery shape: (5, 64)\n",
            "Probe shape: (5, 64)\n",
            "Gallery shape: (8, 64)\n",
            "Probe shape: (5, 64)\n",
            "Gallery shape: (27, 64)\n",
            "Probe shape: (25, 64)\n",
            "Gallery shape: (36, 64)\n",
            "Probe shape: (33, 64)\n",
            "Gallery shape: (14, 64)\n",
            "Probe shape: (12, 64)\n",
            "Gallery shape: (30, 64)\n",
            "Probe shape: (27, 64)\n",
            "Gallery shape: (41, 64)\n",
            "Probe shape: (40, 64)\n",
            "Gallery shape: (37, 64)\n",
            "Probe shape: (34, 64)\n"
          ],
          "name": "stdout"
        }
      ]
    },
    {
      "cell_type": "code",
      "metadata": {
        "colab": {
          "base_uri": "https://localhost:8080/"
        },
        "id": "MRfmSA53QG1O",
        "outputId": "dcb24829-b139-4e64-ade9-6aefdbcbb727"
      },
      "source": [
        "%run train_model_authentication.py -colab_path '{COLAB_PATH}' -path_data data/authentication/REALDISP_LT/ -name_dataset REALDISP_LT -name_model realdisp_lt -compute_eer true -split_gallery_probe random -action_dependent true"
      ],
      "execution_count": null,
      "outputs": [
        {
          "output_type": "stream",
          "text": [
            "../drive/My Drive/Laurea Magistrale/Tesi/data/authentication/REALDISP_LT/\n",
            "(10365, 128, 12) total window in dataset\n",
            "12 users for train feature extraction\n",
            "5 users for auth feature extraction\n",
            "(7071, 128, 12) window for train classifier\n",
            "(3294, 128, 12) window for evaluate authentication\n",
            "Load model\n",
            "Act 0 EER: 9.707 Trhesh: 0.744\n",
            "Act 1 EER: 10.725 Trhesh: 1.105\n",
            "Act 2 EER: 8.279 Trhesh: 1.142\n",
            "Act 3 EER: 10.000 Trhesh: 1.392\n",
            "Act 4 EER: 7.895 Trhesh: 1.418\n",
            "Act 5 EER: 14.545 Trhesh: 1.451\n",
            "Act 6 EER: 22.396 Trhesh: 1.201\n",
            "Act 7 EER: 6.557 Trhesh: 1.248\n",
            "Act 8 EER: 18.248 Trhesh: 0.854\n",
            "Act 9 EER: 18.876 Trhesh: 0.985\n",
            "Act 10 EER: 4.297 Trhesh: 0.977\n",
            "Act 11 EER: 8.537 Trhesh: 0.737\n",
            "Act 12 EER: 21.091 Trhesh: 0.825\n",
            "Act 13 EER: 8.834 Trhesh: 1.328\n",
            "Act 14 EER: 6.364 Trhesh: 0.845\n",
            "Act 15 EER: 14.335 Trhesh: 0.873\n",
            "Act 16 EER: 6.494 Trhesh: 0.622\n",
            "Act 17 EER: 20.290 Trhesh: 1.704\n",
            "Act 18 EER: 2.273 Trhesh: 0.618\n",
            "Act 19 EER: 0.880 Trhesh: 0.588\n",
            "Act 20 EER: 12.520 Trhesh: 0.636\n",
            "Act 21 EER: 12.991 Trhesh: 0.713\n",
            "Act 22 EER: 2.915 Trhesh: 0.678\n",
            "Act 23 EER: 5.051 Trhesh: 0.617\n",
            "Act 24 EER: 9.146 Trhesh: 0.373\n",
            "Act 25 EER: 20.000 Trhesh: 2.182\n",
            "Act 26 EER: 12.500 Trhesh: 1.792\n",
            "Act 27 EER: 8.759 Trhesh: 1.485\n",
            "Act 28 EER: 23.231 Trhesh: 1.276\n",
            "Act 29 EER: 7.923 Trhesh: 1.312\n",
            "Act 30 EER: 4.444 Trhesh: 0.908\n",
            "Act 31 EER: 3.237 Trhesh: 1.727\n",
            "Act 32 EER: 7.234 Trhesh: 1.218\n"
          ],
          "name": "stdout"
        }
      ]
    },
    {
      "cell_type": "markdown",
      "metadata": {
        "id": "xLeXjPKpQG1O"
      },
      "source": [
        "#### Action independent"
      ]
    },
    {
      "cell_type": "code",
      "metadata": {
        "colab": {
          "base_uri": "https://localhost:8080/"
        },
        "id": "TfazLoWPQG1O",
        "outputId": "30da901c-a673-4048-945e-57f13167eeeb"
      },
      "source": [
        "%run train_model_authentication.py -colab_path '{COLAB_PATH}' -path_data data/authentication/REALDISP_LT/ -name_dataset REALDISP_LT -name_model realdisp_lt -generate_features true -split_gallery_probe random"
      ],
      "execution_count": null,
      "outputs": [
        {
          "output_type": "stream",
          "text": [
            "../drive/My Drive/Laurea Magistrale/Tesi/data/authentication/REALDISP_LT/\n",
            "(10365, 128, 12) total window in dataset\n",
            "12 users for train feature extraction\n",
            "5 users for auth feature extraction\n",
            "(7071, 128, 12) window for train classifier\n",
            "(3294, 128, 12) window for evaluate authentication\n",
            "Load model\n"
          ],
          "name": "stdout"
        },
        {
          "output_type": "stream",
          "text": [
            "WARNING:tensorflow:Layer res_net18single_branch_4 is casting an input tensor from dtype float64 to the layer's dtype of float32, which is new behavior in TensorFlow 2.  The layer has dtype float32 because its dtype defaults to floatx.\n",
            "\n",
            "If you intended to run this layer in float32, you can safely ignore this warning. If in doubt, this warning is likely only an issue if you are porting a TensorFlow 1.X model to TensorFlow 2.\n",
            "\n",
            "To change all layers to have dtype float64 by default, call `tf.keras.backend.set_floatx('float64')`. To change just this layer, pass dtype='float64' to the layer constructor. If you are the author of this layer, you can disable autocasting by passing autocast=False to the base Layer constructor.\n",
            "\n"
          ],
          "name": "stderr"
        },
        {
          "output_type": "stream",
          "text": [
            "Gallery shape: (865, 128, 12, 1)\n",
            "Probe shape: (782, 128, 12, 1)\n",
            "Generate features\n",
            "Shape gallery feature(865, 64)\n",
            "Shape probe feature(782, 64)\n",
            "Save features\n"
          ],
          "name": "stdout"
        }
      ]
    },
    {
      "cell_type": "code",
      "metadata": {
        "colab": {
          "base_uri": "https://localhost:8080/"
        },
        "id": "khjHFVGTQG1O",
        "outputId": "047eb72d-d550-4a09-8deb-a8c4958a74cd"
      },
      "source": [
        "%run train_model_authentication.py -colab_path '{COLAB_PATH}' -path_data data/authentication/REALDISP_LT/ -name_dataset REALDISP_LT -name_model realdisp_lt -compute_distance true -split_gallery_probe random -action_dependent false"
      ],
      "execution_count": null,
      "outputs": [
        {
          "output_type": "stream",
          "text": [
            "../drive/My Drive/Laurea Magistrale/Tesi/data/authentication/REALDISP_LT/\n",
            "(10365, 128, 12) total window in dataset\n",
            "12 users for train feature extraction\n",
            "5 users for auth feature extraction\n",
            "(7071, 128, 12) window for train classifier\n",
            "(3294, 128, 12) window for evaluate authentication\n",
            "Load model\n"
          ],
          "name": "stdout"
        }
      ]
    },
    {
      "cell_type": "code",
      "metadata": {
        "colab": {
          "base_uri": "https://localhost:8080/"
        },
        "id": "KoUpFcnlQG1O",
        "outputId": "cec3ff00-f192-4464-dac9-d4a4cc8bb65f"
      },
      "source": [
        "%run train_model_authentication.py -colab_path '{COLAB_PATH}' -path_data data/authentication/REALDISP_LT/ -name_dataset REALDISP_LT -name_model realdisp_lt -compute_eer true -split_gallery_probe random -action_dependent false"
      ],
      "execution_count": null,
      "outputs": [
        {
          "output_type": "stream",
          "text": [
            "../drive/My Drive/Laurea Magistrale/Tesi/data/authentication/REALDISP_LT/\n",
            "(10365, 128, 12) total window in dataset\n",
            "12 users for train feature extraction\n",
            "5 users for auth feature extraction\n",
            "(7071, 128, 12) window for train classifier\n",
            "(3294, 128, 12) window for evaluate authentication\n",
            "Load model\n",
            "EER: 48.145\n"
          ],
          "name": "stdout"
        }
      ]
    }
  ]
}